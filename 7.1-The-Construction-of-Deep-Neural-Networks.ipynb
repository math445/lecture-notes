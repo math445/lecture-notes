{
 "cells": [
  {
   "cell_type": "code",
   "execution_count": null,
   "metadata": {},
   "outputs": [],
   "source": [
    "using Plots, LaTeXStrings\n",
    "using LinearAlgebra, Optim"
   ]
  },
  {
   "cell_type": "markdown",
   "metadata": {},
   "source": [
    "---\n",
    "\n",
    "# A simple neural network"
   ]
  },
  {
   "cell_type": "code",
   "execution_count": null,
   "metadata": {},
   "outputs": [],
   "source": [
    "# Himmelblau function\n",
    "\n",
    "f(x) = (x[1]^2 + x[2] - 11)^2 + (x[1] + x[2]^2 - 7)^2\n",
    "f(x,y) = f([x,y])"
   ]
  },
  {
   "cell_type": "code",
   "execution_count": null,
   "metadata": {},
   "outputs": [],
   "source": [
    "m, k, N = 2, 1, 1000\n",
    "\n",
    "X = 12*rand(Float32, m, N) .- 6\n",
    "y = reshape([f(X[:,i]) for i=1:N],1,N)"
   ]
  },
  {
   "cell_type": "code",
   "execution_count": null,
   "metadata": {},
   "outputs": [],
   "source": [
    "N_train, N_test = 800, 200\n",
    "X_train, X_test = X[:,1:N_train], X[:,N_train+1:N]\n",
    "y_train, y_test = y[:,1:N_train], y[:,N_train+1:N]\n",
    "size(X_train), size(X_test)"
   ]
  },
  {
   "cell_type": "code",
   "execution_count": null,
   "metadata": {},
   "outputs": [],
   "source": [
    "ax, bx = -6, 6\n",
    "ay, by = -6, 6\n",
    "\n",
    "xx = range(ax, bx, length=200)\n",
    "yy = range(ay, by, length=200)\n",
    "flevels = [0, 5, 20, 40, 60, 80, 100, 120, 150, 180, 300, 400, 600]\n",
    "\n",
    "plt1 = plot(xlabel=L\"x\", ylabel=L\"y\", aspect_ratio=:equal, colorbar=:none, size=(600,600),\n",
    "    xlims=(ax,bx), ylims=(ay,by), legend=:none)\n",
    "contour!(xx, yy, f, levels=flevels, color=1, contour_labels=true)\n",
    "#scatter!(X_train[1,:], X_train[2,:], c=2, label=\"train\")\n",
    "#scatter!(X_test[1,:], X_test[2,:], c=3, label=\"test\")"
   ]
  },
  {
   "cell_type": "code",
   "execution_count": null,
   "metadata": {},
   "outputs": [],
   "source": [
    "N0, N1 = m, 16\n",
    "\n",
    "σ = sqrt(2/N1)\n",
    "\n",
    "# Neural network parameters\n",
    "A1 = σ*randn(N1, N0); b1 = σ*randn(N1)\n",
    "A2 = σ*randn(N1);     b2 = σ*randn()\n",
    "\n",
    "ReLU(z) = max.(0, z)\n",
    "\n",
    "F1(v0) = ReLU(A1*v0 + b1)\n",
    "F2(v1) = dot(A2,v1) + b2\n",
    "\n",
    "F(v) = F2(F1(v))\n",
    "F(x,y) = F([x,y])"
   ]
  },
  {
   "cell_type": "code",
   "execution_count": null,
   "metadata": {},
   "outputs": [],
   "source": [
    "F(1.0, 1.0), f(1.0, 1.0)"
   ]
  },
  {
   "cell_type": "code",
   "execution_count": null,
   "metadata": {},
   "outputs": [],
   "source": [
    "plot(xlabel=L\"x\", ylabel=L\"y\", aspect_ratio=:equal, colorbar=:none, size=(600,600),\n",
    "    xlims=(ax,bx), ylims=(ay,by))\n",
    "contour!(xx, yy, F, levels=-10:0.1:10, color=:black, contour_labels=true)"
   ]
  },
  {
   "cell_type": "code",
   "execution_count": null,
   "metadata": {},
   "outputs": [],
   "source": [
    "n = (N1*N0 + N1) + (N1 + 1)\n",
    "\n",
    "x0 = [A1[:]; b1; A2[:]; b2]\n",
    "\n",
    "length(x0)"
   ]
  },
  {
   "cell_type": "code",
   "execution_count": null,
   "metadata": {},
   "outputs": [],
   "source": [
    "F1(x,v0) = ReLU(reshape(x[1:N1*N0],N1,N0)*v0 \n",
    "    + x[N1*N0+1:(N1*N0+N1)])\n",
    "\n",
    "F2(x,v1) = dot(x[(N1*N0+N1)+1:end-1], v1) + x[end]\n",
    "\n",
    "F(x,vi) = F2(x,F1(x,vi))"
   ]
  },
  {
   "cell_type": "code",
   "execution_count": null,
   "metadata": {},
   "outputs": [],
   "source": [
    "F(x0, [1.0, 1.0]), F([1.0, 1.0])"
   ]
  },
  {
   "cell_type": "code",
   "execution_count": null,
   "metadata": {},
   "outputs": [],
   "source": [
    "# Prediction function\n",
    "ŷ(x, X) = [F(x,X[:,i]) for i=1:size(X,2)]\n",
    "\n",
    "loss(x, X, y) = 1/length(y)*sum((ŷ(x, X) - y[:]).^2)\n",
    "\n",
    "loss(x0, X_train, y_train), loss(x0, X_test, y_test)"
   ]
  },
  {
   "cell_type": "code",
   "execution_count": null,
   "metadata": {},
   "outputs": [],
   "source": [
    "# Random direction\n",
    "d = randn(length(x0)); d ./= norm(d)\n",
    "\n",
    "tt = range(0, 50, length=200)\n",
    "ltrain = [loss(x0+t*d, X_train, y_train) for t in tt]\n",
    "ltest = [loss(x0+t*d, X_test, y_test) for t in tt]\n",
    "\n",
    "plot(tt, ltrain, label=\"train loss\")\n",
    "plot!(tt, ltest, label=\"test loss\")"
   ]
  },
  {
   "cell_type": "code",
   "execution_count": null,
   "metadata": {},
   "outputs": [],
   "source": [
    "@time res = optimize(x -> loss(x, X_train, y_train), x0, LBFGS(), autodiff=:forward)\n",
    "\n",
    "xmin = res.minimizer\n",
    "\n",
    "loss(xmin, X_train, y_train), loss(xmin, X_test, y_test)"
   ]
  },
  {
   "cell_type": "code",
   "execution_count": null,
   "metadata": {},
   "outputs": [],
   "source": [
    "plot(xlabel=L\"x\", ylabel=L\"y\", aspect_ratio=:equal, colorbar=:none, size=(600,600),\n",
    "    xlims=(ax,bx), ylims=(ay,by))\n",
    "contour!(xx, yy, f, levels=flevels, color=1, contour_labels=true)\n",
    "contour!(xx, yy, (s,t)->F(xmin,[s,t]), levels=flevels, color=:black, contour_labels=true)"
   ]
  },
  {
   "cell_type": "code",
   "execution_count": null,
   "metadata": {},
   "outputs": [],
   "source": [
    "plt1 = plot(aspect_ratio=:equal, colorbar=:none, size=(600,600),\n",
    "    xlims=(ax,bx), ylims=(ay,by), legend=:none)\n",
    "contour!(xx, yy, f, levels=flevels, color=1, contour_labels=true)\n",
    "\n",
    "plt2 = plot(aspect_ratio=:equal, colorbar=:none, size=(600,600),\n",
    "    xlims=(ax,bx), ylims=(ay,by))\n",
    "contour!(xx, yy, (s,t)->F(xmin,[s,t]), levels=flevels, color=:black, contour_labels=true)\n",
    "\n",
    "plot(plt1, plt2, layout=(1,2), size=(900,500))"
   ]
  },
  {
   "cell_type": "code",
   "execution_count": null,
   "metadata": {},
   "outputs": [],
   "source": [
    "d = randn(length(x0)); d ./= norm(d)\n",
    "tt = range(0, 1, length=200)\n",
    "ltrain = [loss(xmin+t*d, X_train, y_train) for t in tt]\n",
    "ltest = [loss(xmin+t*d, X_test, y_test) for t in tt]\n",
    "plot(tt, ltrain, label=\"train loss\")\n",
    "plot!(tt, ltest, label=\"test loss\")"
   ]
  },
  {
   "cell_type": "markdown",
   "metadata": {},
   "source": [
    "---\n",
    "\n",
    "# Flux.jl"
   ]
  },
  {
   "cell_type": "code",
   "execution_count": null,
   "metadata": {},
   "outputs": [],
   "source": [
    "using Flux\n",
    "using Flux: params\n",
    "using Flux.Losses: mse\n",
    "using Flux.Data: DataLoader\n",
    "using Flux.Optimise"
   ]
  },
  {
   "cell_type": "code",
   "execution_count": null,
   "metadata": {},
   "outputs": [],
   "source": [
    "model = Chain(\n",
    "    Dense(2, 64, relu),\n",
    "    Dense(64, 32, relu),\n",
    "    Dense(32, 16, relu),\n",
    "    Dense(16, 8, relu),\n",
    "    Dense(8, 1))\n",
    "\n",
    "loss(x, y) = mse(model(x), y)\n",
    "\n",
    "ps = params(model)\n",
    "\n",
    "F(x,y) = model([x,y])[1]\n",
    "\n",
    "plot(xlabel=L\"x\", ylabel=L\"y\", aspect_ratio=:equal, colorbar=:none, size=(600,600),\n",
    "    xlims=(ax,bx), ylims=(ay,by))\n",
    "contour!(xx, yy, F, levels=-1:0.05:1, color=:black, contour_labels=true)"
   ]
  },
  {
   "cell_type": "code",
   "execution_count": null,
   "metadata": {},
   "outputs": [],
   "source": [
    "data = DataLoader(X, y, batchsize=200)\n",
    "\n",
    "#opt = Descent(1e-6)\n",
    "#opt = Momentum(1e-6)\n",
    "#opt = Nesterov(1e-6)\n",
    "opt = ADAM()"
   ]
  },
  {
   "cell_type": "code",
   "execution_count": null,
   "metadata": {},
   "outputs": [],
   "source": [
    "@time begin\n",
    "    epochs = 1000\n",
    "    for epochs = 1:epochs\n",
    "        for d in data\n",
    "            gs = gradient(ps) do\n",
    "                l = loss(d...)\n",
    "            end\n",
    "            update!(opt, ps, gs)\n",
    "        end\n",
    "    end\n",
    "end\n",
    "@show loss(X, y)\n",
    "\n",
    "plot(xlabel=L\"x\", ylabel=L\"y\", aspect_ratio=:equal, colorbar=:none, size=(600,600),\n",
    "    xlims=(ax,bx), ylims=(ay,by))\n",
    "contour!(xx, yy, f, levels=flevels, color=1, contour_labels=true)\n",
    "contour!(xx, yy, F, levels=flevels, color=:black, contour_labels=true)"
   ]
  },
  {
   "cell_type": "code",
   "execution_count": null,
   "metadata": {},
   "outputs": [],
   "source": [
    "plt1 = plot(xlabel=L\"x\", ylabel=L\"y\", aspect_ratio=:equal, colorbar=:none, size=(600,600),\n",
    "    xlims=(ax,bx), ylims=(ay,by), legend=:none)\n",
    "contour!(xx, yy, f, levels=flevels, color=1, contour_labels=true)\n",
    "\n",
    "plt2 = plot(xlabel=L\"x\", ylabel=L\"y\", aspect_ratio=:equal, colorbar=:none, size=(600,600),\n",
    "    xlims=(ax,bx), ylims=(ay,by))\n",
    "contour!(xx, yy, F, levels=flevels, color=:black, contour_labels=true)\n",
    "\n",
    "plot(plt1, plt2, layout=(1,2), size=(900,500))"
   ]
  },
  {
   "cell_type": "markdown",
   "metadata": {},
   "source": [
    "---\n",
    "\n",
    "# Classification"
   ]
  },
  {
   "cell_type": "code",
   "execution_count": null,
   "metadata": {},
   "outputs": [],
   "source": [
    "using Flux.Losses: binarycrossentropy"
   ]
  },
  {
   "cell_type": "code",
   "execution_count": null,
   "metadata": {},
   "outputs": [],
   "source": [
    "cutoff = 60\n",
    "\n",
    "posinds = findall(y_train[:] .<= cutoff)\n",
    "neginds = findall(y_train[:] .> cutoff)\n",
    "\n",
    "length(posinds), length(neginds)"
   ]
  },
  {
   "cell_type": "code",
   "execution_count": null,
   "metadata": {},
   "outputs": [],
   "source": [
    "plot(xlabel=L\"x\", ylabel=L\"y\", aspect_ratio=:equal, size=(600,600),\n",
    "    xlims=(ax,bx), ylims=(ay,by))\n",
    "contourf!(xx, yy, (x,y) -> f(x,y) <= cutoff, c=:binary)\n",
    "Plots.scatter!(X_train[1,posinds], X_train[2,posinds], c=2, label=:none)\n",
    "Plots.scatter!(X_train[1,neginds], X_train[2,neginds], c=3, label=:none)"
   ]
  },
  {
   "cell_type": "code",
   "execution_count": null,
   "metadata": {},
   "outputs": [],
   "source": [
    "yb = 1f0*(y .<= cutoff)\n",
    "yb_train, yb_test = yb[:,1:N_train], yb[:,N_train+1:N]\n",
    "size(X_train), size(yb_train)"
   ]
  },
  {
   "cell_type": "code",
   "execution_count": null,
   "metadata": {},
   "outputs": [],
   "source": [
    "model = Chain(\n",
    "    Dense(2, 64, relu),\n",
    "    Dense(64, 32, relu),\n",
    "    Dense(32, 16, relu),\n",
    "    Dense(16, 8, relu),\n",
    "    Dense(8, 1, sigmoid))\n",
    "\n",
    "loss(x, y) = binarycrossentropy(model(x), y)\n",
    "accuracy(x,y) = sum(abs.(round.(model(x)) - y))/length(y)\n",
    "\n",
    "ps = params(model)\n",
    "\n",
    "@show loss(X_train, yb_train)\n",
    "@show accuracy(X_train, yb_train)\n",
    "\n",
    "F(x,y) = round(model([x,y])[1])\n",
    "\n",
    "plot(xlabel=L\"x\", ylabel=L\"y\", aspect_ratio=:equal, size=(600,600),\n",
    "    xlims=(ax,bx), ylims=(ay,by))\n",
    "contourf!(xx, yy, F, c=:binary)"
   ]
  },
  {
   "cell_type": "code",
   "execution_count": null,
   "metadata": {},
   "outputs": [],
   "source": [
    "data = DataLoader(X_train, yb_train, batchsize=100)\n",
    "\n",
    "opt = ADAM()"
   ]
  },
  {
   "cell_type": "code",
   "execution_count": null,
   "metadata": {},
   "outputs": [],
   "source": [
    "@time begin\n",
    "    epochs = 100\n",
    "    for epochs = 1:epochs\n",
    "        for d in data\n",
    "            gs = gradient(ps) do\n",
    "                l = loss(d...)\n",
    "            end\n",
    "            update!(opt, ps, gs)\n",
    "        end\n",
    "    end\n",
    "end\n",
    "@show loss(X_train, yb_train)\n",
    "@show accuracy(X_train, yb_train)\n",
    "@show accuracy(X_test, yb_test)\n",
    "\n",
    "plot(xlabel=L\"x\", ylabel=L\"y\", aspect_ratio=:equal, size=(600,600),\n",
    "    xlims=(ax,bx), ylims=(ay,by))\n",
    "contourf!(xx, yy, F, c=:binary)"
   ]
  },
  {
   "cell_type": "code",
   "execution_count": null,
   "metadata": {},
   "outputs": [],
   "source": [
    "plt1 = plot(aspect_ratio=:equal, size=(600,600), xlims=(ax,bx), ylims=(ay,by), legend=:none)\n",
    "contourf!(xx, yy, (x,y) -> f(x,y) <= cutoff, c=:binary)\n",
    "Plots.scatter!(X_train[1,posinds], X_train[2,posinds], c=2, label=:none)\n",
    "Plots.scatter!(X_train[1,neginds], X_train[2,neginds], c=3, label=:none)\n",
    "\n",
    "plt2 = plot(aspect_ratio=:equal, size=(600,600), xlims=(ax,bx), ylims=(ay,by), legend=:none)\n",
    "contourf!(xx, yy, F, c=:binary)\n",
    "Plots.scatter!(X_train[1,posinds], X_train[2,posinds], c=2, label=:none)\n",
    "Plots.scatter!(X_train[1,neginds], X_train[2,neginds], c=3, label=:none)\n",
    "    \n",
    "plot(plt1, plt2, layout=(1,2), size=(900,500))"
   ]
  },
  {
   "cell_type": "markdown",
   "metadata": {},
   "source": [
    "---"
   ]
  }
 ],
 "metadata": {
  "@webio": {
   "lastCommId": null,
   "lastKernelId": null
  },
  "kernelspec": {
   "display_name": "Julia 1.6.0",
   "language": "julia",
   "name": "julia-1.6"
  },
  "language_info": {
   "file_extension": ".jl",
   "mimetype": "application/julia",
   "name": "julia",
   "version": "1.6.0"
  }
 },
 "nbformat": 4,
 "nbformat_minor": 5
}
