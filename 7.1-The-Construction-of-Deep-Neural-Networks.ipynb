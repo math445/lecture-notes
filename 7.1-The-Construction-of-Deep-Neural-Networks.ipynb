{
 "cells": [
  {
   "cell_type": "code",
   "execution_count": null,
   "id": "coordinated-trace",
   "metadata": {},
   "outputs": [],
   "source": [
    "using Plots, LaTeXStrings\n",
    "using LinearAlgebra, Optim"
   ]
  },
  {
   "cell_type": "markdown",
   "id": "black-vegetarian",
   "metadata": {},
   "source": [
    "---\n",
    "\n",
    "# A simple neural network"
   ]
  },
  {
   "cell_type": "code",
   "execution_count": null,
   "id": "sufficient-female",
   "metadata": {},
   "outputs": [],
   "source": [
    "# Himmelblau function\n",
    "\n",
    "f(x) = (x[1]^2 + x[2] - 11)^2 + (x[1] + x[2]^2 - 7)^2\n",
    "f(x,y) = f([x,y])"
   ]
  },
  {
   "cell_type": "code",
   "execution_count": null,
   "id": "376f0557",
   "metadata": {},
   "outputs": [],
   "source": [
    "N = 1000\n",
    "\n",
    "X = 12*rand(Float32, 2, N) .- 6"
   ]
  },
  {
   "cell_type": "code",
   "execution_count": null,
   "id": "empty-accommodation",
   "metadata": {},
   "outputs": [],
   "source": [
    "y = reshape([f(X[:,i]) for i=1:N], 1, N)"
   ]
  },
  {
   "cell_type": "code",
   "execution_count": null,
   "id": "italian-saskatchewan",
   "metadata": {},
   "outputs": [],
   "source": [
    "N_train, N_test = 800, 200\n",
    "X_train, X_test = X[:,1:N_train], X[:,N_train+1:N]\n",
    "y_train, y_test = y[:,1:N_train], y[:,N_train+1:N]\n",
    "size(X_train), size(X_test)"
   ]
  },
  {
   "cell_type": "code",
   "execution_count": null,
   "id": "iraqi-moldova",
   "metadata": {},
   "outputs": [],
   "source": [
    "ax, bx = -6, 6\n",
    "ay, by = -6, 6\n",
    "\n",
    "xx = range(ax, bx, length=200)\n",
    "yy = range(ay, by, length=200)\n",
    "flevels = [0, 5, 20, 40, 60, 80, 100, 120, 150, 180, 300, 400, 600]\n",
    "\n",
    "plt1 = plot(xlabel=L\"x\", ylabel=L\"y\", aspect_ratio=:equal, colorbar=:none, size=(600,600),\n",
    "    xlims=(ax,bx), ylims=(ay,by), legend=:none)\n",
    "contour!(xx, yy, f, levels=flevels, color=1, contour_labels=true)\n",
    "#scatter!(X_train[1,:], X_train[2,:], c=2, label=\"train\")\n",
    "#scatter!(X_test[1,:], X_test[2,:], c=3, label=\"test\")"
   ]
  },
  {
   "cell_type": "code",
   "execution_count": null,
   "id": "confirmed-coating",
   "metadata": {},
   "outputs": [],
   "source": [
    "N0, N1 = 2, 16\n",
    "\n",
    "σ = sqrt(2/N1)\n",
    "\n",
    "# Neural network parameters\n",
    "A1 = σ*randn(N1, N0); b1 = σ*randn(N1)\n",
    "A2 = σ*randn(N1);     b2 = σ*randn()\n",
    "\n",
    "ReLU(z) = max.(0, z)\n",
    "\n",
    "F1(v0) = ReLU(A1*v0 + b1)\n",
    "F2(v1) = dot(A2,v1) + b2\n",
    "\n",
    "F(v) = F2(F1(v))\n",
    "F(x,y) = F([x,y])"
   ]
  },
  {
   "cell_type": "code",
   "execution_count": null,
   "id": "square-inventory",
   "metadata": {},
   "outputs": [],
   "source": [
    "F(1.0, 1.0), f(1.0, 1.0)"
   ]
  },
  {
   "cell_type": "code",
   "execution_count": null,
   "id": "freelance-solomon",
   "metadata": {},
   "outputs": [],
   "source": [
    "plot(xlabel=L\"x\", ylabel=L\"y\", aspect_ratio=:equal, colorbar=:none, size=(600,600),\n",
    "    xlims=(ax,bx), ylims=(ay,by))\n",
    "contour!(xx, yy, F, levels=-10:0.1:10, color=:black, contour_labels=true)"
   ]
  },
  {
   "cell_type": "code",
   "execution_count": null,
   "id": "cathedral-warning",
   "metadata": {},
   "outputs": [],
   "source": [
    "n = (N1*N0 + N1) + (N1 + 1)\n",
    "\n",
    "x0 = [A1[:]; b1; A2[:]; b2]\n",
    "\n",
    "length(x0)"
   ]
  },
  {
   "cell_type": "code",
   "execution_count": null,
   "id": "acting-copying",
   "metadata": {},
   "outputs": [],
   "source": [
    "F1(x,v0) = ReLU(reshape(x[1:N1*N0],N1,N0)*v0 \n",
    "    + x[N1*N0+1:(N1*N0+N1)])\n",
    "\n",
    "F2(x,v1) = dot(x[(N1*N0+N1)+1:end-1], v1) + x[end]\n",
    "\n",
    "F(x,vi) = F2(x,F1(x,vi))"
   ]
  },
  {
   "cell_type": "code",
   "execution_count": null,
   "id": "complex-letters",
   "metadata": {},
   "outputs": [],
   "source": [
    "F(x0, [1.0, 1.0]), F([1.0, 1.0])"
   ]
  },
  {
   "cell_type": "code",
   "execution_count": null,
   "id": "informative-disposition",
   "metadata": {},
   "outputs": [],
   "source": [
    "# Prediction function\n",
    "ŷ(x, X) = [F(x,X[:,i]) for i=1:size(X,2)]\n",
    "\n",
    "loss(x, X, y) = 1/length(y)*sum((ŷ(x, X) - y[:]).^2)\n",
    "\n",
    "loss(x0, X_train, y_train), loss(x0, X_test, y_test)"
   ]
  },
  {
   "cell_type": "code",
   "execution_count": null,
   "id": "offshore-nothing",
   "metadata": {},
   "outputs": [],
   "source": [
    "# Random direction\n",
    "d = randn(length(x0)); d ./= norm(d)\n",
    "\n",
    "tt = range(0, 50, length=200)\n",
    "ltrain = [loss(x0+t*d, X_train, y_train) for t in tt]\n",
    "ltest = [loss(x0+t*d, X_test, y_test) for t in tt]\n",
    "\n",
    "plot(tt, ltrain, label=\"train loss\")\n",
    "plot!(tt, ltest, label=\"test loss\")"
   ]
  },
  {
   "cell_type": "code",
   "execution_count": null,
   "id": "dirty-section",
   "metadata": {},
   "outputs": [],
   "source": [
    "@time res = optimize(x -> loss(x, X_train, y_train), x0, LBFGS(), autodiff=:forward)\n",
    "\n",
    "xmin = res.minimizer\n",
    "\n",
    "loss(xmin, X_train, y_train), loss(xmin, X_test, y_test)"
   ]
  },
  {
   "cell_type": "code",
   "execution_count": null,
   "id": "pretty-storm",
   "metadata": {},
   "outputs": [],
   "source": [
    "plot(xlabel=L\"x\", ylabel=L\"y\", aspect_ratio=:equal, colorbar=:none, size=(600,600),\n",
    "    xlims=(ax,bx), ylims=(ay,by))\n",
    "contour!(xx, yy, f, levels=flevels, color=1, contour_labels=true)\n",
    "contour!(xx, yy, (s,t)->F(xmin,[s,t]), levels=flevels, color=:black, contour_labels=true)"
   ]
  },
  {
   "cell_type": "code",
   "execution_count": null,
   "id": "loaded-buffer",
   "metadata": {},
   "outputs": [],
   "source": [
    "plt1 = plot(aspect_ratio=:equal, colorbar=:none, size=(600,600),\n",
    "    xlims=(ax,bx), ylims=(ay,by), legend=:none)\n",
    "contour!(xx, yy, f, levels=flevels, color=1, contour_labels=true)\n",
    "\n",
    "plt2 = plot(aspect_ratio=:equal, colorbar=:none, size=(600,600),\n",
    "    xlims=(ax,bx), ylims=(ay,by))\n",
    "contour!(xx, yy, (s,t)->F(xmin,[s,t]), levels=flevels, color=:black, contour_labels=true)\n",
    "\n",
    "plot(plt1, plt2, layout=(1,2), size=(900,500))"
   ]
  },
  {
   "cell_type": "code",
   "execution_count": null,
   "id": "precise-admission",
   "metadata": {},
   "outputs": [],
   "source": [
    "d = randn(length(x0)); d ./= norm(d)\n",
    "tt = range(0, 1, length=200)\n",
    "ltrain = [loss(xmin+t*d, X_train, y_train) for t in tt]\n",
    "ltest = [loss(xmin+t*d, X_test, y_test) for t in tt]\n",
    "plot(tt, ltrain, label=\"train loss\")\n",
    "plot!(tt, ltest, label=\"test loss\")"
   ]
  },
  {
   "cell_type": "markdown",
   "id": "wicked-therapist",
   "metadata": {},
   "source": [
    "---\n",
    "\n",
    "# Flux.jl"
   ]
  },
  {
   "cell_type": "code",
   "execution_count": null,
   "id": "preliminary-arcade",
   "metadata": {},
   "outputs": [],
   "source": [
    "using Flux\n",
    "using Flux: params\n",
    "using Flux.Losses: mse\n",
    "using Flux.Data: DataLoader\n",
    "using Flux.Optimise"
   ]
  },
  {
   "cell_type": "code",
   "execution_count": null,
   "id": "surrounded-teaching",
   "metadata": {},
   "outputs": [],
   "source": [
    "model = Chain(\n",
    "    Dense(2, 64, relu),\n",
    "    Dense(64, 32, relu),\n",
    "    Dense(32, 16, relu),\n",
    "    Dense(16, 8, relu),\n",
    "    Dense(8, 1))\n",
    "\n",
    "loss(x, y) = mse(model(x), y)\n",
    "\n",
    "ps = params(model)"
   ]
  },
  {
   "cell_type": "code",
   "execution_count": null,
   "id": "tamil-scope",
   "metadata": {},
   "outputs": [],
   "source": [
    "64*2 + 64 + 32*64 + 32 + 16*32 + 16 + 8*16 + 8 + 1*8 + 1"
   ]
  },
  {
   "cell_type": "code",
   "execution_count": null,
   "id": "suffering-business",
   "metadata": {},
   "outputs": [],
   "source": [
    "F(x,y) = model([x,y])[1]\n",
    "\n",
    "plot(xlabel=L\"x\", ylabel=L\"y\", aspect_ratio=:equal, colorbar=:none, size=(600,600),\n",
    "    xlims=(ax,bx), ylims=(ay,by))\n",
    "contour!(xx, yy, F, levels=-1:0.05:1, color=:black, contour_labels=true)"
   ]
  },
  {
   "cell_type": "code",
   "execution_count": null,
   "id": "dominant-sharing",
   "metadata": {},
   "outputs": [],
   "source": [
    "data = DataLoader((X_train, y_train), batchsize=200)\n",
    "\n",
    "#opt = Descent(1e-6)\n",
    "#opt = Momentum(1e-6)\n",
    "#opt = Nesterov(1e-6)\n",
    "opt = ADAM()"
   ]
  },
  {
   "cell_type": "code",
   "execution_count": null,
   "id": "64e88c8a",
   "metadata": {},
   "outputs": [],
   "source": [
    "@time begin\n",
    "    epochs = 1000\n",
    "    for epoch = 1:epochs\n",
    "        train!(loss, ps, data, opt)\n",
    "        if epoch%100==0\n",
    "            @show loss(X_train, y_train)\n",
    "        end\n",
    "    end\n",
    "end\n",
    "@show loss(X, y)"
   ]
  },
  {
   "cell_type": "code",
   "execution_count": null,
   "id": "bound-uniform",
   "metadata": {},
   "outputs": [],
   "source": [
    "plot(xlabel=L\"x\", ylabel=L\"y\", aspect_ratio=:equal, colorbar=:none, size=(600,600),\n",
    "    xlims=(ax,bx), ylims=(ay,by))\n",
    "contour!(xx, yy, f, levels=flevels, color=1, contour_labels=true)\n",
    "contour!(xx, yy, F, levels=flevels, color=:black, contour_labels=true)"
   ]
  },
  {
   "cell_type": "code",
   "execution_count": null,
   "id": "stuck-jurisdiction",
   "metadata": {},
   "outputs": [],
   "source": [
    "plt1 = plot(xlabel=L\"x\", ylabel=L\"y\", aspect_ratio=:equal, colorbar=:none, size=(600,600),\n",
    "    xlims=(ax,bx), ylims=(ay,by), legend=:none)\n",
    "contour!(xx, yy, f, levels=flevels, color=1, contour_labels=true)\n",
    "\n",
    "plt2 = plot(xlabel=L\"x\", ylabel=L\"y\", aspect_ratio=:equal, colorbar=:none, size=(600,600),\n",
    "    xlims=(ax,bx), ylims=(ay,by))\n",
    "contour!(xx, yy, F, levels=flevels, color=:black, contour_labels=true)\n",
    "\n",
    "plot(plt1, plt2, layout=(1,2), size=(900,500))"
   ]
  },
  {
   "cell_type": "markdown",
   "id": "loving-newton",
   "metadata": {},
   "source": [
    "---\n",
    "\n",
    "# Classification"
   ]
  },
  {
   "cell_type": "code",
   "execution_count": null,
   "id": "express-black",
   "metadata": {},
   "outputs": [],
   "source": [
    "using Flux.Losses: binarycrossentropy"
   ]
  },
  {
   "cell_type": "code",
   "execution_count": null,
   "id": "seven-dietary",
   "metadata": {},
   "outputs": [],
   "source": [
    "cutoff = 60\n",
    "\n",
    "posinds = findall(y_train[:] .<= cutoff)\n",
    "neginds = findall(y_train[:] .> cutoff)\n",
    "\n",
    "length(posinds), length(neginds)"
   ]
  },
  {
   "cell_type": "code",
   "execution_count": null,
   "id": "appointed-buyer",
   "metadata": {},
   "outputs": [],
   "source": [
    "plot(xlabel=L\"x\", ylabel=L\"y\", aspect_ratio=:equal, size=(600,600),\n",
    "    xlims=(ax,bx), ylims=(ay,by))\n",
    "contourf!(xx, yy, (x,y) -> f(x,y) <= cutoff, c=:binary)\n",
    "Plots.scatter!(X_train[1,posinds], X_train[2,posinds], c=2, label=:none)\n",
    "Plots.scatter!(X_train[1,neginds], X_train[2,neginds], c=3, label=:none)"
   ]
  },
  {
   "cell_type": "code",
   "execution_count": null,
   "id": "certified-logistics",
   "metadata": {},
   "outputs": [],
   "source": [
    "yb = 1f0*(y .<= cutoff)\n",
    "yb_train, yb_test = yb[:,1:N_train], yb[:,N_train+1:N]\n",
    "size(X_train), size(yb_train)"
   ]
  },
  {
   "cell_type": "code",
   "execution_count": null,
   "id": "induced-wiring",
   "metadata": {},
   "outputs": [],
   "source": [
    "yb"
   ]
  },
  {
   "cell_type": "code",
   "execution_count": null,
   "id": "8f3b7e01",
   "metadata": {},
   "outputs": [],
   "source": [
    "model = Chain(\n",
    "    Dense(2, 64, relu),\n",
    "    Dense(64, 32, relu),\n",
    "    Dense(32, 16, relu),\n",
    "    Dense(16, 8, relu),\n",
    "    Dense(8, 1, sigmoid))\n",
    "\n",
    "loss(x, y) = binarycrossentropy(model(x), y)\n",
    "accuracy(x,y) = 100*sum(round.(model(x)) .== y)/length(y)\n",
    "\n",
    "ps = params(model)\n",
    "\n",
    "@show loss(X_train, yb_train)\n",
    "@show accuracy(X_train, yb_train)"
   ]
  },
  {
   "cell_type": "code",
   "execution_count": null,
   "id": "exceptional-playback",
   "metadata": {},
   "outputs": [],
   "source": [
    "F(x,y) = round(model([x,y])[1])\n",
    "\n",
    "plot(xlabel=L\"x\", ylabel=L\"y\", aspect_ratio=:equal, size=(600,600),\n",
    "    xlims=(ax,bx), ylims=(ay,by))\n",
    "contourf!(xx, yy, F, c=:binary)"
   ]
  },
  {
   "cell_type": "code",
   "execution_count": null,
   "id": "502f531c",
   "metadata": {},
   "outputs": [],
   "source": [
    "X_train"
   ]
  },
  {
   "cell_type": "code",
   "execution_count": null,
   "id": "c70f0c4a",
   "metadata": {},
   "outputs": [],
   "source": [
    "yb_train"
   ]
  },
  {
   "cell_type": "code",
   "execution_count": null,
   "id": "adbbe6aa",
   "metadata": {},
   "outputs": [],
   "source": [
    "X_test"
   ]
  },
  {
   "cell_type": "code",
   "execution_count": null,
   "id": "abd6d5e5",
   "metadata": {},
   "outputs": [],
   "source": [
    "yb_test"
   ]
  },
  {
   "cell_type": "code",
   "execution_count": null,
   "id": "equivalent-footage",
   "metadata": {},
   "outputs": [],
   "source": [
    "data = DataLoader((X_train, yb_train), batchsize=100)\n",
    "\n",
    "opt = ADAM()"
   ]
  },
  {
   "cell_type": "code",
   "execution_count": null,
   "id": "068b49bb",
   "metadata": {},
   "outputs": [],
   "source": [
    "@time begin\n",
    "    epochs = 500\n",
    "    for epoch = 1:epochs\n",
    "        train!(loss, ps, data, opt)\n",
    "        if epoch%100==0\n",
    "            @show loss(X_train, yb_train)\n",
    "        end\n",
    "    end\n",
    "end\n",
    "\n",
    "@show accuracy(X_train, yb_train)\n",
    "@show accuracy(X_test, yb_test)"
   ]
  },
  {
   "cell_type": "code",
   "execution_count": null,
   "id": "sealed-destination",
   "metadata": {},
   "outputs": [],
   "source": [
    "plot(xlabel=L\"x\", ylabel=L\"y\", aspect_ratio=:equal, size=(600,600),\n",
    "    xlims=(ax,bx), ylims=(ay,by))\n",
    "contourf!(xx, yy, F, c=:binary)"
   ]
  },
  {
   "cell_type": "code",
   "execution_count": null,
   "id": "physical-relaxation",
   "metadata": {},
   "outputs": [],
   "source": [
    "plt1 = plot(aspect_ratio=:equal, size=(600,600), xlims=(ax,bx), ylims=(ay,by), legend=:none)\n",
    "contourf!(xx, yy, (x,y) -> f(x,y) <= cutoff, c=:binary)\n",
    "Plots.scatter!(X_train[1,posinds], X_train[2,posinds], c=2, label=:none)\n",
    "Plots.scatter!(X_train[1,neginds], X_train[2,neginds], c=3, label=:none)\n",
    "\n",
    "plt2 = plot(aspect_ratio=:equal, size=(600,600), xlims=(ax,bx), ylims=(ay,by), legend=:none)\n",
    "contourf!(xx, yy, F, c=:binary)\n",
    "Plots.scatter!(X_train[1,posinds], X_train[2,posinds], c=2, label=:none)\n",
    "Plots.scatter!(X_train[1,neginds], X_train[2,neginds], c=3, label=:none)\n",
    "    \n",
    "plot(plt1, plt2, layout=(1,2), size=(900,500))"
   ]
  },
  {
   "cell_type": "markdown",
   "id": "original-relation",
   "metadata": {},
   "source": [
    "---"
   ]
  }
 ],
 "metadata": {
  "@webio": {
   "lastCommId": null,
   "lastKernelId": null
  },
  "kernelspec": {
   "display_name": "Julia 1.6.1",
   "language": "julia",
   "name": "julia-1.6"
  },
  "language_info": {
   "file_extension": ".jl",
   "mimetype": "application/julia",
   "name": "julia",
   "version": "1.6.1"
  }
 },
 "nbformat": 4,
 "nbformat_minor": 5
}
