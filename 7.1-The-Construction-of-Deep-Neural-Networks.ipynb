{
 "cells": [
  {
   "cell_type": "code",
   "execution_count": null,
   "id": "southern-first",
   "metadata": {},
   "outputs": [],
   "source": [
    "using Plots, LaTeXStrings\n",
    "using LinearAlgebra, Optim"
   ]
  },
  {
   "cell_type": "code",
   "execution_count": null,
   "id": "relevant-booth",
   "metadata": {},
   "outputs": [],
   "source": [
    "m, k, N = 2, 1, 1000\n",
    "\n",
    "X = 12*rand(m, N) .- 6\n",
    "\n",
    "f(x) = (x[1]^2 + x[2] - 11)^2 + (x[1] + x[2]^2 - 7)^2\n",
    "f(x,y) = f([x,y])\n",
    "\n",
    "y = [f(X[:,i]) for i=1:N];"
   ]
  },
  {
   "cell_type": "code",
   "execution_count": null,
   "id": "specific-billy",
   "metadata": {},
   "outputs": [],
   "source": [
    "N_train, N_test = 800, 200\n",
    "X_train, X_test = X[:,1:N_train], X[:,N_train+1:N]\n",
    "y_train, y_test = y[1:N_train], y[N_train+1:N]\n",
    "size(X_train), size(X_test)"
   ]
  },
  {
   "cell_type": "code",
   "execution_count": null,
   "id": "genuine-consolidation",
   "metadata": {},
   "outputs": [],
   "source": [
    "ax, bx = -6, 6\n",
    "ay, by = -6, 6\n",
    "\n",
    "xx = range(ax, bx, length=200)\n",
    "yy = range(ay, by, length=200)\n",
    "flevels = [0, 5, 20, 40, 60, 80, 100, 120, 150, 180, 300, 400, 600]\n",
    "\n",
    "plt1 = plot(xlabel=L\"x\", ylabel=L\"y\", aspect_ratio=:equal, colorbar=:none, size=(600,600),\n",
    "    xlims=(ax,bx), ylims=(ay,by), legend=:none)\n",
    "contour!(xx, yy, f, levels=flevels, color=1, contour_labels=true)\n",
    "#scatter!(X_train[1,:], X_train[2,:], c=2, label=\"train\")\n",
    "#scatter!(X_test[1,:], X_test[2,:], c=3, label=\"test\")"
   ]
  },
  {
   "cell_type": "code",
   "execution_count": null,
   "id": "fourth-owner",
   "metadata": {},
   "outputs": [],
   "source": [
    "ReLU(z) = max.(0, z)"
   ]
  },
  {
   "cell_type": "code",
   "execution_count": null,
   "id": "broken-jewel",
   "metadata": {},
   "outputs": [],
   "source": [
    "N0, N1 = m, 32\n",
    "\n",
    "σ = sqrt(2/N1)\n",
    "\n",
    "# Neural network parameters\n",
    "A1 = σ*randn(N1, N0); b1 = σ*randn(N1)\n",
    "A2 = σ*randn(N1);     b2 = σ*randn()\n",
    "\n",
    "F1(v0) = ReLU(A1*v0 + b1)\n",
    "F2(v1) = dot(A2,v1) + b2\n",
    "\n",
    "F(v) = F2(F1(v))\n",
    "F(x,y) = F([x,y])\n",
    "\n",
    "F(1.0, 1.0)"
   ]
  },
  {
   "cell_type": "code",
   "execution_count": null,
   "id": "rising-revelation",
   "metadata": {},
   "outputs": [],
   "source": [
    "plot(xlabel=L\"x\", ylabel=L\"y\", aspect_ratio=:equal, colorbar=:none, size=(600,600),\n",
    "    xlims=(ax,bx), ylims=(ay,by))\n",
    "contour!(xx, yy, F, levels=-100:100, color=:black, contour_labels=true)"
   ]
  },
  {
   "cell_type": "code",
   "execution_count": null,
   "id": "attempted-graduation",
   "metadata": {},
   "outputs": [],
   "source": [
    "n = (N1*N0 + N1) + (N1 + 1)\n",
    "\n",
    "x0 = [A1[:]; b1; A2[:]; b2]\n",
    "\n",
    "length(x0)"
   ]
  },
  {
   "cell_type": "code",
   "execution_count": null,
   "id": "behavioral-england",
   "metadata": {},
   "outputs": [],
   "source": [
    "F1(x,v0) = ReLU(reshape(x[1:N1*N0],N1,N0)*v0 \n",
    "    + x[N1*N0+1:(N1*N0+N1)])\n",
    "\n",
    "F2(x,v1) = dot(x[(N1*N0+N1)+1:end-1], v1) + x[end]\n",
    "\n",
    "F(x,vi) = F2(x,F1(x,vi))"
   ]
  },
  {
   "cell_type": "code",
   "execution_count": null,
   "id": "eleven-pleasure",
   "metadata": {},
   "outputs": [],
   "source": [
    "ŷ(x, X) = [F(x,X[:,i]) for i=1:size(X,2)]\n",
    "\n",
    "loss(x, X, y) = 1/length(y)*norm(ŷ(x, X) - y)^2\n",
    "\n",
    "loss(x0, X_train, y_train), loss(x0, X_test, y_test)"
   ]
  },
  {
   "cell_type": "code",
   "execution_count": null,
   "id": "favorite-momentum",
   "metadata": {},
   "outputs": [],
   "source": [
    "d = randn(length(x0)); d ./= norm(d)\n",
    "\n",
    "tt = range(0, 10, length=200)\n",
    "ltrain = [loss(x0+t*d, X_train, y_train) for t in tt]\n",
    "ltest = [loss(x0+t*d, X_test, y_test) for t in tt]\n",
    "\n",
    "plot(tt, ltrain, label=\"train loss\")\n",
    "plot!(tt, ltest, label=\"test loss\")"
   ]
  },
  {
   "cell_type": "code",
   "execution_count": null,
   "id": "hundred-trading",
   "metadata": {},
   "outputs": [],
   "source": [
    "@time res = optimize(x -> loss(x, X_train, y_train), x0, LBFGS(), autodiff=:forward)\n",
    "\n",
    "xmin = res.minimizer\n",
    "\n",
    "loss(xmin, X_train, y_train), loss(xmin, X_test, y_test)"
   ]
  },
  {
   "cell_type": "code",
   "execution_count": null,
   "id": "baking-verification",
   "metadata": {},
   "outputs": [],
   "source": [
    "plot(xlabel=L\"x\", ylabel=L\"y\", aspect_ratio=:equal, colorbar=:none, size=(600,600),\n",
    "    xlims=(ax,bx), ylims=(ay,by))\n",
    "contour!(xx, yy, f, levels=flevels, color=1, contour_labels=true)\n",
    "contour!(xx, yy, (s,t)->F(xmin,[s,t]), levels=flevels, color=:black, contour_labels=true)"
   ]
  },
  {
   "cell_type": "code",
   "execution_count": null,
   "id": "dense-festival",
   "metadata": {},
   "outputs": [],
   "source": [
    "@time res = optimize(x -> loss(x, X_train, y_train), xmin, LBFGS(), autodiff=:forward)\n",
    "\n",
    "xmin = res.minimizer\n",
    "\n",
    "loss(xmin, X_train, y_train), loss(xmin, X_test, y_test)"
   ]
  },
  {
   "cell_type": "code",
   "execution_count": null,
   "id": "disabled-suspension",
   "metadata": {},
   "outputs": [],
   "source": [
    "plt2 = plot(xlabel=L\"x\", ylabel=L\"y\", aspect_ratio=:equal, colorbar=:none, size=(600,600),\n",
    "    xlims=(ax,bx), ylims=(ay,by))\n",
    "#contour!(xx, yy, f, levels=flevels, color=:red, contour_labels=true)\n",
    "contour!(xx, yy, (s,t)->F(xmin,[s,t]), levels=flevels, color=:black, contour_labels=true)"
   ]
  },
  {
   "cell_type": "code",
   "execution_count": null,
   "id": "skilled-flour",
   "metadata": {},
   "outputs": [],
   "source": [
    "plt1 = plot(xlabel=L\"x\", ylabel=L\"y\", aspect_ratio=:equal, colorbar=:none, size=(600,600),\n",
    "    xlims=(ax,bx), ylims=(ay,by), legend=:none)\n",
    "contour!(xx, yy, f, levels=flevels, color=1, contour_labels=true)\n",
    "\n",
    "plot(plt1, plt2, layout=(1,2), size=(900,500))"
   ]
  },
  {
   "cell_type": "code",
   "execution_count": null,
   "id": "mobile-folks",
   "metadata": {},
   "outputs": [],
   "source": [
    "savefig(\"neural-net.png\")"
   ]
  },
  {
   "cell_type": "code",
   "execution_count": null,
   "id": "executed-thickness",
   "metadata": {},
   "outputs": [],
   "source": [
    "d = randn(length(x0)); d ./= norm(d)\n",
    "tt = range(0, 1, length=200)\n",
    "ltrain = [loss(xmin+t*d, X_train, y_train) for t in tt]\n",
    "ltest = [loss(xmin+t*d, X_test, y_test) for t in tt]\n",
    "plot(tt, ltrain, label=\"train loss\")\n",
    "plot!(tt, ltest, label=\"test loss\")"
   ]
  },
  {
   "cell_type": "code",
   "execution_count": null,
   "id": "affiliated-arrest",
   "metadata": {},
   "outputs": [],
   "source": []
  },
  {
   "cell_type": "code",
   "execution_count": null,
   "id": "reasonable-cruise",
   "metadata": {},
   "outputs": [],
   "source": []
  },
  {
   "cell_type": "code",
   "execution_count": null,
   "id": "differential-congo",
   "metadata": {},
   "outputs": [],
   "source": []
  },
  {
   "cell_type": "code",
   "execution_count": null,
   "id": "recovered-property",
   "metadata": {},
   "outputs": [],
   "source": []
  },
  {
   "cell_type": "code",
   "execution_count": null,
   "id": "harmful-shell",
   "metadata": {},
   "outputs": [],
   "source": []
  },
  {
   "cell_type": "code",
   "execution_count": null,
   "id": "available-investor",
   "metadata": {},
   "outputs": [],
   "source": []
  },
  {
   "cell_type": "code",
   "execution_count": null,
   "id": "third-monday",
   "metadata": {},
   "outputs": [],
   "source": []
  },
  {
   "cell_type": "code",
   "execution_count": null,
   "id": "casual-satisfaction",
   "metadata": {},
   "outputs": [],
   "source": []
  }
 ],
 "metadata": {
  "@webio": {
   "lastCommId": null,
   "lastKernelId": null
  },
  "kernelspec": {
   "display_name": "Julia 1.5.4",
   "language": "julia",
   "name": "julia-1.5"
  },
  "language_info": {
   "file_extension": ".jl",
   "mimetype": "application/julia",
   "name": "julia",
   "version": "1.5.4"
  }
 },
 "nbformat": 4,
 "nbformat_minor": 5
}
