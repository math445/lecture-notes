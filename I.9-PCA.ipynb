{
 "cells": [
  {
   "cell_type": "code",
   "execution_count": null,
   "metadata": {},
   "outputs": [],
   "source": [
    "using Statistics\n",
    "using LinearAlgebra\n",
    "using Plots, LaTeXStrings"
   ]
  },
  {
   "cell_type": "markdown",
   "metadata": {},
   "source": [
    "---\n",
    "\n",
    "# Textbook example"
   ]
  },
  {
   "cell_type": "code",
   "execution_count": null,
   "metadata": {},
   "outputs": [],
   "source": [
    "A = [\n",
    "    3 -4 7 1 -4 -3\n",
    "    7 -6 8 -1 -1 -7\n",
    "]"
   ]
  },
  {
   "cell_type": "code",
   "execution_count": null,
   "metadata": {},
   "outputs": [],
   "source": [
    "mean(A, dims=2)"
   ]
  },
  {
   "cell_type": "code",
   "execution_count": null,
   "metadata": {},
   "outputs": [],
   "source": [
    "n = size(A, 2)\n",
    "S = A*A'/(n-1)"
   ]
  },
  {
   "cell_type": "code",
   "execution_count": null,
   "metadata": {},
   "outputs": [],
   "source": [
    "cov(A, dims=2)"
   ]
  },
  {
   "cell_type": "code",
   "execution_count": null,
   "metadata": {},
   "outputs": [],
   "source": [
    "F = svd(A)"
   ]
  },
  {
   "cell_type": "code",
   "execution_count": null,
   "metadata": {},
   "outputs": [],
   "source": [
    "V, σ, U = F.V, F.S, F.U;\n",
    "u1 = U[:,1]"
   ]
  },
  {
   "cell_type": "code",
   "execution_count": null,
   "metadata": {},
   "outputs": [],
   "source": [
    "xx = A[1,:]\n",
    "yy = A[2,:]\n",
    "\n",
    "plot(legend=:none, aspect_ratio=:equal)\n",
    "plot!(σ[1]*[-u1[1],u1[1]], σ[1]*[-u1[2],u1[2]])\n",
    "scatter!(xx, yy)"
   ]
  },
  {
   "cell_type": "markdown",
   "metadata": {},
   "source": [
    "---\n",
    "\n",
    "# Age vs Height"
   ]
  },
  {
   "cell_type": "code",
   "execution_count": null,
   "metadata": {},
   "outputs": [],
   "source": [
    "using CSV, DataFrames"
   ]
  },
  {
   "cell_type": "code",
   "execution_count": null,
   "metadata": {},
   "outputs": [],
   "source": [
    "df0 = CSV.read(\"Howell1.csv\", DataFrame)\n",
    "describe(df0)"
   ]
  },
  {
   "cell_type": "code",
   "execution_count": null,
   "metadata": {},
   "outputs": [],
   "source": [
    "last(df0, 5)"
   ]
  },
  {
   "cell_type": "code",
   "execution_count": null,
   "metadata": {},
   "outputs": [],
   "source": [
    "df = df0[5 .<= df0.age .<= 15, [:age, :height]]\n",
    "first(df, 5)"
   ]
  },
  {
   "cell_type": "code",
   "execution_count": null,
   "metadata": {},
   "outputs": [],
   "source": [
    "A0 = [df.age'; df.height']"
   ]
  },
  {
   "cell_type": "code",
   "execution_count": null,
   "metadata": {},
   "outputs": [],
   "source": [
    "μ = mean(A0, dims=2)"
   ]
  },
  {
   "cell_type": "code",
   "execution_count": null,
   "metadata": {},
   "outputs": [],
   "source": [
    "A = A0 .- μ"
   ]
  },
  {
   "cell_type": "code",
   "execution_count": null,
   "metadata": {},
   "outputs": [],
   "source": [
    "plot(legend=:none, xlabel=\"age\", ylabel=\"height\")\n",
    "scatter!(A0[1,:], A0[2,:])\n",
    "scatter!(A[1,:], A[2,:])"
   ]
  },
  {
   "cell_type": "code",
   "execution_count": null,
   "metadata": {},
   "outputs": [],
   "source": [
    "cov(A0, dims=2)"
   ]
  },
  {
   "cell_type": "code",
   "execution_count": null,
   "metadata": {},
   "outputs": [],
   "source": [
    "cov(A, dims=2)"
   ]
  },
  {
   "cell_type": "code",
   "execution_count": null,
   "metadata": {},
   "outputs": [],
   "source": [
    "F = svd(A)"
   ]
  },
  {
   "cell_type": "code",
   "execution_count": null,
   "metadata": {},
   "outputs": [],
   "source": [
    "U, σ, V = F.U, F.S, F.V\n",
    "\n",
    "Uscaled = U*Diagonal(sqrt.(σ))\n",
    "u1, u2 = Uscaled[:,1], Uscaled[:,2]"
   ]
  },
  {
   "cell_type": "code",
   "execution_count": null,
   "metadata": {},
   "outputs": [],
   "source": [
    "dot(u1,u2)"
   ]
  },
  {
   "cell_type": "code",
   "execution_count": null,
   "metadata": {},
   "outputs": [],
   "source": [
    "plot(legend=:none, aspect_ratio=:equal)\n",
    "scatter!(A[1,:], A[2,:], c=:blue)\n",
    "quiver!([0,0], [0,0], quiver=(Uscaled[1,:], Uscaled[2,:]), c=:red)"
   ]
  },
  {
   "cell_type": "code",
   "execution_count": null,
   "metadata": {},
   "outputs": [],
   "source": [
    "U[1,:]'*A"
   ]
  },
  {
   "cell_type": "code",
   "execution_count": null,
   "metadata": {},
   "outputs": [],
   "source": [
    "U[2,:]'*A"
   ]
  },
  {
   "cell_type": "code",
   "execution_count": null,
   "metadata": {},
   "outputs": [],
   "source": [
    "T = U'A"
   ]
  },
  {
   "cell_type": "code",
   "execution_count": null,
   "metadata": {},
   "outputs": [],
   "source": [
    "plot(legend=:none, aspect_ratio=:equal, xlabel=L\"u_1\", ylabel=L\"u_2\")\n",
    "#scatter!(T[1,:] .+ μ[1], T[2,:] .+ μ[2], c=1)\n",
    "scatter!(T[1,:], T[2,:], c=2)\n",
    "#quiver!([μ[1],μ[1]], [μ[2],μ[2]], quiver=([sqrt(σ[1]), 0], [0, sqrt(σ[2])]), c=:black)\n",
    "quiver!([0,0], [0,0], quiver=([sqrt(σ[1]), 0], [0, sqrt(σ[2])]), c=:black)"
   ]
  },
  {
   "cell_type": "code",
   "execution_count": null,
   "metadata": {},
   "outputs": [],
   "source": [
    "plot(legend=:none, aspect_ratio=:equal, xlabel=L\"u_1 + \\mu\", ylabel=L\"u_2 + \\mu\")\n",
    "scatter!(T[1,:] .+ μ[1], T[2,:] .+ μ[2], c=1)\n",
    "#scatter!(T[1,:], T[2,:], c=2)\n",
    "quiver!([μ[1],μ[1]], [μ[2],μ[2]], quiver=([sqrt(σ[1]), 0], [0, sqrt(σ[2])]), c=:black)\n",
    "#quiver!([0,0], [0,0], quiver=([sqrt(σ[1]), 0], [0, sqrt(σ[2])]), c=:black)"
   ]
  },
  {
   "cell_type": "markdown",
   "metadata": {},
   "source": [
    "---\n",
    "\n",
    "# Dimensionality Reduction"
   ]
  },
  {
   "cell_type": "code",
   "execution_count": null,
   "metadata": {},
   "outputs": [],
   "source": [
    "using MLDatasets"
   ]
  },
  {
   "cell_type": "code",
   "execution_count": null,
   "metadata": {},
   "outputs": [],
   "source": [
    "?Iris"
   ]
  },
  {
   "cell_type": "code",
   "execution_count": null,
   "metadata": {},
   "outputs": [],
   "source": [
    "X = Iris.features()"
   ]
  },
  {
   "cell_type": "code",
   "execution_count": null,
   "metadata": {},
   "outputs": [],
   "source": [
    "y = Iris.labels()\n",
    "unique(y)"
   ]
  },
  {
   "cell_type": "code",
   "execution_count": null,
   "metadata": {},
   "outputs": [],
   "source": []
  }
 ],
 "metadata": {
  "kernelspec": {
   "display_name": "Julia 1.5.3",
   "language": "julia",
   "name": "julia-1.5"
  },
  "language_info": {
   "file_extension": ".jl",
   "mimetype": "application/julia",
   "name": "julia",
   "version": "1.5.3"
  }
 },
 "nbformat": 4,
 "nbformat_minor": 4
}
