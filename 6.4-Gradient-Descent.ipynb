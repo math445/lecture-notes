{
 "cells": [
  {
   "cell_type": "code",
   "execution_count": null,
   "id": "strategic-bradley",
   "metadata": {},
   "outputs": [],
   "source": [
    "using LinearAlgebra\n",
    "using Plots, LaTeXStrings\n",
    "using Printf"
   ]
  },
  {
   "cell_type": "markdown",
   "id": "alternate-imagination",
   "metadata": {},
   "source": [
    "---\n",
    "\n",
    "# [Rosenbrock's banana function](https://en.wikipedia.org/wiki/Rosenbrock_function)\n",
    "\n",
    "$$\n",
    "f(x) = \\big(1 - x_1\\big)^2 + 100\\big(x_2 - x_1^2\\big)^2\n",
    "$$\n",
    "\n",
    "$$\n",
    "\\nabla f(x) =\n",
    "\\begin{bmatrix}\n",
    "-2\\big(1 - x_1\\big) - 400x_1\\big(x_2 - x_1^2\\big)\\\\\n",
    "200\\big(x_2 - x_1^2\\big)\n",
    "\\end{bmatrix}\n",
    "$$\n",
    "\n",
    "$$\n",
    "\\nabla^2 f(x) = \n",
    "\\begin{bmatrix}\n",
    "2 - 400\\big(-3x_1^2 + x_2\\big) & -400x_1 \\\\\n",
    "-400x_1 & 200\n",
    "\\end{bmatrix}\n",
    "$$"
   ]
  },
  {
   "cell_type": "code",
   "execution_count": null,
   "id": "modified-disposition",
   "metadata": {},
   "outputs": [],
   "source": [
    "f(x) = (1 - x[1])^2 + 100*(x[2] - x[1]^2)^2\n",
    "\n",
    "g(x) = [\n",
    "    -2*(1 - x[1]) - 400*(x[2] - x[1]^2)*x[1]\n",
    "    200*(x[2] - x[1]^2)\n",
    "]\n",
    "\n",
    "H(x) = [\n",
    "    2 - 400*(-3x[1]^2 + x[2])  -400*x[1]\n",
    "                    -400*x[1]        200\n",
    "]\n",
    "\n",
    "f(x, y) = f([x, y])"
   ]
  },
  {
   "cell_type": "code",
   "execution_count": null,
   "id": "adopted-ceiling",
   "metadata": {},
   "outputs": [],
   "source": [
    "xx = -3:0.01:3\n",
    "yy = -3:0.01:3\n",
    "flevels = [0, 2, 20, 100, 500, 1500, 3000]\n",
    "\n",
    "plot(xlabel=L\"x\", ylabel=L\"y\", aspect_ratio=:equal, colorbar=:none, size=(600,600))\n",
    "contour!(xx, yy, f, levels=flevels, color=:black, contour_labels=true)\n",
    "scatter!([1.0], [1.0], c=:black, label=:none)"
   ]
  },
  {
   "cell_type": "markdown",
   "id": "intended-modem",
   "metadata": {},
   "source": [
    "---\n",
    "\n",
    "# Gradient descent"
   ]
  },
  {
   "cell_type": "code",
   "execution_count": null,
   "id": "alive-class",
   "metadata": {},
   "outputs": [],
   "source": [
    "function gradient_descent(f, g, x0, xs; tol=1e-8, verbose=true, α=0.1, β=0.5)\n",
    "    x = copy(x0)\n",
    "    \n",
    "    xtrace = [x]\n",
    "    k = 0\n",
    "    if verbose\n",
    "        @printf(\"%4s %12s %12s %12s %12s\\n\", \"k\", \"t\", \"f(x)\", \"||g(x)||\", \"||xk - xs||\")\n",
    "        @printf(\"%4d %12.4e %12.4e %12.4e %12.4e\\n\", k, 0.0, f(x), norm(g(x)), norm(x-xs))\n",
    "    end\n",
    "    done = false\n",
    "    while !done\n",
    "        k += 1\n",
    "        Δx = -g(x)  # Steepest descent\n",
    "                \n",
    "        # Perform a backtracking line search\n",
    "        t = 1.0\n",
    "        while f(x + t*Δx) > f(x) + α*t*dot(g(x),Δx)\n",
    "            t *= β\n",
    "            if t < 1e-10\n",
    "                break\n",
    "            end\n",
    "        end\n",
    "        \n",
    "        x += t*Δx\n",
    "        push!(xtrace, x)\n",
    "        if norm(t*Δx) <= tol || k >= 200\n",
    "            done = true\n",
    "        end\n",
    "        if verbose\n",
    "            @printf(\"%4d %12.4e %12.4e %12.4e %12.4e\\n\", k, t, f(x), norm(g(x)), norm(x-xs))\n",
    "        end\n",
    "    end\n",
    "    \n",
    "    return xtrace\n",
    "end     "
   ]
  },
  {
   "cell_type": "code",
   "execution_count": null,
   "id": "included-benjamin",
   "metadata": {},
   "outputs": [],
   "source": [
    "#x0 = 6*rand(2) .- 3\n",
    "x0 = [0.0, 0.0]\n",
    "xs = [1.0, 1.0]\n",
    "xtrace = gradient_descent(f, g, x0, xs, tol=1e-8);"
   ]
  },
  {
   "cell_type": "code",
   "execution_count": null,
   "id": "permanent-agreement",
   "metadata": {},
   "outputs": [],
   "source": [
    "xtr = hcat(xtrace...)\n",
    "q = xtr[:,2:end] - xtr[:,1:end-1]\n",
    "\n",
    "xx = -3:0.01:3\n",
    "yy = -3:0.01:3\n",
    "flevels = [0, 2, 20, 100, 500, 1500, 3000]\n",
    "\n",
    "plot(xlabel=L\"x\", ylabel=L\"y\", aspect_ratio=:equal, colorbar=:none, size=(600,600),\n",
    "    xlims=(-3,3), ylims=(-3,3))\n",
    "contour!(xx, yy, f, levels=flevels, color=:black, contour_labels=true)\n",
    "quiver!(xtr[1,1:end-1], xtr[2,1:end-1], quiver=(q[1,:],q[2,:]), label=:none, c=:red)\n",
    "scatter!(xtr[1,:], xtr[2,:], label=:none, c=:red)\n",
    "scatter!([1.0], [1.0], c=:black, label=:none)"
   ]
  },
  {
   "cell_type": "code",
   "execution_count": null,
   "id": "virgin-strap",
   "metadata": {},
   "outputs": [],
   "source": [
    "plt1 = plot(0:length(xtrace)-1, f.(xtrace), yaxis=:log, label=L\"f(x_k)\", xlabel=L\"k\", ylims=(1e-5, 1e2))\n",
    "plot!(0:length(xtrace)-1, norm.(g.(xtrace)), label=L\"\\|\\|\\nabla f(x_k)\\|\\|_2\")\n",
    "title!(\"Gradient descent\")"
   ]
  },
  {
   "cell_type": "markdown",
   "id": "massive-jewel",
   "metadata": {},
   "source": [
    "---\n",
    "\n",
    "# Heavy ball"
   ]
  },
  {
   "cell_type": "code",
   "execution_count": null,
   "id": "congressional-knock",
   "metadata": {},
   "outputs": [],
   "source": [
    "function heavy_ball(f, g, x0, xs; tol=1e-8, verbose=true, α=0.1, β=0.5)\n",
    "    x = copy(x0)\n",
    "    xold = copy(x)\n",
    "    \n",
    "    xtrace = [x]\n",
    "    k = 0\n",
    "    if verbose\n",
    "        @printf(\"%4s %12s %12s %12s %12s\\n\", \"k\", \"t\", \"f(x)\", \"||g(x)||\", \"||xk - xs||\")\n",
    "        @printf(\"%4d %12.4e %12.4e %12.4e %12.4e\\n\", k, 0.0, f(x), norm(g(x)), norm(x-xs))\n",
    "    end\n",
    "    done = false\n",
    "    while !done\n",
    "        k += 1\n",
    "        Δx = -g(x)  # Steepest descent\n",
    "        \n",
    "        # Add momentum\n",
    "        if k > 1\n",
    "            Δx += 60*(x - xold)\n",
    "        end\n",
    "                \n",
    "        # Perform a backtracking line search\n",
    "        t = 1.0\n",
    "        while f(x + t*Δx) > f(x) + α*t*dot(g(x),Δx)\n",
    "            t *= β\n",
    "            if t < 1e-10\n",
    "                break\n",
    "            end\n",
    "        end\n",
    "        \n",
    "        xold = copy(x)\n",
    "        x += t*Δx\n",
    "        push!(xtrace, x)\n",
    "        if norm(t*Δx) <= tol || k >= 200\n",
    "            done = true\n",
    "        end\n",
    "        if verbose\n",
    "            @printf(\"%4d %12.4e %12.4e %12.4e %12.4e\\n\", k, t, f(x), norm(g(x)), norm(x-xs))\n",
    "        end\n",
    "    end\n",
    "    \n",
    "    return xtrace\n",
    "end     "
   ]
  },
  {
   "cell_type": "code",
   "execution_count": null,
   "id": "headed-venture",
   "metadata": {},
   "outputs": [],
   "source": [
    "#x0 = 6*rand(2) .- 3\n",
    "x0 = [0.0, 0.0]\n",
    "xs = [1.0, 1.0]\n",
    "xtrace = heavy_ball(f, g, x0, xs, tol=1e-8);"
   ]
  },
  {
   "cell_type": "code",
   "execution_count": null,
   "id": "declared-string",
   "metadata": {},
   "outputs": [],
   "source": [
    "xtr = hcat(xtrace...)\n",
    "q = xtr[:,2:end] - xtr[:,1:end-1]\n",
    "\n",
    "xx = -3:0.01:3\n",
    "yy = -3:0.01:3\n",
    "flevels = [0, 2, 20, 100, 500, 1500, 3000]\n",
    "\n",
    "plot(xlabel=L\"x\", ylabel=L\"y\", aspect_ratio=:equal, colorbar=:none, size=(600,600),\n",
    "    xlims=(-3,3), ylims=(-3,3))\n",
    "contour!(xx, yy, f, levels=flevels, color=:black, contour_labels=true)\n",
    "quiver!(xtr[1,1:end-1], xtr[2,1:end-1], quiver=(q[1,:],q[2,:]), label=:none, c=:red)\n",
    "scatter!(xtr[1,:], xtr[2,:], label=:none, c=:red)\n",
    "scatter!([1.0], [1.0], c=:black, label=:none)"
   ]
  },
  {
   "cell_type": "code",
   "execution_count": null,
   "id": "everyday-sherman",
   "metadata": {},
   "outputs": [],
   "source": [
    "plt2 = plot(0:length(xtrace)-1, f.(xtrace), yaxis=:log, label=L\"f(x_k)\", xlabel=L\"k\", ylims=(1e-5, 1e2))\n",
    "plot!(0:length(xtrace)-1, norm.(g.(xtrace)), label=L\"\\|\\|\\nabla f(x_k)\\|\\|\")\n",
    "title!(\"Heavy ball\")"
   ]
  },
  {
   "cell_type": "markdown",
   "id": "historical-choice",
   "metadata": {},
   "source": [
    "---\n",
    "\n",
    "# Nesterov acceleration"
   ]
  },
  {
   "cell_type": "code",
   "execution_count": null,
   "id": "premium-stone",
   "metadata": {},
   "outputs": [],
   "source": [
    "function nesterov(f, g, x0, xs; tol=1e-8, verbose=true, α=0.1, β=0.5, γ=1.0)\n",
    "    x = copy(x0)\n",
    "    xold = copy(x)\n",
    "    y = copy(x)\n",
    "    \n",
    "    xtrace = [x]\n",
    "    k = 0\n",
    "    if verbose\n",
    "        @printf(\"%4s %12s %12s %12s %12s\\n\", \"k\", \"t\", \"f(x)\", \"||g(x)||\", \"||xk - xs||\")\n",
    "        @printf(\"%4d %12.4e %12.4e %12.4e %12.4e\\n\", k, 0.0, f(x), norm(g(x)), norm(x-xs))\n",
    "    end\n",
    "    done = false\n",
    "    while !done\n",
    "        k += 1\n",
    "        Δx = -g(y)  # Steepest descent\n",
    "        \n",
    "        # Add momentum\n",
    "        if k > 1\n",
    "            Δx += 60*(x - xold)\n",
    "        end\n",
    "                \n",
    "        # Perform a backtracking line search\n",
    "        t = 1.0\n",
    "        while f(x + t*Δx) > f(x) + α*t*dot(g(x),Δx)\n",
    "            t *= β\n",
    "            if t < 1e-10\n",
    "                break\n",
    "            end\n",
    "        end\n",
    "        \n",
    "        v = x - xold\n",
    "        xold = copy(x)\n",
    "        x = x + 0.5*v + t*Δx\n",
    "        y = x + γ*(x - xold)\n",
    "        \n",
    "        push!(xtrace, x)\n",
    "        if norm(x - xold) <= tol || k >= 200\n",
    "            done = true\n",
    "        end\n",
    "        if verbose\n",
    "            @printf(\"%4d %12.4e %12.4e %12.4e %12.4e\\n\", k, t, f(x), norm(g(x)), norm(x-xs))\n",
    "        end\n",
    "    end\n",
    "    \n",
    "    return xtrace\n",
    "end     "
   ]
  },
  {
   "cell_type": "code",
   "execution_count": null,
   "id": "comparable-subscriber",
   "metadata": {},
   "outputs": [],
   "source": [
    "#x0 = 6*rand(2) .- 3\n",
    "x0 = [0.0, 0.0]\n",
    "xs = [1.0, 1.0]\n",
    "xtrace = nesterov(f, g, x0, xs, tol=1e-8);"
   ]
  },
  {
   "cell_type": "code",
   "execution_count": null,
   "id": "numerous-bronze",
   "metadata": {},
   "outputs": [],
   "source": [
    "xtr = hcat(xtrace...)\n",
    "q = xtr[:,2:end] - xtr[:,1:end-1]\n",
    "\n",
    "xx = -3:0.01:3\n",
    "yy = -3:0.01:3\n",
    "flevels = [0, 2, 20, 100, 500, 1500, 3000]\n",
    "\n",
    "plot(xlabel=L\"x\", ylabel=L\"y\", aspect_ratio=:equal, colorbar=:none, size=(600,600),\n",
    "    xlims=(-3,3), ylims=(-3,3))\n",
    "contour!(xx, yy, f, levels=flevels, color=:black, contour_labels=true)\n",
    "quiver!(xtr[1,1:end-1], xtr[2,1:end-1], quiver=(q[1,:],q[2,:]), label=:none, c=:red)\n",
    "scatter!(xtr[1,:], xtr[2,:], label=:none, c=:red)\n",
    "scatter!([1.0], [1.0], c=:black, label=:none)"
   ]
  },
  {
   "cell_type": "code",
   "execution_count": null,
   "id": "gothic-family",
   "metadata": {},
   "outputs": [],
   "source": [
    "plt3 = plot(0:length(xtrace)-1, f.(xtrace), yaxis=:log, label=L\"f(x_k)\", xlabel=L\"k\", ylims=(1e-5, 1e2))\n",
    "plot!(0:length(xtrace)-1, norm.(g.(xtrace)), label=L\"\\|\\|\\nabla f(x_k)\\|\\|\")\n",
    "title!(\"Nesterov acceleration\")"
   ]
  },
  {
   "cell_type": "code",
   "execution_count": null,
   "id": "fancy-glossary",
   "metadata": {},
   "outputs": [],
   "source": [
    "plot(plt1, plt2, plt3, layout=(1,3), size=(900,500))"
   ]
  },
  {
   "cell_type": "markdown",
   "id": "widespread-english",
   "metadata": {},
   "source": [
    "---"
   ]
  }
 ],
 "metadata": {
  "@webio": {
   "lastCommId": null,
   "lastKernelId": null
  },
  "kernelspec": {
   "display_name": "Julia 1.5.4",
   "language": "julia",
   "name": "julia-1.5"
  },
  "language_info": {
   "file_extension": ".jl",
   "mimetype": "application/julia",
   "name": "julia",
   "version": "1.5.4"
  }
 },
 "nbformat": 4,
 "nbformat_minor": 5
}
