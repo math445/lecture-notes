{
 "cells": [
  {
   "cell_type": "code",
   "execution_count": null,
   "id": "devoted-sperm",
   "metadata": {},
   "outputs": [],
   "source": [
    "using MLDatasets: MNIST\n",
    "using Flux\n",
    "using Flux.Data: DataLoader\n",
    "using Flux: onehotbatch, onehot, onecold\n",
    "using Flux.Losses: crossentropy, logitcrossentropy\n",
    "using Flux.Optimise\n",
    "using Images\n",
    "\n",
    "using ProgressMeter: @showprogress\n",
    "using Printf\n",
    "\n",
    "using LinearAlgebra"
   ]
  },
  {
   "cell_type": "code",
   "execution_count": null,
   "id": "billion-looking",
   "metadata": {},
   "outputs": [],
   "source": [
    "using CUDA\n",
    "\n",
    "if CUDA.functional()\n",
    "    device = gpu\n",
    "else\n",
    "    device = cpu\n",
    "end"
   ]
  },
  {
   "cell_type": "markdown",
   "id": "seventh-explosion",
   "metadata": {},
   "source": [
    "---\n",
    "\n",
    "# MNIST"
   ]
  },
  {
   "cell_type": "code",
   "execution_count": null,
   "id": "swiss-valve",
   "metadata": {},
   "outputs": [],
   "source": [
    "X_train, y_train = MNIST.traindata(Float32)\n",
    "X_test, y_test = MNIST.testdata(Float32)\n",
    "\n",
    "Ntrain, Ntest = length(y_train), length(y_test)"
   ]
  },
  {
   "cell_type": "code",
   "execution_count": null,
   "id": "criminal-energy",
   "metadata": {},
   "outputs": [],
   "source": [
    "size(X_train), size(X_test)"
   ]
  },
  {
   "cell_type": "code",
   "execution_count": null,
   "id": "helpful-green",
   "metadata": {},
   "outputs": [],
   "source": [
    "# Images have one channel since they are grayscale\n",
    "\n",
    "X_train = reshape(X_train, 28, 28, 1, :)\n",
    "X_test = reshape(X_test, 28, 28, 1, :)\n",
    "\n",
    "size(X_train), size(X_test)"
   ]
  },
  {
   "cell_type": "code",
   "execution_count": null,
   "id": "anonymous-interstate",
   "metadata": {},
   "outputs": [],
   "source": [
    "k = rand(1:Ntrain)\n",
    "@show k\n",
    "@show y_train[k]\n",
    "MNIST.convert2image(1 .- X_train[:,:,1,k])"
   ]
  },
  {
   "cell_type": "markdown",
   "id": "revised-bulgaria",
   "metadata": {},
   "source": [
    "---\n",
    "\n",
    "# One Hot / One Cold"
   ]
  },
  {
   "cell_type": "code",
   "execution_count": null,
   "id": "latter-compromise",
   "metadata": {},
   "outputs": [],
   "source": [
    "k = rand(1:Ntrain)\n",
    "@show k\n",
    "@show y_train[k]\n",
    "onehot(y_train[k], 0:9)"
   ]
  },
  {
   "cell_type": "code",
   "execution_count": null,
   "id": "marked-boring",
   "metadata": {},
   "outputs": [],
   "source": [
    "yv_train = onehotbatch(y_train, 0:9)\n",
    "yv_test  = onehotbatch(y_test, 0:9)\n",
    "\n",
    "y_train[k], onecold(yv_train[:,1], 0:9)"
   ]
  },
  {
   "cell_type": "code",
   "execution_count": null,
   "id": "indie-store",
   "metadata": {},
   "outputs": [],
   "source": [
    "k = rand(1:Ntrain)\n",
    "@show k\n",
    "@show onecold(yv_train[:,k], 0:9)\n",
    "MNIST.convert2image(1 .- X_train[:,:,1,k])"
   ]
  },
  {
   "cell_type": "markdown",
   "id": "damaged-perception",
   "metadata": {},
   "source": [
    "---\n",
    "\n",
    "# CNN (Convolutional Neural Net)"
   ]
  },
  {
   "cell_type": "code",
   "execution_count": null,
   "id": "emerging-lancaster",
   "metadata": {},
   "outputs": [],
   "source": [
    "model = Chain(\n",
    "    Conv((3, 3), 1=>1, relu),\n",
    "    MaxPool((2, 2)),\n",
    "    flatten,\n",
    "    Dense(169, 10)\n",
    "#    softmax\n",
    ") |> device\n",
    "\n",
    "ps = params(model)\n",
    "\n",
    "num_params = sum(length, ps)"
   ]
  },
  {
   "cell_type": "code",
   "execution_count": null,
   "id": "studied-supply",
   "metadata": {},
   "outputs": [],
   "source": [
    "train_data = DataLoader((X_train, yv_train), batchsize=32,\n",
    "    shuffle=true)\n",
    "\n",
    "test_data = DataLoader((X_test, yv_test), batchsize=10000)\n",
    "\n",
    "loss(ŷ, y) = logitcrossentropy(ŷ, y)\n",
    "\n",
    "for (x, y) in train_data\n",
    "    x, y = x |> device, y |> device\n",
    "    ŷ = model(x)\n",
    "    @show size(ŷ)\n",
    "    break\n",
    "end"
   ]
  },
  {
   "cell_type": "code",
   "execution_count": null,
   "id": "sustainable-money",
   "metadata": {},
   "outputs": [],
   "source": [
    "function accuracy(data)\n",
    "    acc = 0\n",
    "    ntot = 0\n",
    "    for (x, y) in data\n",
    "        x, y = x |> device, y |> device\n",
    "        ŷ = model(x)\n",
    "        acc += sum(onecold(ŷ |> cpu) .== onecold(y |> cpu))\n",
    "        ntot += size(y,2)\n",
    "    end\n",
    "    acc *= 100/ntot\n",
    "    return acc\n",
    "end\n",
    "\n",
    "accuracy(train_data), accuracy(test_data)"
   ]
  },
  {
   "cell_type": "code",
   "execution_count": null,
   "id": "prime-zambia",
   "metadata": {},
   "outputs": [],
   "source": [
    "opt = Momentum()"
   ]
  },
  {
   "cell_type": "code",
   "execution_count": null,
   "id": "packed-positive",
   "metadata": {},
   "outputs": [],
   "source": [
    "function train(epochs)\n",
    "    @printf(\"%6s %6s %6s %6s\\n\", \"epoch\", \"train\", \"test\", \"time\")\n",
    "    for epoch = 1:epochs\n",
    "        tt = @elapsed for (x, y) in train_data\n",
    "            x, y = x |> device, y |> device\n",
    "            gs = Flux.gradient(ps) do\n",
    "                ŷ = model(x)\n",
    "                loss(ŷ, y)\n",
    "            end\n",
    "            update!(opt, ps, gs)\n",
    "        end\n",
    "        train = accuracy(train_data)\n",
    "        test = accuracy(test_data)\n",
    "        @printf(\"%6d %6.2f %6.2f %6.2f\\n\", epoch, train, test, tt)\n",
    "    end\n",
    "end"
   ]
  },
  {
   "cell_type": "code",
   "execution_count": null,
   "id": "central-inside",
   "metadata": {},
   "outputs": [],
   "source": [
    "train(5)"
   ]
  },
  {
   "cell_type": "code",
   "execution_count": null,
   "id": "metric-trade",
   "metadata": {},
   "outputs": [],
   "source": [
    "prediction = onecold(model(X_test |> device), 0:9) |> cpu;"
   ]
  },
  {
   "cell_type": "code",
   "execution_count": null,
   "id": "popular-vulnerability",
   "metadata": {},
   "outputs": [],
   "source": [
    "k = rand(1:Ntest)\n",
    "@show k\n",
    "@show prediction[k]\n",
    "@show y_test[k];\n",
    "MNIST.convert2image(1 .- X_test[:,:,1,k])"
   ]
  },
  {
   "cell_type": "code",
   "execution_count": null,
   "id": "induced-meaning",
   "metadata": {},
   "outputs": [],
   "source": [
    "inds = findall(prediction .!= y_test)\n",
    "\n",
    "length(inds)"
   ]
  },
  {
   "cell_type": "code",
   "execution_count": null,
   "id": "classified-perfume",
   "metadata": {},
   "outputs": [],
   "source": [
    "num = 8\n",
    "@show prediction[inds[1:num]]\n",
    "@show y_test[inds[1:num]]\n",
    "[MNIST.convert2image(1 .- X_test[:,:,1,k]) for k in inds[1:num]]"
   ]
  },
  {
   "cell_type": "code",
   "execution_count": null,
   "id": "unsigned-canal",
   "metadata": {},
   "outputs": [],
   "source": [
    "# Confusion matrix\n",
    "\n",
    "C = onehotbatch(prediction, 0:9)*yv_test'"
   ]
  },
  {
   "cell_type": "code",
   "execution_count": null,
   "id": "entitled-discipline",
   "metadata": {
    "scrolled": false
   },
   "outputs": [],
   "source": [
    "for k in inds\n",
    "    if prediction[k] == 2\n",
    "        @show prediction[k], y_test[k]\n",
    "    end\n",
    "end"
   ]
  },
  {
   "cell_type": "code",
   "execution_count": null,
   "id": "wrong-section",
   "metadata": {},
   "outputs": [],
   "source": [
    "sum(diag(C))"
   ]
  },
  {
   "cell_type": "code",
   "execution_count": null,
   "id": "recovered-woman",
   "metadata": {},
   "outputs": [],
   "source": [
    "sum(C)"
   ]
  },
  {
   "cell_type": "code",
   "execution_count": null,
   "id": "exempt-cleveland",
   "metadata": {},
   "outputs": [],
   "source": []
  },
  {
   "cell_type": "code",
   "execution_count": null,
   "id": "regular-collar",
   "metadata": {},
   "outputs": [],
   "source": []
  },
  {
   "cell_type": "code",
   "execution_count": null,
   "id": "parliamentary-creation",
   "metadata": {},
   "outputs": [],
   "source": []
  },
  {
   "cell_type": "code",
   "execution_count": null,
   "id": "olympic-superior",
   "metadata": {},
   "outputs": [],
   "source": []
  }
 ],
 "metadata": {
  "@webio": {
   "lastCommId": null,
   "lastKernelId": null
  },
  "kernelspec": {
   "display_name": "Julia 1.6.0",
   "language": "julia",
   "name": "julia-1.6"
  },
  "language_info": {
   "file_extension": ".jl",
   "mimetype": "application/julia",
   "name": "julia",
   "version": "1.6.0"
  }
 },
 "nbformat": 4,
 "nbformat_minor": 5
}
