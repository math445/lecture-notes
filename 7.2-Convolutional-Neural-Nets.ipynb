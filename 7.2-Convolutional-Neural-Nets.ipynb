{
 "cells": [
  {
   "cell_type": "code",
   "execution_count": null,
   "id": "blessed-palestinian",
   "metadata": {},
   "outputs": [],
   "source": [
    "using MLDatasets: MNIST\n",
    "using Flux\n",
    "using Flux.Data: DataLoader\n",
    "using Flux: onehotbatch, onehot, onecold\n",
    "using Flux.Losses: crossentropy, logitcrossentropy\n",
    "using Flux.Optimise\n",
    "#using ImageShow\n",
    "#using Images\n",
    "#using Plots\n",
    "\n",
    "using ProgressMeter: @showprogress\n",
    "using Printf"
   ]
  },
  {
   "cell_type": "code",
   "execution_count": null,
   "id": "august-evanescence",
   "metadata": {},
   "outputs": [],
   "source": [
    "using CUDA\n",
    "\n",
    "CUDA.functional()"
   ]
  },
  {
   "cell_type": "code",
   "execution_count": null,
   "id": "announced-static",
   "metadata": {},
   "outputs": [],
   "source": [
    "size(MNIST.traintensor())"
   ]
  },
  {
   "cell_type": "code",
   "execution_count": null,
   "id": "significant-replication",
   "metadata": {},
   "outputs": [],
   "source": [
    "X_train, y_train = MNIST.traindata(Float32)\n",
    "X_test, y_test = MNIST.testdata(Float32)\n",
    "\n",
    "Ntrain, Ntest = length(y_train), length(y_test)"
   ]
  },
  {
   "cell_type": "code",
   "execution_count": null,
   "id": "multiple-triangle",
   "metadata": {},
   "outputs": [],
   "source": [
    "size(X_train), size(X_test)"
   ]
  },
  {
   "cell_type": "code",
   "execution_count": null,
   "id": "catholic-double",
   "metadata": {},
   "outputs": [],
   "source": [
    "X_train = reshape(X_train, 28, 28, 1, :)\n",
    "X_test = reshape(X_test, 28, 28, 1, :)\n",
    "\n",
    "size(X_train), size(X_test)"
   ]
  },
  {
   "cell_type": "code",
   "execution_count": null,
   "id": "wicked-prevention",
   "metadata": {},
   "outputs": [],
   "source": [
    "k = rand(1:Ntrain)\n",
    "@show k\n",
    "@show y_train[k]\n",
    "MNIST.convert2image(1 .- X_train[:,:,1,k])"
   ]
  },
  {
   "cell_type": "markdown",
   "id": "exact-spider",
   "metadata": {},
   "source": [
    "---\n",
    "\n",
    "# One Hot / One Cold"
   ]
  },
  {
   "cell_type": "code",
   "execution_count": null,
   "id": "legitimate-cigarette",
   "metadata": {},
   "outputs": [],
   "source": [
    "k = rand(1:Ntrain)\n",
    "@show k\n",
    "@show y_train[k]\n",
    "onehot(y_train[k], 0:9)"
   ]
  },
  {
   "cell_type": "code",
   "execution_count": null,
   "id": "finished-council",
   "metadata": {},
   "outputs": [],
   "source": [
    "y_train = onehotbatch(y_train, 0:9)\n",
    "y_test  = onehotbatch(y_test, 0:9)\n",
    "\n",
    "onecold(y_train[:,1], 0:9)"
   ]
  },
  {
   "cell_type": "code",
   "execution_count": null,
   "id": "auburn-butter",
   "metadata": {},
   "outputs": [],
   "source": [
    "k = rand(1:Ntrain)\n",
    "@show k\n",
    "@show onecold(y_train[:,k], 0:9)\n",
    "MNIST.convert2image(1 .- X_train[:,:,1,k])"
   ]
  },
  {
   "cell_type": "code",
   "execution_count": null,
   "id": "european-saint",
   "metadata": {},
   "outputs": [],
   "source": [
    "?Conv"
   ]
  },
  {
   "cell_type": "code",
   "execution_count": null,
   "id": "laughing-kuwait",
   "metadata": {},
   "outputs": [],
   "source": [
    "?crossentropy"
   ]
  },
  {
   "cell_type": "code",
   "execution_count": null,
   "id": "dominican-match",
   "metadata": {},
   "outputs": [],
   "source": [
    "?logitcrossentropy"
   ]
  },
  {
   "cell_type": "code",
   "execution_count": null,
   "id": "regulated-allen",
   "metadata": {},
   "outputs": [],
   "source": [
    "?onecold"
   ]
  },
  {
   "cell_type": "code",
   "execution_count": null,
   "id": "derived-indicator",
   "metadata": {},
   "outputs": [],
   "source": [
    "model = Chain(\n",
    "    Conv((5, 5), 1=>6, relu),\n",
    "    MaxPool((2, 2)),\n",
    "    Conv((5, 5), 6=>16, relu),\n",
    "    MaxPool((2, 2)),\n",
    "    flatten,\n",
    "    Dense(256, 128, relu),\n",
    "    Dense(128, 64, relu),\n",
    "    Dense(64, 10),\n",
    "#    softmax\n",
    ")\n",
    "\n",
    "ps = params(model)\n",
    "\n",
    "train_data = DataLoader((X_train, y_train), batchsize=64,\n",
    "    shuffle=true)\n",
    "\n",
    "test_data = DataLoader((X_test, y_test), batchsize=10000)\n",
    "\n",
    "loss(ŷ, y) = logitcrossentropy(ŷ, y)\n",
    "\n",
    "for (x, y) in train_data\n",
    "    @show onecold(y, 0:9)\n",
    "    ŷ = model(x)\n",
    "    @show size(ŷ)\n",
    "    @show onecold(ŷ, 0:9)\n",
    "    @show onecold(softmax(ŷ), 0:9)\n",
    "    @show loss(ŷ, y)\n",
    "    @show logitcrossentropy(ŷ, y)\n",
    "    @show crossentropy(softmax(ŷ), y)\n",
    "    break\n",
    "end"
   ]
  },
  {
   "cell_type": "code",
   "execution_count": null,
   "id": "subjective-wales",
   "metadata": {},
   "outputs": [],
   "source": [
    "accuracy(X, y) = sum(onecold(model(X)) .== onecold(y))/size(y,2)*100"
   ]
  },
  {
   "cell_type": "code",
   "execution_count": null,
   "id": "mobile-lightning",
   "metadata": {},
   "outputs": [],
   "source": [
    "accuracy(X_train, y_train), accuracy(X_test, y_test)"
   ]
  },
  {
   "cell_type": "code",
   "execution_count": null,
   "id": "prescribed-racing",
   "metadata": {
    "scrolled": true
   },
   "outputs": [],
   "source": [
    "num_params = sum(length, ps)"
   ]
  },
  {
   "cell_type": "code",
   "execution_count": null,
   "id": "burning-legend",
   "metadata": {},
   "outputs": [],
   "source": [
    "opt = ADAM()"
   ]
  },
  {
   "cell_type": "code",
   "execution_count": null,
   "id": "liquid-standard",
   "metadata": {},
   "outputs": [],
   "source": [
    "epochs = 4\n",
    "@printf(\"%6s %6s %6s %6s\\n\", \"epoch\", \"train\", \"test\", \"time\")\n",
    "for epoch = 1:epochs\n",
    "    tt = @elapsed for (x, y) in train_data\n",
    "        gs = Flux.gradient(ps) do\n",
    "            ŷ = model(x)\n",
    "            loss(ŷ, y)\n",
    "        end\n",
    "        update!(opt, ps, gs)\n",
    "    end\n",
    "    train = accuracy(X_train, y_train)\n",
    "    test = accuracy(X_test, y_test)\n",
    "    @printf(\"%6d %6.2f %6.2f %6.2f\\n\", epoch, train, test, tt)\n",
    "end"
   ]
  },
  {
   "cell_type": "code",
   "execution_count": null,
   "id": "frozen-warrior",
   "metadata": {},
   "outputs": [],
   "source": [
    "prediction = onecold(model(X_test), 0:9);"
   ]
  },
  {
   "cell_type": "code",
   "execution_count": null,
   "id": "fourth-monkey",
   "metadata": {},
   "outputs": [],
   "source": [
    "k = rand(1:Ntest)\n",
    "@show k\n",
    "@show prediction[k]\n",
    "MNIST.convert2image(1 .- X_test[:,:,1,k])"
   ]
  },
  {
   "cell_type": "code",
   "execution_count": null,
   "id": "fitting-communications",
   "metadata": {},
   "outputs": [],
   "source": []
  }
 ],
 "metadata": {
  "@webio": {
   "lastCommId": null,
   "lastKernelId": null
  },
  "kernelspec": {
   "display_name": "Julia 1.6.0",
   "language": "julia",
   "name": "julia-1.6"
  },
  "language_info": {
   "file_extension": ".jl",
   "mimetype": "application/julia",
   "name": "julia",
   "version": "1.6.0"
  }
 },
 "nbformat": 4,
 "nbformat_minor": 5
}
