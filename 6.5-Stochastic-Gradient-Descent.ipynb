{
 "cells": [
  {
   "cell_type": "code",
   "execution_count": null,
   "id": "every-income",
   "metadata": {},
   "outputs": [],
   "source": [
    "using Plots, LaTeXStrings\n",
    "using LinearAlgebra\n",
    "using Printf"
   ]
  },
  {
   "cell_type": "code",
   "execution_count": null,
   "id": "natural-composition",
   "metadata": {},
   "outputs": [],
   "source": [
    "m, n = 100, 2\n",
    "\n",
    "A = rand(m, n)\n",
    "x̄ = [1.0, 1.0]\n",
    "b = A*x̄ + randn(m)\n",
    "\n",
    "loss(x) = 0.5*norm(A*x - b)^2\n",
    "loss(x,y) = loss([x,y])\n",
    "\n",
    "gloss(x) = A'*(A*x - b)"
   ]
  },
  {
   "cell_type": "code",
   "execution_count": null,
   "id": "american-tournament",
   "metadata": {},
   "outputs": [],
   "source": [
    "ax, bx = -10, 10\n",
    "ay, by = -10, 10\n",
    "\n",
    "xx = range(ax, bx, length=200)\n",
    "yy = range(ay, by, length=200)\n",
    "flevels = [0, 2, 20, 50, 100, 200, 500, 1000]\n",
    "\n",
    "plot(xlabel=L\"x\", ylabel=L\"y\", aspect_ratio=:equal, colorbar=:none, size=(600,600),\n",
    "    xlims=(ax,bx), ylims=(ay,by))\n",
    "contour!(xx, yy, loss, levels=flevels, color=:black, contour_labels=true)\n",
    "scatter!([x̄[1]], [x̄[2]], c=:black, label=:none)"
   ]
  },
  {
   "cell_type": "code",
   "execution_count": null,
   "id": "junior-assurance",
   "metadata": {},
   "outputs": [],
   "source": [
    "function sgd(A, b, x0, xs; tol=1e-8, verbose=true, α=0.1, β=0.5)\n",
    "    x = copy(x0)\n",
    "    \n",
    "    xtrace = [x]\n",
    "    k = 0\n",
    "    if verbose\n",
    "        @printf(\"%4s %12s %12s %12s\\n\", \"k\", \"loss\", \"||g(x)||\", \"||xk - xs||\")\n",
    "        @printf(\"%4d %12.4e %12.4e %12.4e\\n\", k, loss(x), norm(gloss(x)), norm(x-xs))\n",
    "    end\n",
    "    done = false\n",
    "    for epoch = 1:50\n",
    "        for mbi = 1:10\n",
    "            mb = 10(mbi-1)+1:10mbi  # Minibatch\n",
    "            Ak = A[mb,:]\n",
    "            bk = b[mb]\n",
    "\n",
    "            lk(x) = 0.5*norm(Ak*x - bk)^2\n",
    "            glk(x) = Ak'*(Ak*x - bk)\n",
    "\n",
    "            k += 1\n",
    "            Δx = -glk(x)  # Steepest descent\n",
    "\n",
    "            # Perform a backtracking line search\n",
    "            t = 1e-1\n",
    "            while lk(x + t*Δx) > lk(x) + α*t*dot(glk(x),Δx)\n",
    "                t *= β\n",
    "                if t < 1e-10\n",
    "                    break\n",
    "                end\n",
    "            end\n",
    "\n",
    "            x += t*Δx\n",
    "\n",
    "            push!(xtrace, x)\n",
    "        end\n",
    "        \n",
    "        if verbose\n",
    "            @printf(\"%4d %12.4e %12.4e %12.4e\\n\", k, loss(x), norm(gloss(x)), norm(x-xs))\n",
    "        end\n",
    "    end\n",
    "    \n",
    "    return xtrace\n",
    "end     "
   ]
  },
  {
   "cell_type": "code",
   "execution_count": null,
   "id": "acoustic-effort",
   "metadata": {},
   "outputs": [],
   "source": [
    "x0 = [-30.0, 20.0]\n",
    "xs = x̄\n",
    "xtrace = sgd(A, b, x0, xs, tol=1e-8);"
   ]
  },
  {
   "cell_type": "code",
   "execution_count": null,
   "id": "nutritional-avenue",
   "metadata": {},
   "outputs": [],
   "source": [
    "xtr = hcat(xtrace...)\n",
    "q = xtr[:,2:end] - xtr[:,1:end-1]\n",
    "\n",
    "ax, bx = -10, 10\n",
    "ay, by = -10, 10\n",
    "\n",
    "xx = range(ax, bx, length=200)\n",
    "yy = range(ay, by, length=200)\n",
    "flevels = [0, 2, 20, 50, 100, 200, 500, 1000]\n",
    "\n",
    "plot(xlabel=L\"x\", ylabel=L\"y\", aspect_ratio=:equal, colorbar=:none, size=(600,600),\n",
    "    xlims=(ax,bx), ylims=(ay,by))\n",
    "contour!(xx, yy, loss, levels=flevels, color=:black, contour_labels=true)\n",
    "quiver!(xtr[1,1:end-1], xtr[2,1:end-1], quiver=(q[1,:],q[2,:]), label=:none, c=:red)\n",
    "scatter!(xtr[1,:], xtr[2,:], label=:none, c=:red)\n",
    "scatter!([x̄[1]], [x̄[2]], c=:black, label=:none)"
   ]
  },
  {
   "cell_type": "code",
   "execution_count": null,
   "id": "searching-stack",
   "metadata": {},
   "outputs": [],
   "source": [
    "plt1 = plot(0:length(xtrace)-1, loss.(xtrace), yaxis=:log,\n",
    "    label=L\"f(x_k)\", xlabel=L\"k\", ylims=(1e-0, 1e4))\n",
    "plot!(0:length(xtrace)-1, norm.(gloss.(xtrace)), label=L\"\\|\\|\\nabla f(x_k)\\|\\|_2\")\n",
    "title!(\"Stochastic gradient descent\")"
   ]
  },
  {
   "cell_type": "markdown",
   "id": "original-group",
   "metadata": {},
   "source": [
    "---\n",
    "\n",
    "# Adam\n",
    "\n",
    "Kingma and Ba, [Adam: A Method for Stochastic Optimization](https://arxiv.org/pdf/1412.6980.pdf), 2015."
   ]
  },
  {
   "cell_type": "code",
   "execution_count": null,
   "id": "considerable-provision",
   "metadata": {},
   "outputs": [],
   "source": [
    "function adam(A, b, x0, xs; tol=1e-8, verbose=true, δ=0.9, β=0.999, η=2e-1)\n",
    "    x = copy(x0)\n",
    "    \n",
    "    mk = zeros(length(x0))\n",
    "    vk = zeros(length(x0))\n",
    "    \n",
    "    xtrace = [x]\n",
    "    k = 0\n",
    "    if verbose\n",
    "        @printf(\"%4s %12s %12s %12s\\n\", \"k\", \"loss\", \"||g(x)||\", \"||xk - xs||\")\n",
    "        @printf(\"%4d %12.4e %12.4e %12.4e\\n\", k, loss(x), norm(gloss(x)), norm(x-xs))\n",
    "    end\n",
    "    done = false\n",
    "    for epoch = 1:50\n",
    "        for mbi = 1:10\n",
    "            mb = 10(mbi-1)+1:10mbi  # Minibatch\n",
    "            Ak = A[mb,:]\n",
    "            bk = b[mb]\n",
    "\n",
    "            lk(x) = 0.5*norm(Ak*x - bk)^2\n",
    "            glk(x) = Ak'*(Ak*x - bk)\n",
    "\n",
    "            k += 1\n",
    "            gk = glk(x)\n",
    "            mk = δ*mk + (1-δ)*gk\n",
    "            vk = β*vk + (1-β)*gk.^2 \n",
    "            \n",
    "            m̂k = mk./(1 - δ^k)\n",
    "            v̂k = vk./(1 - β^k)\n",
    "            \n",
    "            d = m̂k./(sqrt.(v̂k) .+ 1e-8)\n",
    "            \n",
    "            x -= η*d\n",
    "\n",
    "            push!(xtrace, x)\n",
    "        end\n",
    "\n",
    "        if verbose\n",
    "            @printf(\"%4d %12.4e %12.4e %12.4e\\n\", k, loss(x), norm(gloss(x)), norm(x-xs))\n",
    "        end\n",
    "    end\n",
    "    \n",
    "    return xtrace\n",
    "end     "
   ]
  },
  {
   "cell_type": "code",
   "execution_count": null,
   "id": "experimental-mapping",
   "metadata": {},
   "outputs": [],
   "source": [
    "x0 = [-30.0, 20.0]\n",
    "xs = x̄\n",
    "xtrace = adam(A, b, x0, xs, tol=1e-8);"
   ]
  },
  {
   "cell_type": "code",
   "execution_count": null,
   "id": "posted-assumption",
   "metadata": {},
   "outputs": [],
   "source": [
    "xtr = hcat(xtrace...)\n",
    "q = xtr[:,2:end] - xtr[:,1:end-1]\n",
    "\n",
    "ax, bx = -10, 10\n",
    "ay, by = -10, 10\n",
    "\n",
    "xx = range(ax, bx, length=200)\n",
    "yy = range(ay, by, length=200)\n",
    "flevels = [0, 2, 20, 50, 100, 200, 500, 1000]\n",
    "\n",
    "plot(xlabel=L\"x\", ylabel=L\"y\", aspect_ratio=:equal, colorbar=:none, size=(600,600),\n",
    "    xlims=(ax,bx), ylims=(ay,by))\n",
    "contour!(xx, yy, loss, levels=flevels, color=:black, contour_labels=true)\n",
    "quiver!(xtr[1,1:end-1], xtr[2,1:end-1], quiver=(q[1,:],q[2,:]), label=:none, c=:red)\n",
    "scatter!(xtr[1,:], xtr[2,:], label=:none, c=:red)\n",
    "scatter!([x̄[1]], [x̄[2]], c=:black, label=:none)"
   ]
  },
  {
   "cell_type": "code",
   "execution_count": null,
   "id": "theoretical-metadata",
   "metadata": {},
   "outputs": [],
   "source": [
    "plt2 = plot(0:length(xtrace)-1, loss.(xtrace), yaxis=:log, \n",
    "    label=L\"f(x_k)\", xlabel=L\"k\", ylims=(1e0, 1e4))\n",
    "plot!(0:length(xtrace)-1, norm.(gloss.(xtrace)), label=L\"\\|\\|\\nabla f(x_k)\\|\\|_2\")\n",
    "title!(\"Adam\")"
   ]
  },
  {
   "cell_type": "code",
   "execution_count": null,
   "id": "rubber-question",
   "metadata": {},
   "outputs": [],
   "source": [
    "plot(plt1, plt2, layout=(1,2), size=(900,500))"
   ]
  },
  {
   "cell_type": "code",
   "execution_count": null,
   "id": "visible-assist",
   "metadata": {},
   "outputs": [],
   "source": []
  }
 ],
 "metadata": {
  "@webio": {
   "lastCommId": null,
   "lastKernelId": null
  },
  "kernelspec": {
   "display_name": "Julia 1.5.4",
   "language": "julia",
   "name": "julia-1.5"
  },
  "language_info": {
   "file_extension": ".jl",
   "mimetype": "application/julia",
   "name": "julia",
   "version": "1.5.4"
  }
 },
 "nbformat": 4,
 "nbformat_minor": 5
}
