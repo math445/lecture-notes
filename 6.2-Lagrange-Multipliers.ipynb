{
 "cells": [
  {
   "cell_type": "markdown",
   "metadata": {},
   "source": [
    "---\n",
    "# Lagrange Multipliers\n",
    "---"
   ]
  },
  {
   "cell_type": "code",
   "execution_count": null,
   "metadata": {},
   "outputs": [],
   "source": [
    "using LinearAlgebra\n",
    "using Plots, LaTeXStrings\n",
    "using Printf"
   ]
  },
  {
   "cell_type": "markdown",
   "metadata": {},
   "source": [
    "$$\n",
    "\\left\\{\n",
    "\\begin{array}{ll}\n",
    "\\text{minimize} & \\frac{1}{2} \\|Ax - b\\|_2^2 \\\\\n",
    "\\text{subject to} & \\frac{1}{2}\\|x\\|_2^2 = \\frac{1}{2}\n",
    "\\end{array}\n",
    "\\right.\n",
    "$$\n",
    "\n",
    "$$\n",
    "f(x) = \\frac{1}{2} \\|Ax - b\\|_2^2, \\qquad g(x) = \\frac{1}{2} - \\frac{1}{2}\\|x\\|_2^2\n",
    "$$"
   ]
  },
  {
   "cell_type": "code",
   "execution_count": null,
   "metadata": {},
   "outputs": [],
   "source": [
    "m, n = 8, 2\n",
    "\n",
    "A = rand(-10:10, m, n)\n",
    "x̄ = [2.0, 2.0]\n",
    "\n",
    "b = A*x̄"
   ]
  },
  {
   "cell_type": "code",
   "execution_count": null,
   "metadata": {},
   "outputs": [],
   "source": [
    "norm(b - A*x̄)"
   ]
  },
  {
   "cell_type": "code",
   "execution_count": null,
   "metadata": {},
   "outputs": [],
   "source": [
    "f(x) = 0.5*norm(b - A*x)^2\n",
    "f(x,y) = f([x,y])"
   ]
  },
  {
   "cell_type": "code",
   "execution_count": null,
   "metadata": {},
   "outputs": [],
   "source": [
    "∇f(x) = A'*(b - A*x)"
   ]
  },
  {
   "cell_type": "code",
   "execution_count": null,
   "metadata": {},
   "outputs": [],
   "source": [
    "f(x̄)"
   ]
  },
  {
   "cell_type": "code",
   "execution_count": null,
   "metadata": {},
   "outputs": [],
   "source": [
    "norm(x̄)"
   ]
  },
  {
   "cell_type": "code",
   "execution_count": null,
   "metadata": {},
   "outputs": [],
   "source": [
    "g(x) = 0.5 - 0.5*norm(x)^2\n",
    "g(x,y) = g([x,y])"
   ]
  },
  {
   "cell_type": "code",
   "execution_count": null,
   "metadata": {},
   "outputs": [],
   "source": [
    "∇g(x) = -x"
   ]
  },
  {
   "cell_type": "code",
   "execution_count": null,
   "metadata": {},
   "outputs": [],
   "source": [
    "g(x̄)"
   ]
  },
  {
   "cell_type": "code",
   "execution_count": null,
   "metadata": {},
   "outputs": [],
   "source": [
    "xx = -2:0.01:4\n",
    "yy = -2:0.01:4\n",
    "flevels = [20, 50, 100, 200, 500, 1000, 2000]\n",
    "\n",
    "plot(xlabel=L\"x\", ylabel=L\"y\", aspect_ratio=:equal, colorbar=:none, size=(600,600))\n",
    "contour!(xx, yy, f, levels=flevels, color=:black, contour_labels=true)\n",
    "contour!(xx, yy, g, levels=[0], color=:red, contour_labels=false)\n",
    "scatter!([x̄[1]], [x̄[2]], c=:black, label=:none)"
   ]
  },
  {
   "cell_type": "markdown",
   "metadata": {},
   "source": [
    "---\n",
    "\n",
    "# JuMP.jl"
   ]
  },
  {
   "cell_type": "code",
   "execution_count": null,
   "metadata": {},
   "outputs": [],
   "source": [
    "using JuMP, Ipopt"
   ]
  },
  {
   "cell_type": "code",
   "execution_count": null,
   "metadata": {},
   "outputs": [],
   "source": [
    "model = Model(Ipopt.Optimizer)\n",
    "set_optimizer_attribute(model, MOI.Silent(), true)\n",
    "\n",
    "@variable(model, x[1:2])\n",
    "@objective(model, Min, dot(A*x - b, A*x - b)/2)\n",
    "@constraint(model, con, dot(x,x)/2 == 1//2)\n",
    "\n",
    "model"
   ]
  },
  {
   "cell_type": "code",
   "execution_count": null,
   "metadata": {},
   "outputs": [],
   "source": [
    "results = optimize!(model)\n",
    "\n",
    "xopt = value.(x)"
   ]
  },
  {
   "cell_type": "code",
   "execution_count": null,
   "metadata": {},
   "outputs": [],
   "source": [
    "norm(xopt)"
   ]
  },
  {
   "cell_type": "code",
   "execution_count": null,
   "metadata": {},
   "outputs": [],
   "source": [
    "optval = objective_value(model)"
   ]
  },
  {
   "cell_type": "code",
   "execution_count": null,
   "metadata": {},
   "outputs": [],
   "source": [
    "λ = getdual(con)"
   ]
  },
  {
   "cell_type": "code",
   "execution_count": null,
   "metadata": {},
   "outputs": [],
   "source": [
    "p = ∇f(xopt)"
   ]
  },
  {
   "cell_type": "code",
   "execution_count": null,
   "metadata": {},
   "outputs": [],
   "source": [
    "q = ∇g(xopt)"
   ]
  },
  {
   "cell_type": "code",
   "execution_count": null,
   "metadata": {},
   "outputs": [],
   "source": [
    "dot(p,q)/norm(p)/norm(q)"
   ]
  },
  {
   "cell_type": "markdown",
   "metadata": {},
   "source": [
    "$$\n",
    "\\nabla f(x^*) = \\lambda \\nabla g(x^*)\n",
    "$$"
   ]
  },
  {
   "cell_type": "code",
   "execution_count": null,
   "metadata": {},
   "outputs": [],
   "source": [
    "∇f(xopt) - λ*∇g(xopt)"
   ]
  },
  {
   "cell_type": "code",
   "execution_count": null,
   "metadata": {},
   "outputs": [],
   "source": [
    "xx = -2:0.01:4\n",
    "yy = -2:0.01:4\n",
    "flevels = [20, 50, 100, 200, 600, 1000, 2000, optval]\n",
    "\n",
    "p = p/norm(p)\n",
    "q = q/norm(q)\n",
    "\n",
    "plot(xlabel=L\"x\", ylabel=L\"y\", aspect_ratio=:equal, colorbar=:none, size=(600,600))\n",
    "contour!(xx, yy, f, levels=flevels, color=:black, contour_labels=true)\n",
    "contour!(xx, yy, g, levels=[0], color=:red, contour_labels=false)\n",
    "quiver!([xopt[1]], [xopt[2]], quiver=([p[1]],[p[2]]), label=:none, c=:black)\n",
    "quiver!([xopt[1]], [xopt[2]], quiver=([q[1]],[q[2]]), label=:none, c=:red)\n",
    "scatter!([x̄[1]], [x̄[2]], c=:black, label=:none)\n",
    "scatter!([xopt[1]], [xopt[2]], c=:red, label=:none)"
   ]
  },
  {
   "cell_type": "markdown",
   "metadata": {},
   "source": [
    "---\n",
    "\n",
    "# Lagrange multiplier = derivative of the optimal value"
   ]
  },
  {
   "cell_type": "code",
   "execution_count": null,
   "metadata": {},
   "outputs": [],
   "source": [
    "function optvalfun(ρ)\n",
    "    model = Model(Ipopt.Optimizer)\n",
    "    set_optimizer_attribute(model, MOI.Silent(), true)\n",
    "\n",
    "    @variable(model, x[1:2])\n",
    "    @objective(model, Min, dot(A*x - b, A*x - b)/2)\n",
    "    @constraint(model, con, dot(x,x)/2 == ρ)\n",
    "    \n",
    "    optimize!(model)\n",
    "    \n",
    "    return objective_value(model)\n",
    "end"
   ]
  },
  {
   "cell_type": "code",
   "execution_count": null,
   "metadata": {},
   "outputs": [],
   "source": [
    "plot(xlabel=L\"\\rho\", ylabel=L\"y\")\n",
    "plot!(optvalfun, 0, 13, label=L\"y = v(\\rho)\")\n",
    "plot!(ρ -> optval + λ*(ρ - 1/2), 0, -optval/λ + 1/2, label=:none)\n",
    "scatter!([1/2], [optval], c=1, label=:none)"
   ]
  },
  {
   "cell_type": "code",
   "execution_count": null,
   "metadata": {},
   "outputs": [],
   "source": [
    "0.5*norm(x̄)^2"
   ]
  },
  {
   "cell_type": "code",
   "execution_count": null,
   "metadata": {},
   "outputs": [],
   "source": [
    "optvalfun(4.0)"
   ]
  },
  {
   "cell_type": "code",
   "execution_count": null,
   "metadata": {},
   "outputs": [],
   "source": []
  }
 ],
 "metadata": {
  "@webio": {
   "lastCommId": null,
   "lastKernelId": null
  },
  "kernelspec": {
   "display_name": "Julia 1.5.3",
   "language": "julia",
   "name": "julia-1.5"
  },
  "language_info": {
   "file_extension": ".jl",
   "mimetype": "application/julia",
   "name": "julia",
   "version": "1.5.3"
  }
 },
 "nbformat": 4,
 "nbformat_minor": 4
}
