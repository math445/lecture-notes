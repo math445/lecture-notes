{
 "cells": [
  {
   "cell_type": "code",
   "execution_count": 22,
   "id": "figured-citation",
   "metadata": {},
   "outputs": [],
   "source": [
    "using LinearAlgebra"
   ]
  },
  {
   "cell_type": "markdown",
   "id": "interior-kingdom",
   "metadata": {},
   "source": [
    "---\n",
    "\n",
    "# AD using operator overloading\n",
    "\n",
    "https://julialang.zulipchat.com/#narrow/stream/225542-helpdesk/topic/Comparing.20julia.20and.20numpy/near/209135246\n",
    "\n",
    "This is similar to the approach used by `ForwardDiff.jl`."
   ]
  },
  {
   "cell_type": "code",
   "execution_count": 23,
   "id": "vocational-import",
   "metadata": {},
   "outputs": [
    {
     "data": {
      "text/plain": [
       "Dual"
      ]
     },
     "execution_count": 23,
     "metadata": {},
     "output_type": "execute_result"
    }
   ],
   "source": [
    "# f(a+bɛ) := f(a) + b f'(a) ɛ\n",
    "#\n",
    "# f(Dual(a,b)) = Dual(f(a),b*f'(a))\n",
    "#\n",
    "# f(Dual(a,1)) = Dual(f(a),f'(a))\n",
    "\n",
    "struct Dual{T} <: Number where {T <: Real}\n",
    "    p::T\n",
    "    d::T\n",
    "end\n",
    "\n",
    "Dual(p,d) = Dual(promote(p,d)...)"
   ]
  },
  {
   "cell_type": "code",
   "execution_count": 24,
   "id": "polished-provincial",
   "metadata": {},
   "outputs": [
    {
     "data": {
      "text/plain": [
       "0 + 1*ε"
      ]
     },
     "execution_count": 24,
     "metadata": {},
     "output_type": "execute_result"
    }
   ],
   "source": [
    "import Base: promote_rule, convert, show\n",
    "\n",
    "promote_rule(::Type{Dual{T}}, ::Type{<:Real}) where T<:Real = Dual{T}\n",
    "\n",
    "convert(::Type{Dual{T}}, x::Real) where T<:Real = Dual(x,zero(T))\n",
    "\n",
    "show(io::IO, d::Dual) = print(io, \"$(d.p) + $(d.d)*ε\")\n",
    "\n",
    "ε = Dual(0, 1)"
   ]
  },
  {
   "cell_type": "code",
   "execution_count": 25,
   "id": "numeric-microwave",
   "metadata": {},
   "outputs": [
    {
     "data": {
      "text/plain": [
       "/ (generic function with 132 methods)"
      ]
     },
     "execution_count": 25,
     "metadata": {},
     "output_type": "execute_result"
    }
   ],
   "source": [
    "import Base: +, -, *, /, inv\n",
    "\n",
    "# Sum rule\n",
    "+(x::Dual, y::Dual) = Dual(x.p + y.p, x.d + y.d)\n",
    "\n",
    "# Difference rule\n",
    "-(y::Dual) = Dual(-y.p, -y.d)\n",
    "-(x::Dual, y::Dual) = x + -y\n",
    "\n",
    "# Product rule\n",
    "*(x::Dual, y::Dual) = Dual(x.p*y.p, x.d*y.p + x.p*y.d)\n",
    "\n",
    "# Quotient rule\n",
    "inv(y::Dual) = Dual(1/y.p, -y.d/y.p^2)\n",
    "/(x::Dual, y::Dual) = x*inv(y)"
   ]
  },
  {
   "cell_type": "code",
   "execution_count": 26,
   "id": "wooden-shopping",
   "metadata": {},
   "outputs": [
    {
     "data": {
      "text/plain": [
       "0.6666666666666666 + 1.6666666666666665*ε"
      ]
     },
     "execution_count": 26,
     "metadata": {},
     "output_type": "execute_result"
    }
   ],
   "source": [
    "f(x) = (x^4 + x^3)/(x^2 + x + 1)\n",
    "\n",
    "z = f(1.0 + ε)"
   ]
  },
  {
   "cell_type": "code",
   "execution_count": 27,
   "id": "nominated-patent",
   "metadata": {},
   "outputs": [
    {
     "data": {
      "text/plain": [
       "fp (generic function with 1 method)"
      ]
     },
     "execution_count": 27,
     "metadata": {},
     "output_type": "execute_result"
    }
   ],
   "source": [
    "fp(x) = f(x + ε).d"
   ]
  },
  {
   "cell_type": "code",
   "execution_count": 28,
   "id": "respected-cyprus",
   "metadata": {},
   "outputs": [
    {
     "data": {
      "text/plain": [
       "1.6666666666666665"
      ]
     },
     "execution_count": 28,
     "metadata": {},
     "output_type": "execute_result"
    }
   ],
   "source": [
    "fp(1.0)"
   ]
  },
  {
   "cell_type": "code",
   "execution_count": 29,
   "id": "micro-infrastructure",
   "metadata": {},
   "outputs": [],
   "source": [
    "using Plots"
   ]
  },
  {
   "cell_type": "code",
   "execution_count": 31,
   "id": "confident-yesterday",
   "metadata": {},
   "outputs": [
    {
     "data": {
      "image/svg+xml": [
       "<?xml version=\"1.0\" encoding=\"utf-8\"?>\n",
       "<svg xmlns=\"http://www.w3.org/2000/svg\" xmlns:xlink=\"http://www.w3.org/1999/xlink\" width=\"600\" height=\"400\" viewBox=\"0 0 2400 1600\">\n",
       "<defs>\n",
       "  <clipPath id=\"clip810\">\n",
       "    <rect x=\"0\" y=\"0\" width=\"2400\" height=\"1600\"/>\n",
       "  </clipPath>\n",
       "</defs>\n",
       "<path clip-path=\"url(#clip810)\" d=\"\n",
       "M0 1600 L2400 1600 L2400 0 L0 0  Z\n",
       "  \" fill=\"#ffffff\" fill-rule=\"evenodd\" fill-opacity=\"1\"/>\n",
       "<defs>\n",
       "  <clipPath id=\"clip811\">\n",
       "    <rect x=\"480\" y=\"0\" width=\"1681\" height=\"1600\"/>\n",
       "  </clipPath>\n",
       "</defs>\n",
       "<path clip-path=\"url(#clip810)\" d=\"\n",
       "M149.191 1486.45 L2352.76 1486.45 L2352.76 47.2441 L149.191 47.2441  Z\n",
       "  \" fill=\"#ffffff\" fill-rule=\"evenodd\" fill-opacity=\"1\"/>\n",
       "<defs>\n",
       "  <clipPath id=\"clip812\">\n",
       "    <rect x=\"149\" y=\"47\" width=\"2205\" height=\"1440\"/>\n",
       "  </clipPath>\n",
       "</defs>\n",
       "<polyline clip-path=\"url(#clip812)\" style=\"stroke:#000000; stroke-width:2; stroke-opacity:0.1; fill:none\" points=\"\n",
       "  211.556,1486.45 211.556,47.2441 \n",
       "  \"/>\n",
       "<polyline clip-path=\"url(#clip812)\" style=\"stroke:#000000; stroke-width:2; stroke-opacity:0.1; fill:none\" points=\"\n",
       "  731.265,1486.45 731.265,47.2441 \n",
       "  \"/>\n",
       "<polyline clip-path=\"url(#clip812)\" style=\"stroke:#000000; stroke-width:2; stroke-opacity:0.1; fill:none\" points=\"\n",
       "  1250.97,1486.45 1250.97,47.2441 \n",
       "  \"/>\n",
       "<polyline clip-path=\"url(#clip812)\" style=\"stroke:#000000; stroke-width:2; stroke-opacity:0.1; fill:none\" points=\"\n",
       "  1770.68,1486.45 1770.68,47.2441 \n",
       "  \"/>\n",
       "<polyline clip-path=\"url(#clip812)\" style=\"stroke:#000000; stroke-width:2; stroke-opacity:0.1; fill:none\" points=\"\n",
       "  2290.39,1486.45 2290.39,47.2441 \n",
       "  \"/>\n",
       "<polyline clip-path=\"url(#clip810)\" style=\"stroke:#000000; stroke-width:4; stroke-opacity:1; fill:none\" points=\"\n",
       "  149.191,1486.45 2352.76,1486.45 \n",
       "  \"/>\n",
       "<polyline clip-path=\"url(#clip810)\" style=\"stroke:#000000; stroke-width:4; stroke-opacity:1; fill:none\" points=\"\n",
       "  211.556,1486.45 211.556,1469.18 \n",
       "  \"/>\n",
       "<polyline clip-path=\"url(#clip810)\" style=\"stroke:#000000; stroke-width:4; stroke-opacity:1; fill:none\" points=\"\n",
       "  731.265,1486.45 731.265,1469.18 \n",
       "  \"/>\n",
       "<polyline clip-path=\"url(#clip810)\" style=\"stroke:#000000; stroke-width:4; stroke-opacity:1; fill:none\" points=\"\n",
       "  1250.97,1486.45 1250.97,1469.18 \n",
       "  \"/>\n",
       "<polyline clip-path=\"url(#clip810)\" style=\"stroke:#000000; stroke-width:4; stroke-opacity:1; fill:none\" points=\"\n",
       "  1770.68,1486.45 1770.68,1469.18 \n",
       "  \"/>\n",
       "<polyline clip-path=\"url(#clip810)\" style=\"stroke:#000000; stroke-width:4; stroke-opacity:1; fill:none\" points=\"\n",
       "  2290.39,1486.45 2290.39,1469.18 \n",
       "  \"/>\n",
       "<path clip-path=\"url(#clip810)\" d=\"M 0 0 M181.498 1530.29 L211.174 1530.29 L211.174 1534.23 L181.498 1534.23 L181.498 1530.29 Z\" fill=\"#000000\" fill-rule=\"evenodd\" fill-opacity=\"1\" /><path clip-path=\"url(#clip810)\" d=\"M 0 0 M225.294 1543.18 L241.614 1543.18 L241.614 1547.12 L219.669 1547.12 L219.669 1543.18 Q222.331 1540.43 226.915 1535.8 Q231.521 1531.15 232.702 1529.81 Q234.947 1527.28 235.827 1525.55 Q236.729 1523.79 236.729 1522.1 Q236.729 1519.34 234.785 1517.61 Q232.864 1515.87 229.762 1515.87 Q227.563 1515.87 225.109 1516.63 Q222.679 1517.4 219.901 1518.95 L219.901 1514.23 Q222.725 1513.09 225.179 1512.51 Q227.632 1511.93 229.669 1511.93 Q235.04 1511.93 238.234 1514.62 Q241.428 1517.31 241.428 1521.8 Q241.428 1523.93 240.618 1525.85 Q239.831 1527.74 237.725 1530.34 Q237.146 1531.01 234.044 1534.23 Q230.942 1537.42 225.294 1543.18 Z\" fill=\"#000000\" fill-rule=\"evenodd\" fill-opacity=\"1\" /><path clip-path=\"url(#clip810)\" d=\"M 0 0 M701.022 1530.29 L730.698 1530.29 L730.698 1534.23 L701.022 1534.23 L701.022 1530.29 Z\" fill=\"#000000\" fill-rule=\"evenodd\" fill-opacity=\"1\" /><path clip-path=\"url(#clip810)\" d=\"M 0 0 M741.6 1543.18 L749.239 1543.18 L749.239 1516.82 L740.929 1518.49 L740.929 1514.23 L749.193 1512.56 L753.869 1512.56 L753.869 1543.18 L761.508 1543.18 L761.508 1547.12 L741.6 1547.12 L741.6 1543.18 Z\" fill=\"#000000\" fill-rule=\"evenodd\" fill-opacity=\"1\" /><path clip-path=\"url(#clip810)\" d=\"M 0 0 M1250.97 1515.64 Q1247.36 1515.64 1245.53 1519.2 Q1243.73 1522.75 1243.73 1529.87 Q1243.73 1536.98 1245.53 1540.55 Q1247.36 1544.09 1250.97 1544.09 Q1254.61 1544.09 1256.41 1540.55 Q1258.24 1536.98 1258.24 1529.87 Q1258.24 1522.75 1256.41 1519.2 Q1254.61 1515.64 1250.97 1515.64 M1250.97 1511.93 Q1256.78 1511.93 1259.84 1516.54 Q1262.92 1521.12 1262.92 1529.87 Q1262.92 1538.6 1259.84 1543.21 Q1256.78 1547.79 1250.97 1547.79 Q1245.16 1547.79 1242.08 1543.21 Q1239.03 1538.6 1239.03 1529.87 Q1239.03 1521.12 1242.08 1516.54 Q1245.16 1511.93 1250.97 1511.93 Z\" fill=\"#000000\" fill-rule=\"evenodd\" fill-opacity=\"1\" /><path clip-path=\"url(#clip810)\" d=\"M 0 0 M1761.06 1543.18 L1768.7 1543.18 L1768.7 1516.82 L1760.39 1518.49 L1760.39 1514.23 L1768.66 1512.56 L1773.33 1512.56 L1773.33 1543.18 L1780.97 1543.18 L1780.97 1547.12 L1761.06 1547.12 L1761.06 1543.18 Z\" fill=\"#000000\" fill-rule=\"evenodd\" fill-opacity=\"1\" /><path clip-path=\"url(#clip810)\" d=\"M 0 0 M2285.04 1543.18 L2301.36 1543.18 L2301.36 1547.12 L2279.42 1547.12 L2279.42 1543.18 Q2282.08 1540.43 2286.66 1535.8 Q2291.27 1531.15 2292.45 1529.81 Q2294.7 1527.28 2295.58 1525.55 Q2296.48 1523.79 2296.48 1522.1 Q2296.48 1519.34 2294.53 1517.61 Q2292.61 1515.87 2289.51 1515.87 Q2287.31 1515.87 2284.86 1516.63 Q2282.43 1517.4 2279.65 1518.95 L2279.65 1514.23 Q2282.47 1513.09 2284.93 1512.51 Q2287.38 1511.93 2289.42 1511.93 Q2294.79 1511.93 2297.98 1514.62 Q2301.18 1517.31 2301.18 1521.8 Q2301.18 1523.93 2300.37 1525.85 Q2299.58 1527.74 2297.47 1530.34 Q2296.9 1531.01 2293.79 1534.23 Q2290.69 1537.42 2285.04 1543.18 Z\" fill=\"#000000\" fill-rule=\"evenodd\" fill-opacity=\"1\" /><polyline clip-path=\"url(#clip812)\" style=\"stroke:#000000; stroke-width:2; stroke-opacity:0.1; fill:none\" points=\"\n",
       "  149.191,1445.72 2352.76,1445.72 \n",
       "  \"/>\n",
       "<polyline clip-path=\"url(#clip812)\" style=\"stroke:#000000; stroke-width:2; stroke-opacity:0.1; fill:none\" points=\"\n",
       "  149.191,1099.21 2352.76,1099.21 \n",
       "  \"/>\n",
       "<polyline clip-path=\"url(#clip812)\" style=\"stroke:#000000; stroke-width:2; stroke-opacity:0.1; fill:none\" points=\"\n",
       "  149.191,752.703 2352.76,752.703 \n",
       "  \"/>\n",
       "<polyline clip-path=\"url(#clip812)\" style=\"stroke:#000000; stroke-width:2; stroke-opacity:0.1; fill:none\" points=\"\n",
       "  149.191,406.196 2352.76,406.196 \n",
       "  \"/>\n",
       "<polyline clip-path=\"url(#clip812)\" style=\"stroke:#000000; stroke-width:2; stroke-opacity:0.1; fill:none\" points=\"\n",
       "  149.191,59.69 2352.76,59.69 \n",
       "  \"/>\n",
       "<polyline clip-path=\"url(#clip810)\" style=\"stroke:#000000; stroke-width:4; stroke-opacity:1; fill:none\" points=\"\n",
       "  149.191,1486.45 149.191,47.2441 \n",
       "  \"/>\n",
       "<polyline clip-path=\"url(#clip810)\" style=\"stroke:#000000; stroke-width:4; stroke-opacity:1; fill:none\" points=\"\n",
       "  149.191,1445.72 175.634,1445.72 \n",
       "  \"/>\n",
       "<polyline clip-path=\"url(#clip810)\" style=\"stroke:#000000; stroke-width:4; stroke-opacity:1; fill:none\" points=\"\n",
       "  149.191,1099.21 175.634,1099.21 \n",
       "  \"/>\n",
       "<polyline clip-path=\"url(#clip810)\" style=\"stroke:#000000; stroke-width:4; stroke-opacity:1; fill:none\" points=\"\n",
       "  149.191,752.703 175.634,752.703 \n",
       "  \"/>\n",
       "<polyline clip-path=\"url(#clip810)\" style=\"stroke:#000000; stroke-width:4; stroke-opacity:1; fill:none\" points=\"\n",
       "  149.191,406.196 175.634,406.196 \n",
       "  \"/>\n",
       "<polyline clip-path=\"url(#clip810)\" style=\"stroke:#000000; stroke-width:4; stroke-opacity:1; fill:none\" points=\"\n",
       "  149.191,59.69 175.634,59.69 \n",
       "  \"/>\n",
       "<path clip-path=\"url(#clip810)\" d=\"M 0 0 M50.9921 1446.17 L80.6679 1446.17 L80.6679 1450.1 L50.9921 1450.1 L50.9921 1446.17 Z\" fill=\"#000000\" fill-rule=\"evenodd\" fill-opacity=\"1\" /><path clip-path=\"url(#clip810)\" d=\"M 0 0 M103.608 1432.51 L91.8021 1450.96 L103.608 1450.96 L103.608 1432.51 M102.381 1428.44 L108.26 1428.44 L108.26 1450.96 L113.191 1450.96 L113.191 1454.85 L108.26 1454.85 L108.26 1463 L103.608 1463 L103.608 1454.85 L88.0058 1454.85 L88.0058 1450.33 L102.381 1428.44 Z\" fill=\"#000000\" fill-rule=\"evenodd\" fill-opacity=\"1\" /><path clip-path=\"url(#clip810)\" d=\"M 0 0 M53.0754 1099.66 L82.7512 1099.66 L82.7512 1103.6 L53.0754 1103.6 L53.0754 1099.66 Z\" fill=\"#000000\" fill-rule=\"evenodd\" fill-opacity=\"1\" /><path clip-path=\"url(#clip810)\" d=\"M 0 0 M96.8715 1112.55 L113.191 1112.55 L113.191 1116.49 L91.2465 1116.49 L91.2465 1112.55 Q93.9086 1109.8 98.4919 1105.17 Q103.098 1100.52 104.279 1099.17 Q106.524 1096.65 107.404 1094.92 Q108.307 1093.16 108.307 1091.47 Q108.307 1088.71 106.362 1086.98 Q104.441 1085.24 101.339 1085.24 Q99.14 1085.24 96.6863 1086 Q94.2558 1086.77 91.478 1088.32 L91.478 1083.6 Q94.3021 1082.46 96.7558 1081.88 Q99.2095 1081.3 101.246 1081.3 Q106.617 1081.3 109.811 1083.99 Q113.006 1086.67 113.006 1091.17 Q113.006 1093.29 112.196 1095.22 Q111.408 1097.11 109.302 1099.71 Q108.723 1100.38 105.621 1103.6 Q102.52 1106.79 96.8715 1112.55 Z\" fill=\"#000000\" fill-rule=\"evenodd\" fill-opacity=\"1\" /><path clip-path=\"url(#clip810)\" d=\"M 0 0 M101.246 738.502 Q97.6354 738.502 95.8067 742.066 Q94.0012 745.608 94.0012 752.738 Q94.0012 759.844 95.8067 763.409 Q97.6354 766.95 101.246 766.95 Q104.881 766.95 106.686 763.409 Q108.515 759.844 108.515 752.738 Q108.515 745.608 106.686 742.066 Q104.881 738.502 101.246 738.502 M101.246 734.798 Q107.057 734.798 110.112 739.404 Q113.191 743.988 113.191 752.738 Q113.191 761.464 110.112 766.071 Q107.057 770.654 101.246 770.654 Q95.4363 770.654 92.3576 766.071 Q89.3021 761.464 89.3021 752.738 Q89.3021 743.988 92.3576 739.404 Q95.4363 734.798 101.246 734.798 Z\" fill=\"#000000\" fill-rule=\"evenodd\" fill-opacity=\"1\" /><path clip-path=\"url(#clip810)\" d=\"M 0 0 M96.8715 419.541 L113.191 419.541 L113.191 423.476 L91.2465 423.476 L91.2465 419.541 Q93.9086 416.787 98.4919 412.157 Q103.098 407.504 104.279 406.162 Q106.524 403.639 107.404 401.902 Q108.307 400.143 108.307 398.453 Q108.307 395.699 106.362 393.963 Q104.441 392.227 101.339 392.227 Q99.14 392.227 96.6863 392.991 Q94.2558 393.754 91.478 395.305 L91.478 390.583 Q94.3021 389.449 96.7558 388.87 Q99.2095 388.291 101.246 388.291 Q106.617 388.291 109.811 390.977 Q113.006 393.662 113.006 398.153 Q113.006 400.282 112.196 402.203 Q111.408 404.102 109.302 406.694 Q108.723 407.365 105.621 410.583 Q102.52 413.777 96.8715 419.541 Z\" fill=\"#000000\" fill-rule=\"evenodd\" fill-opacity=\"1\" /><path clip-path=\"url(#clip810)\" d=\"M 0 0 M103.608 46.4841 L91.8021 64.9331 L103.608 64.9331 L103.608 46.4841 M102.381 42.41 L108.26 42.41 L108.26 64.9331 L113.191 64.9331 L113.191 68.8219 L108.26 68.8219 L108.26 76.97 L103.608 76.97 L103.608 68.8219 L88.0058 68.8219 L88.0058 64.3081 L102.381 42.41 Z\" fill=\"#000000\" fill-rule=\"evenodd\" fill-opacity=\"1\" /><polyline clip-path=\"url(#clip812)\" style=\"stroke:#009af9; stroke-width:4; stroke-opacity:1; fill:none\" points=\"\n",
       "  211.556,290.694 232.554,318.379 253.553,345.428 274.551,371.83 295.549,397.577 316.548,422.658 337.546,447.06 358.544,470.769 379.543,493.771 400.541,516.049 \n",
       "  421.539,537.584 442.538,558.358 463.536,578.348 484.534,597.531 505.533,615.881 526.531,633.371 547.529,649.973 568.528,665.657 589.526,680.39 610.524,694.142 \n",
       "  631.523,706.881 652.521,718.575 673.519,729.198 694.518,738.724 715.516,747.135 736.514,754.418 757.513,760.57 778.511,765.602 799.509,769.537 820.508,772.412 \n",
       "  841.506,774.283 862.504,775.226 883.503,775.33 904.501,774.703 925.499,773.467 946.498,771.753 967.496,769.696 988.494,767.432 1009.49,765.088 1030.49,762.781 \n",
       "  1051.49,760.61 1072.49,758.652 1093.49,756.963 1114.48,755.573 1135.48,754.491 1156.48,753.704 1177.48,753.182 1198.48,752.879 1219.48,752.741 1240.47,752.704 \n",
       "  1261.47,752.701 1282.47,752.664 1303.47,752.526 1324.47,752.221 1345.47,751.69 1366.46,750.875 1387.46,749.727 1408.46,748.199 1429.46,746.251 1450.46,743.848 \n",
       "  1471.46,740.958 1492.45,737.556 1513.45,733.618 1534.45,729.126 1555.45,724.063 1576.45,718.417 1597.45,712.176 1618.44,705.332 1639.44,697.877 1660.44,689.806 \n",
       "  1681.44,681.115 1702.44,671.801 1723.44,661.861 1744.43,651.293 1765.43,640.098 1786.43,628.274 1807.43,615.821 1828.43,602.741 1849.43,589.034 1870.42,574.7 \n",
       "  1891.42,559.741 1912.42,544.158 1933.42,527.953 1954.42,511.127 1975.42,493.681 1996.41,475.618 2017.41,456.938 2038.41,437.643 2059.41,417.735 2080.41,397.215 \n",
       "  2101.41,376.085 2122.4,354.347 2143.4,332.001 2164.4,309.049 2185.4,285.493 2206.4,261.334 2227.4,236.573 2248.39,211.212 2269.39,185.251 2290.39,158.692 \n",
       "  \n",
       "  \"/>\n",
       "<polyline clip-path=\"url(#clip812)\" style=\"stroke:#e26f46; stroke-width:4; stroke-opacity:1; fill:none\" points=\"\n",
       "  211.556,1445.72 232.554,1430.06 253.553,1414.2 274.551,1398.1 295.549,1381.74 316.548,1365.1 337.546,1348.13 358.544,1330.82 379.543,1313.11 400.541,1294.97 \n",
       "  421.539,1276.37 442.538,1257.25 463.536,1237.57 484.534,1217.28 505.533,1196.35 526.531,1174.72 547.529,1152.36 568.528,1129.24 589.526,1105.34 610.524,1080.65 \n",
       "  631.523,1055.19 652.521,1028.99 673.519,1002.14 694.518,974.734 715.516,946.938 736.514,918.957 757.513,891.05 778.511,863.534 799.509,836.774 820.508,811.179 \n",
       "  841.506,787.186 862.504,765.239 883.503,745.762 904.501,729.131 925.499,715.639 946.498,705.471 967.496,698.679 988.494,695.17 1009.49,694.706 1030.49,696.918 \n",
       "  1051.49,701.33 1072.49,707.39 1093.49,714.515 1114.48,722.122 1135.48,729.666 1156.48,736.663 1177.48,742.712 1198.48,747.501 1219.48,750.806 1240.47,752.491 \n",
       "  1261.47,752.491 1282.47,750.805 1303.47,747.479 1324.47,742.598 1345.47,736.268 1366.46,728.613 1387.46,719.762 1408.46,709.846 1429.46,698.991 1450.46,687.318 \n",
       "  1471.46,674.938 1492.45,661.952 1513.45,648.453 1534.45,634.521 1555.45,620.229 1576.45,605.64 1597.45,590.808 1618.44,575.78 1639.44,560.597 1660.44,545.293 \n",
       "  1681.44,529.898 1702.44,514.435 1723.44,498.927 1744.43,483.389 1765.43,467.836 1786.43,452.281 1807.43,436.733 1828.43,421.2 1849.43,405.687 1870.42,390.201 \n",
       "  1891.42,374.745 1912.42,359.322 1933.42,343.934 1954.42,328.583 1975.42,313.27 1996.41,297.996 2017.41,282.76 2038.41,267.563 2059.41,252.404 2080.41,237.283 \n",
       "  2101.41,222.199 2122.4,207.152 2143.4,192.141 2164.4,177.164 2185.4,162.221 2206.4,147.311 2227.4,132.432 2248.39,117.584 2269.39,102.766 2290.39,87.9763 \n",
       "  \n",
       "  \"/>\n",
       "</svg>\n"
      ]
     },
     "execution_count": 31,
     "metadata": {},
     "output_type": "execute_result"
    }
   ],
   "source": [
    "xx = range(-2, 2, length=100)\n",
    "plot(legend=:none)\n",
    "plot!(xx, f.(xx))\n",
    "plot!(xx, fp.(xx))"
   ]
  },
  {
   "cell_type": "markdown",
   "id": "persistent-farmer",
   "metadata": {},
   "source": [
    "---\n",
    "\n",
    "# Zygote.jl\n",
    "\n",
    "The Zygote provides source-to-source automatic differentiation."
   ]
  },
  {
   "cell_type": "code",
   "execution_count": 1,
   "id": "italic-notebook",
   "metadata": {},
   "outputs": [],
   "source": [
    "using Zygote"
   ]
  },
  {
   "cell_type": "code",
   "execution_count": 35,
   "id": "tracked-massage",
   "metadata": {},
   "outputs": [
    {
     "data": {
      "text/plain": [
       "7.0"
      ]
     },
     "execution_count": 35,
     "metadata": {},
     "output_type": "execute_result"
    }
   ],
   "source": [
    "f(x) = x^4 + x^3\n",
    "\n",
    "f'(1.0)"
   ]
  },
  {
   "cell_type": "code",
   "execution_count": 36,
   "id": "every-milan",
   "metadata": {},
   "outputs": [
    {
     "data": {
      "text/plain": [
       "7.0"
      ]
     },
     "execution_count": 36,
     "metadata": {},
     "output_type": "execute_result"
    }
   ],
   "source": [
    "fp(x) = 4x^3 + 3x^2\n",
    "\n",
    "fp(1.0)"
   ]
  },
  {
   "cell_type": "code",
   "execution_count": 37,
   "id": "instructional-ceramic",
   "metadata": {},
   "outputs": [
    {
     "name": "stdout",
     "output_type": "stream",
     "text": [
      "\u001b[90m;  @ In[36]:1 within `fp'\u001b[39m\n",
      "\u001b[95mdefine\u001b[39m \u001b[36mdouble\u001b[39m \u001b[93m@julia_fp_7661\u001b[39m\u001b[33m(\u001b[39m\u001b[36mdouble\u001b[39m \u001b[0m%0\u001b[33m)\u001b[39m \u001b[33m{\u001b[39m\n",
      "\u001b[91mtop:\u001b[39m\n",
      "\u001b[90m; ┌ @ intfuncs.jl:313 within `literal_pow'\u001b[39m\n",
      "\u001b[90m; │┌ @ operators.jl:560 within `*' @ float.jl:332\u001b[39m\n",
      "    \u001b[0m%1 \u001b[0m= \u001b[96m\u001b[1mfmul\u001b[22m\u001b[39m \u001b[36mdouble\u001b[39m \u001b[0m%0\u001b[0m, \u001b[0m%0\n",
      "    \u001b[0m%2 \u001b[0m= \u001b[96m\u001b[1mfmul\u001b[22m\u001b[39m \u001b[36mdouble\u001b[39m \u001b[0m%1\u001b[0m, \u001b[0m%0\n",
      "\u001b[90m; └└\u001b[39m\n",
      "\u001b[90m; ┌ @ promotion.jl:322 within `*' @ float.jl:332\u001b[39m\n",
      "   \u001b[0m%3 \u001b[0m= \u001b[96m\u001b[1mfmul\u001b[22m\u001b[39m \u001b[36mdouble\u001b[39m \u001b[0m%2\u001b[0m, \u001b[33m4.000000e+00\u001b[39m\n",
      "   \u001b[0m%4 \u001b[0m= \u001b[96m\u001b[1mfmul\u001b[22m\u001b[39m \u001b[36mdouble\u001b[39m \u001b[0m%1\u001b[0m, \u001b[33m3.000000e+00\u001b[39m\n",
      "\u001b[90m; └\u001b[39m\n",
      "\u001b[90m; ┌ @ float.jl:326 within `+'\u001b[39m\n",
      "   \u001b[0m%5 \u001b[0m= \u001b[96m\u001b[1mfadd\u001b[22m\u001b[39m \u001b[36mdouble\u001b[39m \u001b[0m%4\u001b[0m, \u001b[0m%3\n",
      "\u001b[90m; └\u001b[39m\n",
      "  \u001b[96m\u001b[1mret\u001b[22m\u001b[39m \u001b[36mdouble\u001b[39m \u001b[0m%5\n",
      "\u001b[33m}\u001b[39m\n"
     ]
    }
   ],
   "source": [
    "@code_llvm fp(1.0)"
   ]
  },
  {
   "cell_type": "code",
   "execution_count": 38,
   "id": "bronze-ridge",
   "metadata": {},
   "outputs": [
    {
     "name": "stdout",
     "output_type": "stream",
     "text": [
      "\u001b[90m;  @ /Users/krislock/.julia/packages/Zygote/lwmfx/src/compiler/interface.jl:62 within `#43'\u001b[39m\n",
      "\u001b[95mdefine\u001b[39m \u001b[36mdouble\u001b[39m \u001b[93m@\"julia_#43_7663\"\u001b[39m\u001b[33m(\u001b[39m\u001b[36mdouble\u001b[39m \u001b[0m%0\u001b[33m)\u001b[39m \u001b[33m{\u001b[39m\n",
      "\u001b[91mtop:\u001b[39m\n",
      "\u001b[90m; ┌ @ /Users/krislock/.julia/packages/Zygote/lwmfx/src/compiler/interface.jl:59 within `gradient'\u001b[39m\n",
      "\u001b[90m; │┌ @ /Users/krislock/.julia/packages/Zygote/lwmfx/src/compiler/interface.jl:41 within `#41'\u001b[39m\n",
      "\u001b[90m; ││┌ @ In[35]:1 within `Pullback'\u001b[39m\n",
      "\u001b[90m; │││┌ @ /Users/krislock/.julia/packages/ZygoteRules/OjfTt/src/adjoint.jl:59 within `#1757#back'\u001b[39m\n",
      "\u001b[90m; ││││┌ @ /Users/krislock/.julia/packages/Zygote/lwmfx/src/lib/number.jl:6 within `#214'\u001b[39m\n",
      "\u001b[90m; │││││┌ @ intfuncs.jl:312 within `literal_pow'\u001b[39m\n",
      "\u001b[90m; ││││││┌ @ float.jl:332 within `*'\u001b[39m\n",
      "         \u001b[0m%1 \u001b[0m= \u001b[96m\u001b[1mfmul\u001b[22m\u001b[39m \u001b[36mdouble\u001b[39m \u001b[0m%0\u001b[0m, \u001b[0m%0\n",
      "\u001b[90m; │││││└└\u001b[39m\n",
      "\u001b[90m; │││││┌ @ promotion.jl:322 within `*' @ float.jl:332\u001b[39m\n",
      "        \u001b[0m%2 \u001b[0m= \u001b[96m\u001b[1mfmul\u001b[22m\u001b[39m \u001b[36mdouble\u001b[39m \u001b[0m%1\u001b[0m, \u001b[33m3.000000e+00\u001b[39m\n",
      "\u001b[90m; │││││└\u001b[39m\n",
      "\u001b[90m; │││││┌ @ intfuncs.jl:313 within `literal_pow'\u001b[39m\n",
      "\u001b[90m; ││││││┌ @ operators.jl:560 within `*' @ float.jl:332\u001b[39m\n",
      "         \u001b[0m%3 \u001b[0m= \u001b[96m\u001b[1mfmul\u001b[22m\u001b[39m \u001b[36mdouble\u001b[39m \u001b[0m%1\u001b[0m, \u001b[0m%0\n",
      "\u001b[90m; │││││└└\u001b[39m\n",
      "\u001b[90m; │││││┌ @ promotion.jl:322 within `*' @ float.jl:332\u001b[39m\n",
      "        \u001b[0m%4 \u001b[0m= \u001b[96m\u001b[1mfmul\u001b[22m\u001b[39m \u001b[36mdouble\u001b[39m \u001b[0m%3\u001b[0m, \u001b[33m4.000000e+00\u001b[39m\n",
      "\u001b[90m; ││└└└└\u001b[39m\n",
      "\u001b[90m; ││┌ @ /Users/krislock/.julia/packages/Zygote/lwmfx/src/lib/lib.jl:8 within `accum'\u001b[39m\n",
      "\u001b[90m; │││┌ @ float.jl:326 within `+'\u001b[39m\n",
      "      \u001b[0m%5 \u001b[0m= \u001b[96m\u001b[1mfadd\u001b[22m\u001b[39m \u001b[36mdouble\u001b[39m \u001b[0m%2\u001b[0m, \u001b[0m%4\n",
      "\u001b[90m; └└└└\u001b[39m\n",
      "  \u001b[96m\u001b[1mret\u001b[22m\u001b[39m \u001b[36mdouble\u001b[39m \u001b[0m%5\n",
      "\u001b[33m}\u001b[39m\n"
     ]
    }
   ],
   "source": [
    "@code_llvm f'(1.0)"
   ]
  },
  {
   "cell_type": "markdown",
   "id": "shaped-meditation",
   "metadata": {},
   "source": [
    "---\n",
    "\n",
    "# AD of neural net using Zygote"
   ]
  },
  {
   "cell_type": "code",
   "execution_count": 39,
   "id": "pretty-pakistan",
   "metadata": {},
   "outputs": [
    {
     "data": {
      "text/plain": [
       "ReLU (generic function with 1 method)"
      ]
     },
     "execution_count": 39,
     "metadata": {},
     "output_type": "execute_result"
    }
   ],
   "source": [
    "ReLU(γ) = max(0, γ)"
   ]
  },
  {
   "cell_type": "code",
   "execution_count": 57,
   "id": "willing-zealand",
   "metadata": {},
   "outputs": [
    {
     "data": {
      "text/plain": [
       "(A = [1 0; -2 1], b = [1, 0], c = [1, 1])"
      ]
     },
     "execution_count": 57,
     "metadata": {},
     "output_type": "execute_result"
    }
   ],
   "source": [
    "# Parameters\n",
    "A = [ 1 0; -2 1 ]\n",
    "b = [ 1, 0 ]\n",
    "c = [ 1, 1 ]\n",
    "\n",
    "# put parameters in a named tuple\n",
    "p = (A=A, b=b, c=c)"
   ]
  },
  {
   "cell_type": "code",
   "execution_count": 58,
   "id": "experienced-ideal",
   "metadata": {},
   "outputs": [
    {
     "data": {
      "text/plain": [
       "2×2 Matrix{Int64}:\n",
       "  1  0\n",
       " -2  1"
      ]
     },
     "execution_count": 58,
     "metadata": {},
     "output_type": "execute_result"
    }
   ],
   "source": [
    "p.A"
   ]
  },
  {
   "cell_type": "code",
   "execution_count": 64,
   "id": "creative-civilization",
   "metadata": {},
   "outputs": [
    {
     "data": {
      "text/plain": [
       "loss (generic function with 1 method)"
      ]
     },
     "execution_count": 64,
     "metadata": {},
     "output_type": "execute_result"
    }
   ],
   "source": [
    "# Neural net\n",
    "function predict(p, x)\n",
    "    y = p.A*x + p.b\n",
    "    z = ReLU.(y)\n",
    "    w = p.c'z\n",
    "end\n",
    "\n",
    "# Loss function\n",
    "loss(w, w̄) = (w - w̄)^2"
   ]
  },
  {
   "cell_type": "code",
   "execution_count": 72,
   "id": "norwegian-bristol",
   "metadata": {},
   "outputs": [
    {
     "data": {
      "text/plain": [
       "2-element Vector{Int64}:\n",
       "  2\n",
       " -2"
      ]
     },
     "execution_count": 72,
     "metadata": {},
     "output_type": "execute_result"
    }
   ],
   "source": [
    "# Data\n",
    "x = rand(-3:3, 2) # [1, 1]"
   ]
  },
  {
   "cell_type": "code",
   "execution_count": 73,
   "id": "cleared-scholar",
   "metadata": {},
   "outputs": [
    {
     "data": {
      "text/plain": [
       "3"
      ]
     },
     "execution_count": 73,
     "metadata": {},
     "output_type": "execute_result"
    }
   ],
   "source": [
    "w = predict(p, x)"
   ]
  },
  {
   "cell_type": "code",
   "execution_count": 74,
   "id": "remarkable-plasma",
   "metadata": {},
   "outputs": [
    {
     "data": {
      "text/plain": [
       "4"
      ]
     },
     "execution_count": 74,
     "metadata": {},
     "output_type": "execute_result"
    }
   ],
   "source": [
    "w̄ = 1\n",
    "\n",
    "loss(w, w̄)"
   ]
  },
  {
   "cell_type": "code",
   "execution_count": 75,
   "id": "collaborative-ribbon",
   "metadata": {},
   "outputs": [
    {
     "data": {
      "text/plain": [
       "f (generic function with 1 method)"
      ]
     },
     "execution_count": 75,
     "metadata": {},
     "output_type": "execute_result"
    }
   ],
   "source": [
    "f(p) = loss(predict(p,x), w̄)"
   ]
  },
  {
   "cell_type": "code",
   "execution_count": 76,
   "id": "heated-dress",
   "metadata": {},
   "outputs": [
    {
     "data": {
      "text/plain": [
       "∇f (generic function with 1 method)"
      ]
     },
     "execution_count": 76,
     "metadata": {},
     "output_type": "execute_result"
    }
   ],
   "source": [
    "∇f(p) = gradient(f, p)[1]"
   ]
  },
  {
   "cell_type": "code",
   "execution_count": 77,
   "id": "racial-conservation",
   "metadata": {},
   "outputs": [
    {
     "data": {
      "text/plain": [
       "(A = [8 -8; 0 0], b = [4, 0], c = [12, 0])"
      ]
     },
     "execution_count": 77,
     "metadata": {},
     "output_type": "execute_result"
    }
   ],
   "source": [
    "∇f(p)"
   ]
  },
  {
   "cell_type": "markdown",
   "id": "elementary-mailing",
   "metadata": {},
   "source": [
    "---"
   ]
  }
 ],
 "metadata": {
  "@webio": {
   "lastCommId": null,
   "lastKernelId": null
  },
  "kernelspec": {
   "display_name": "Julia 1.6.0",
   "language": "julia",
   "name": "julia-1.6"
  },
  "language_info": {
   "file_extension": ".jl",
   "mimetype": "application/julia",
   "name": "julia",
   "version": "1.6.0"
  }
 },
 "nbformat": 4,
 "nbformat_minor": 5
}
