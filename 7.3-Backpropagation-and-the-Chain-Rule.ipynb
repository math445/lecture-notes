{
 "cells": [
  {
   "cell_type": "code",
   "execution_count": null,
   "id": "figured-citation",
   "metadata": {},
   "outputs": [],
   "source": [
    "using LinearAlgebra\n",
    "using Plots, LaTeXStrings"
   ]
  },
  {
   "cell_type": "markdown",
   "id": "interior-kingdom",
   "metadata": {},
   "source": [
    "---\n",
    "\n",
    "# AD using operator overloading\n",
    "\n",
    "https://julialang.zulipchat.com/#narrow/stream/225542-helpdesk/topic/Comparing.20julia.20and.20numpy/near/209135246\n",
    "\n",
    "This is similar to the approach used by `ForwardDiff.jl`."
   ]
  },
  {
   "cell_type": "code",
   "execution_count": null,
   "id": "vocational-import",
   "metadata": {},
   "outputs": [],
   "source": [
    "# f(p + dɛ) := f(p) + b f'(d) ɛ\n",
    "#\n",
    "# f(Dual(p, d)) = Dual(f(p), d*f'(p))\n",
    "#\n",
    "# f(Dual(p, 1)) = Dual(f(p), f'(p))\n",
    "\n",
    "struct Dual{T} <: Number where {T <: Real}\n",
    "    p::T\n",
    "    d::T\n",
    "end\n",
    "\n",
    "Dual(p,d) = Dual(promote(p,d)...)"
   ]
  },
  {
   "cell_type": "code",
   "execution_count": null,
   "id": "advised-registration",
   "metadata": {},
   "outputs": [],
   "source": [
    "promote(1, 2.0)"
   ]
  },
  {
   "cell_type": "code",
   "execution_count": null,
   "id": "introductory-pension",
   "metadata": {},
   "outputs": [],
   "source": [
    "Dual(1, 1//2)"
   ]
  },
  {
   "cell_type": "code",
   "execution_count": null,
   "id": "focused-rachel",
   "metadata": {},
   "outputs": [],
   "source": [
    "subtypes(Number)"
   ]
  },
  {
   "cell_type": "code",
   "execution_count": null,
   "id": "thrown-amateur",
   "metadata": {},
   "outputs": [],
   "source": [
    "subtypes(Real)"
   ]
  },
  {
   "cell_type": "code",
   "execution_count": null,
   "id": "nervous-introduction",
   "metadata": {},
   "outputs": [],
   "source": [
    "Real <: Number"
   ]
  },
  {
   "cell_type": "code",
   "execution_count": null,
   "id": "vertical-planner",
   "metadata": {},
   "outputs": [],
   "source": [
    "String <: Number"
   ]
  },
  {
   "cell_type": "code",
   "execution_count": null,
   "id": "worthy-municipality",
   "metadata": {},
   "outputs": [],
   "source": [
    "z = Dual(3, 1)"
   ]
  },
  {
   "cell_type": "code",
   "execution_count": null,
   "id": "polished-provincial",
   "metadata": {},
   "outputs": [],
   "source": [
    "import Base: promote_rule, convert, show\n",
    "\n",
    "promote_rule(::Type{Dual{T}}, ::Type{<:Real}) where T<:Real = Dual{T}\n",
    "\n",
    "convert(::Type{Dual{T}}, x::Real) where T<:Real = Dual(x,zero(T))\n",
    "\n",
    "show(io::IO, d::Dual) = print(io, \"$(d.p) + $(d.d)*ε\")\n",
    "\n",
    "ε = Dual(0, 1)"
   ]
  },
  {
   "cell_type": "code",
   "execution_count": null,
   "id": "moved-retailer",
   "metadata": {},
   "outputs": [],
   "source": [
    "z = Dual(3, 1)"
   ]
  },
  {
   "cell_type": "code",
   "execution_count": null,
   "id": "numeric-microwave",
   "metadata": {},
   "outputs": [],
   "source": [
    "import Base: +, -, *, /, inv\n",
    "\n",
    "# Sum rule\n",
    "+(x::Dual, y::Dual) = Dual(x.p + y.p, x.d + y.d)\n",
    "\n",
    "# Difference rule\n",
    "-(y::Dual) = Dual(-y.p, -y.d)\n",
    "-(x::Dual, y::Dual) = x + -y\n",
    "\n",
    "# Product rule\n",
    "*(x::Dual, y::Dual) = Dual(x.p*y.p, x.d*y.p + x.p*y.d)\n",
    "\n",
    "# Quotient rule\n",
    "inv(y::Dual) = Dual(1/y.p, -y.d/y.p^2)\n",
    "/(x::Dual, y::Dual) = x*inv(y)"
   ]
  },
  {
   "cell_type": "code",
   "execution_count": null,
   "id": "wooden-shopping",
   "metadata": {},
   "outputs": [],
   "source": [
    "f(x) = (x^4 + x^3)/(x^2 + x + 1)\n",
    "\n",
    "z = f(Dual(1.0, 1))"
   ]
  },
  {
   "cell_type": "code",
   "execution_count": null,
   "id": "nominated-patent",
   "metadata": {},
   "outputs": [],
   "source": [
    "fp(x) = f(Dual(x, 1)).d"
   ]
  },
  {
   "cell_type": "code",
   "execution_count": null,
   "id": "respected-cyprus",
   "metadata": {},
   "outputs": [],
   "source": [
    "fp(1.0)"
   ]
  },
  {
   "cell_type": "code",
   "execution_count": null,
   "id": "black-punishment",
   "metadata": {},
   "outputs": [],
   "source": [
    "g(x) = x^4 + x^3\n",
    "\n",
    "g(Dual(1.0, 1))"
   ]
  },
  {
   "cell_type": "code",
   "execution_count": null,
   "id": "micro-infrastructure",
   "metadata": {},
   "outputs": [],
   "source": [
    "xx = range(-1, 1, length=100)\n",
    "plot(legend=:topleft, xlabel=L\"x\", ylabel=L\"y\")\n",
    "plot!(xx, f.(xx), label=L\"y=f(x)\")\n",
    "plot!(xx, fp.(xx), label=L\"y=f'(x)\")"
   ]
  },
  {
   "cell_type": "markdown",
   "id": "parental-reset",
   "metadata": {},
   "source": [
    "---"
   ]
  },
  {
   "cell_type": "code",
   "execution_count": null,
   "id": "eligible-geneva",
   "metadata": {},
   "outputs": [],
   "source": [
    "# Example from the notes\n",
    "\n",
    "F1(x) = [x[1] - x[2], x[1]x[2]]\n",
    "F2(x) = [x[1]^2, x[1] - x[2]]\n",
    "F3(x) = (x[1] - 8)^2 + (x[2] - 3)^2\n",
    "\n",
    "F = F3∘F2∘F1\n",
    "\n",
    "ε = Dual(0, 1)\n",
    "\n",
    "# Two forward passes required to compute the gradient of F\n",
    "F([2 + ε, -1]), F([2, -1 + ε])"
   ]
  },
  {
   "cell_type": "markdown",
   "id": "chief-lesson",
   "metadata": {},
   "source": [
    "---\n",
    "\n",
    "# Complex Taylor series trick\n",
    "\n",
    "Using Taylor series, we have:\n",
    "\n",
    "$$\n",
    "f(x + ih) \\approx f(x) + ihf'(x)\n",
    "$$\n",
    "\n",
    "for all $h > 0$ small enough.\n",
    "\n",
    "Taking the imaginary part of both sides\n",
    "\n",
    "$$\n",
    "\\Im(f(x + ih)) \\approx hf'(x),\n",
    "$$\n",
    "\n",
    "which implies that\n",
    "\n",
    "$$\n",
    "f'(x) \\approx \\frac{\\Im(f(x + ih))}{h}\n",
    "$$\n",
    "\n",
    "for all $h > 0$ small enough."
   ]
  },
  {
   "cell_type": "code",
   "execution_count": null,
   "id": "serial-explosion",
   "metadata": {},
   "outputs": [],
   "source": [
    "x = 1.0\n",
    "h = 1e-8\n",
    "err1 = abs((sin(x + h) - sin(x))/h - cos(x))\n",
    "err2 = abs(imag(sin(x + im*h))/h - cos(x))\n",
    "err1, err2"
   ]
  },
  {
   "cell_type": "code",
   "execution_count": null,
   "id": "sorted-joint",
   "metadata": {},
   "outputs": [],
   "source": [
    "h = 1e-4\n",
    "imag(F([2 + im*h, -1]))/h, imag(F([2, -1 + im*h]))/h"
   ]
  },
  {
   "cell_type": "markdown",
   "id": "persistent-farmer",
   "metadata": {},
   "source": [
    "---\n",
    "\n",
    "# Zygote.jl\n",
    "\n",
    "The Zygote provides **source-to-source** automatic differentiation."
   ]
  },
  {
   "cell_type": "code",
   "execution_count": null,
   "id": "italic-notebook",
   "metadata": {},
   "outputs": [],
   "source": [
    "using Zygote"
   ]
  },
  {
   "cell_type": "code",
   "execution_count": null,
   "id": "tracked-massage",
   "metadata": {},
   "outputs": [],
   "source": [
    "f(x) = x^4 + x^3\n",
    "\n",
    "f'(1.0)"
   ]
  },
  {
   "cell_type": "code",
   "execution_count": null,
   "id": "every-milan",
   "metadata": {},
   "outputs": [],
   "source": [
    "fp(x) = 4x^3 + 3x^2\n",
    "\n",
    "fp(1.0)"
   ]
  },
  {
   "cell_type": "code",
   "execution_count": null,
   "id": "instructional-ceramic",
   "metadata": {},
   "outputs": [],
   "source": [
    "@code_llvm fp(1.0)"
   ]
  },
  {
   "cell_type": "code",
   "execution_count": null,
   "id": "bronze-ridge",
   "metadata": {},
   "outputs": [],
   "source": [
    "@code_llvm f'(1.0)"
   ]
  },
  {
   "cell_type": "code",
   "execution_count": null,
   "id": "cultural-stephen",
   "metadata": {},
   "outputs": [],
   "source": [
    "dump(:(x^4 + x^3))"
   ]
  },
  {
   "cell_type": "markdown",
   "id": "shaped-meditation",
   "metadata": {},
   "source": [
    "---\n",
    "\n",
    "# AD of neural net using Zygote"
   ]
  },
  {
   "cell_type": "code",
   "execution_count": null,
   "id": "declared-internship",
   "metadata": {},
   "outputs": [],
   "source": [
    "using Zygote"
   ]
  },
  {
   "cell_type": "code",
   "execution_count": null,
   "id": "pretty-pakistan",
   "metadata": {},
   "outputs": [],
   "source": [
    "ReLU(γ) = max(0, γ)"
   ]
  },
  {
   "cell_type": "code",
   "execution_count": null,
   "id": "willing-zealand",
   "metadata": {},
   "outputs": [],
   "source": [
    "# Parameters\n",
    "A = [ 1 0; -2 1 ]\n",
    "b = [ 1, 0 ]\n",
    "c = [ 1, 1 ]\n",
    "\n",
    "# put parameters in a named tuple\n",
    "x = (A=A, b=b, c=c)"
   ]
  },
  {
   "cell_type": "code",
   "execution_count": null,
   "id": "experienced-ideal",
   "metadata": {},
   "outputs": [],
   "source": [
    "x.A"
   ]
  },
  {
   "cell_type": "code",
   "execution_count": null,
   "id": "creative-civilization",
   "metadata": {},
   "outputs": [],
   "source": [
    "# Neural net\n",
    "function predict(x, v)\n",
    "    y = x.A*v + x.b\n",
    "    z = ReLU.(y)\n",
    "    w = x.c'z\n",
    "end\n",
    "\n",
    "# Loss function\n",
    "loss(w, w̄) = (w - w̄)^2"
   ]
  },
  {
   "cell_type": "code",
   "execution_count": null,
   "id": "norwegian-bristol",
   "metadata": {},
   "outputs": [],
   "source": [
    "# Data\n",
    "v = [2.0, -1.0]\n",
    "#v = rand(-3:3, 2)"
   ]
  },
  {
   "cell_type": "code",
   "execution_count": null,
   "id": "cleared-scholar",
   "metadata": {},
   "outputs": [],
   "source": [
    "w = predict(x, v)"
   ]
  },
  {
   "cell_type": "code",
   "execution_count": null,
   "id": "remarkable-plasma",
   "metadata": {},
   "outputs": [],
   "source": [
    "w̄ = 1\n",
    "\n",
    "loss(w, w̄)"
   ]
  },
  {
   "cell_type": "code",
   "execution_count": null,
   "id": "collaborative-ribbon",
   "metadata": {},
   "outputs": [],
   "source": [
    "f(x) = loss(predict(x,v), w̄)\n",
    "\n",
    "f(x)"
   ]
  },
  {
   "cell_type": "code",
   "execution_count": null,
   "id": "heated-dress",
   "metadata": {},
   "outputs": [],
   "source": [
    "f'(x)"
   ]
  },
  {
   "cell_type": "code",
   "execution_count": null,
   "id": "automotive-stanford",
   "metadata": {},
   "outputs": [],
   "source": [
    "@code_llvm f'(x)"
   ]
  },
  {
   "cell_type": "markdown",
   "id": "elementary-mailing",
   "metadata": {},
   "source": [
    "---"
   ]
  }
 ],
 "metadata": {
  "@webio": {
   "lastCommId": null,
   "lastKernelId": null
  },
  "kernelspec": {
   "display_name": "Julia 1.6.0",
   "language": "julia",
   "name": "julia-1.6"
  },
  "language_info": {
   "file_extension": ".jl",
   "mimetype": "application/julia",
   "name": "julia",
   "version": "1.6.0"
  }
 },
 "nbformat": 4,
 "nbformat_minor": 5
}
