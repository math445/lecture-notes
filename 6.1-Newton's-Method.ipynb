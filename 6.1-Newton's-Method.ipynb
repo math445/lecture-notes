{
 "cells": [
  {
   "cell_type": "code",
   "execution_count": null,
   "metadata": {},
   "outputs": [],
   "source": [
    "using LinearAlgebra\n",
    "using Plots, LaTeXStrings\n",
    "using Printf"
   ]
  },
  {
   "cell_type": "markdown",
   "metadata": {},
   "source": [
    "# [Rosenbrock's banana function](https://en.wikipedia.org/wiki/Rosenbrock_function)\n",
    "\n",
    "$$\n",
    "f(x) = \\big(1 - x_1\\big)^2 + 100\\big(x_2 - x_1^2\\big)^2\n",
    "$$"
   ]
  },
  {
   "cell_type": "code",
   "execution_count": null,
   "metadata": {},
   "outputs": [],
   "source": [
    "f(x) = (1 - x[1])^2 + 100*(x[2] - x[1]^2)^2\n",
    "\n",
    "g(x) = [\n",
    "    -2*(1 - x[1]) - 400*(x[2] - x[1]^2)*x[1]\n",
    "    200*(x[2] - x[1]^2)\n",
    "]\n",
    "\n",
    "H(x) = [\n",
    "    2 - 400*(-3x[1]^2 + x[2])  -400*x[1]\n",
    "                    -400*x[1]        200\n",
    "]\n",
    "\n",
    "f(x, y) = f([x, y])"
   ]
  },
  {
   "cell_type": "code",
   "execution_count": null,
   "metadata": {},
   "outputs": [],
   "source": [
    "x = [1.0, 1.0]\n",
    "f(x)"
   ]
  },
  {
   "cell_type": "code",
   "execution_count": null,
   "metadata": {},
   "outputs": [],
   "source": [
    "g(x)"
   ]
  },
  {
   "cell_type": "code",
   "execution_count": null,
   "metadata": {},
   "outputs": [],
   "source": [
    "H(x)"
   ]
  },
  {
   "cell_type": "code",
   "execution_count": null,
   "metadata": {},
   "outputs": [],
   "source": [
    "eigvals(H(x))"
   ]
  },
  {
   "cell_type": "code",
   "execution_count": null,
   "metadata": {},
   "outputs": [],
   "source": [
    "xx = -3:0.01:3\n",
    "yy = -3:0.01:3\n",
    "flevels = [0, 2, 20, 100, 500, 1500, 3000]\n",
    "\n",
    "plot(xlabel=L\"x\", ylabel=L\"y\", aspect_ratio=:equal, colorbar=:none, size=(600,600))\n",
    "contour!(xx, yy, f, levels=flevels, color=:black, contour_labels=true)\n",
    "scatter!([1.0], [1.0], label=:none)"
   ]
  },
  {
   "cell_type": "code",
   "execution_count": null,
   "metadata": {},
   "outputs": [],
   "source": [
    "function newtons_method(f, g, H, x0, xs; tol=1e-8, verbose=true)\n",
    "    x = copy(x0)\n",
    "    \n",
    "    xtrace = [x]\n",
    "    k = 0\n",
    "    if verbose\n",
    "        @printf(\"%4s %12s %12s %12s\\n\", \"k\", \"f(x)\", \"||g(x)||\", \"||xk - xs||\")\n",
    "    end\n",
    "    done = false\n",
    "    while !done\n",
    "        k += 1\n",
    "        Δx = -(H(x)\\g(x))\n",
    "        x += Δx\n",
    "        push!(xtrace, x)\n",
    "        if norm(Δx) <= tol || k >= 20\n",
    "            done = true\n",
    "        end\n",
    "        if verbose\n",
    "            @printf(\"%4d %12.4e %12.4e %12.4e\\n\", k, f(x), norm(g(x)), norm(x-xs))\n",
    "        end\n",
    "    end\n",
    "    \n",
    "    return xtrace\n",
    "end     "
   ]
  },
  {
   "cell_type": "code",
   "execution_count": null,
   "metadata": {},
   "outputs": [],
   "source": [
    "x0 = [-1.0, 0.0]\n",
    "xs = [1.0, 1.0]\n",
    "xtrace = newtons_method(f, g, H, x0, xs, tol=1e-6)"
   ]
  },
  {
   "cell_type": "code",
   "execution_count": null,
   "metadata": {},
   "outputs": [],
   "source": [
    "xtr = hcat(xtrace...)\n",
    "q = xtr[:,2:end] - xtr[:,1:end-1]\n",
    "\n",
    "xx = -3:0.01:3\n",
    "yy = -3:0.01:3\n",
    "flevels = [0, 2, 20, 100, 500, 1500, 3000]\n",
    "\n",
    "plot(xlabel=L\"x\", ylabel=L\"y\", aspect_ratio=:equal, colorbar=:none, size=(600,600),\n",
    "    xlims=(-3,3), ylims=(-3,3))\n",
    "contour!(xx, yy, f, levels=flevels, color=:black, contour_labels=true)\n",
    "quiver!(xtr[1,1:end-1], xtr[2,1:end-1], quiver=(q[1,:],q[2,:]), label=:none, c=:red)\n",
    "scatter!(xtr[1,:], xtr[2,:], label=:none, c=:red)"
   ]
  },
  {
   "cell_type": "markdown",
   "metadata": {},
   "source": [
    "# [Himmelblau's function](https://en.wikipedia.org/wiki/Himmelblau%27s_function)\n",
    "\n",
    "$$\n",
    "f(x) = \\big(x_1^2 + x_2 - 11\\big)^2 + \\big(x_1 + x_2^2 - 7\\big)^2\n",
    "$$"
   ]
  },
  {
   "cell_type": "markdown",
   "metadata": {},
   "source": [
    "$$\n",
    "\\nabla f(x) = \n",
    "\\begin{bmatrix}\n",
    "4x_1(x_1^2 + x_2 - 11) + 2(x_1 + x_2^2 - 7) \\\\\n",
    "2(x_1^2 + x_2 - 11) + 4x_2(x_1 + x_2^2 - 7)\n",
    "\\end{bmatrix}\n",
    "$$"
   ]
  },
  {
   "cell_type": "markdown",
   "metadata": {},
   "source": [
    "$$\n",
    "\\nabla^2 f(x) = \n",
    "\\begin{bmatrix}\n",
    "4(x_1^2 + x_2 - 11) + 8x_1^2 + 2 &                      4x_1 + 4x_2 \\\\\n",
    "                     4x_1 + 4x_2 &  2 + 4(x_1 + x_2^2 - 7) + 8x_2^2 \\\\\n",
    "\\end{bmatrix}\n",
    "$$"
   ]
  },
  {
   "cell_type": "code",
   "execution_count": null,
   "metadata": {},
   "outputs": [],
   "source": [
    "f(x) = (x[1]^2 + x[2] - 11)^2 + (x[1] + x[2]^2 - 7)^2\n",
    "\n",
    "g(x) = [\n",
    "    4*(x[1]^2 + x[2] - 11)*x[1] + 2*(x[1] + x[2]^2 - 7)\n",
    "    2*(x[1]^2 + x[2] - 11) + 4*(x[1] + x[2]^2 - 7)*x[2]\n",
    "]\n",
    "\n",
    "H(x) = [\n",
    "    4*(x[1]^2 + x[2] - 11) + 8x[1]^2 + 2                         4*x[1] + 4*x[2]\n",
    "                         4*x[1] + 4*x[2]     2 + 4*(2x[2]^2 + x[1] + x[2]^2 - 7)\n",
    "]\n",
    "\n",
    "f(x, y) = f([x, y])"
   ]
  },
  {
   "cell_type": "code",
   "execution_count": null,
   "metadata": {},
   "outputs": [],
   "source": [
    "xs = [3.0, 2.0]\n",
    "f(xs)"
   ]
  },
  {
   "cell_type": "code",
   "execution_count": null,
   "metadata": {},
   "outputs": [],
   "source": [
    "g(xs)"
   ]
  },
  {
   "cell_type": "code",
   "execution_count": null,
   "metadata": {},
   "outputs": [],
   "source": [
    "H(xs)"
   ]
  },
  {
   "cell_type": "code",
   "execution_count": null,
   "metadata": {},
   "outputs": [],
   "source": [
    "eigvals(H(xs))"
   ]
  },
  {
   "cell_type": "code",
   "execution_count": null,
   "metadata": {},
   "outputs": [],
   "source": [
    "x0 = [2.0, 1.0]\n",
    "xs = [3.0, 2.0]\n",
    "xtrace = newtons_method(f, g, H, x0, xs, tol=1e-8)"
   ]
  },
  {
   "cell_type": "code",
   "execution_count": null,
   "metadata": {},
   "outputs": [],
   "source": [
    "xx = -6:0.01:6\n",
    "yy = -6:0.01:6\n",
    "flevels = [0, 5, 20, 40, 60, 80, 100, 120, 150, 180, 300, 400, 600]\n",
    "\n",
    "plot(xlabel=L\"x\", ylabel=L\"y\", aspect_ratio=:equal, colorbar=:none, size=(600,600),\n",
    "    xlims=(-6,6), ylims=(-6,6))\n",
    "contour!(xx, yy, f, levels=flevels, color=:black, contour_labels=true)"
   ]
  },
  {
   "cell_type": "code",
   "execution_count": null,
   "metadata": {},
   "outputs": [],
   "source": [
    "x0 = 12*rand(2) .- 6\n",
    "\n",
    "# Determine xs by running newtons_method quietly\n",
    "xtrace = newtons_method(f, g, H, x0, zeros(2), tol=0.0, verbose=false)\n",
    "xs = xtrace[end]\n",
    "\n",
    "xtrace = newtons_method(f, g, H, x0, xs)\n",
    "@show xs;"
   ]
  },
  {
   "cell_type": "code",
   "execution_count": null,
   "metadata": {
    "scrolled": false
   },
   "outputs": [],
   "source": [
    "xtr = hcat(xtrace...)\n",
    "q = xtr[:,2:end] - xtr[:,1:end-1]\n",
    "\n",
    "xx = -6:0.01:6\n",
    "yy = -6:0.01:6\n",
    "flevels = [0, 5, 20, 40, 60, 80, 100, 120, 150, 180, 300, 400, 600]\n",
    "\n",
    "plot(xlabel=L\"x\", ylabel=L\"y\", aspect_ratio=:equal, colorbar=:none, size=(600,600),\n",
    "    xlims=(-6,6), ylims=(-6,6))\n",
    "contour!(xx, yy, f, levels=flevels, color=:black, contour_labels=true)\n",
    "quiver!(xtr[1,1:end-1], xtr[2,1:end-1], quiver=(q[1,:],q[2,:]), label=:none, c=:red)\n",
    "scatter!(xtr[1,:], xtr[2,:], label=:none, c=:red)"
   ]
  },
  {
   "cell_type": "code",
   "execution_count": null,
   "metadata": {},
   "outputs": [],
   "source": []
  }
 ],
 "metadata": {
  "@webio": {
   "lastCommId": null,
   "lastKernelId": null
  },
  "kernelspec": {
   "display_name": "Julia 1.5.3",
   "language": "julia",
   "name": "julia-1.5"
  },
  "language_info": {
   "file_extension": ".jl",
   "mimetype": "application/julia",
   "name": "julia",
   "version": "1.5.3"
  }
 },
 "nbformat": 4,
 "nbformat_minor": 4
}
