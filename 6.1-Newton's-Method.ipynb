{
 "cells": [
  {
   "cell_type": "code",
   "execution_count": null,
   "metadata": {},
   "outputs": [],
   "source": [
    "using LinearAlgebra\n",
    "using Plots, LaTeXStrings\n",
    "using Printf"
   ]
  },
  {
   "cell_type": "markdown",
   "metadata": {},
   "source": [
    "# [Rosenbrock's banana function](https://en.wikipedia.org/wiki/Rosenbrock_function)\n",
    "\n",
    "$$\n",
    "f(x) = \\big(1 - x_1\\big)^2 + 100\\big(x_2 - x_1^2\\big)^2\n",
    "$$\n",
    "\n",
    "$$\n",
    "\\nabla f(x) =\n",
    "\\begin{bmatrix}\n",
    "-2\\big(1 - x_1\\big) - 400x_1\\big(x_2 - x_1^2\\big)\\\\\n",
    "200\\big(x_2 - x_1^2\\big)\n",
    "\\end{bmatrix}\n",
    "$$\n",
    "\n",
    "$$\n",
    "\\nabla^2 f(x) = \n",
    "\\begin{bmatrix}\n",
    "2 - 400\\big(-3x_1^2 + x_2\\big) & -400x_1 \\\\\n",
    "-400x_1 & 200\n",
    "\\end{bmatrix}\n",
    "$$"
   ]
  },
  {
   "cell_type": "code",
   "execution_count": null,
   "metadata": {},
   "outputs": [],
   "source": [
    "f(x) = (1 - x[1])^2 + 100*(x[2] - x[1]^2)^2\n",
    "\n",
    "g(x) = [\n",
    "    -2*(1 - x[1]) - 400*(x[2] - x[1]^2)*x[1]\n",
    "    200*(x[2] - x[1]^2)\n",
    "]\n",
    "\n",
    "H(x) = [\n",
    "    2 - 400*(-3x[1]^2 + x[2])  -400*x[1]\n",
    "                    -400*x[1]        200\n",
    "]\n",
    "\n",
    "f(x, y) = f([x, y])"
   ]
  },
  {
   "cell_type": "code",
   "execution_count": null,
   "metadata": {},
   "outputs": [],
   "source": [
    "x = [1.0, 1.0]\n",
    "f(x)"
   ]
  },
  {
   "cell_type": "code",
   "execution_count": null,
   "metadata": {},
   "outputs": [],
   "source": [
    "g(x)"
   ]
  },
  {
   "cell_type": "code",
   "execution_count": null,
   "metadata": {},
   "outputs": [],
   "source": [
    "H(x)"
   ]
  },
  {
   "cell_type": "code",
   "execution_count": null,
   "metadata": {},
   "outputs": [],
   "source": [
    "eigvals(H(x))"
   ]
  },
  {
   "cell_type": "code",
   "execution_count": null,
   "metadata": {},
   "outputs": [],
   "source": [
    "xx = -3:0.01:3\n",
    "yy = -3:0.01:3\n",
    "flevels = [0, 2, 20, 100, 500, 1500, 3000]\n",
    "\n",
    "plot(xlabel=L\"x\", ylabel=L\"y\", aspect_ratio=:equal, colorbar=:none, size=(600,600))\n",
    "contour!(xx, yy, f, levels=flevels, color=:black, contour_labels=true)\n",
    "scatter!([1.0], [1.0], c=:black, label=:none)"
   ]
  },
  {
   "cell_type": "code",
   "execution_count": null,
   "metadata": {},
   "outputs": [],
   "source": [
    "function newtons_method(f, g, H, x0, xs; tol=1e-8, verbose=true)\n",
    "    x = copy(x0)\n",
    "    \n",
    "    xtrace = [x]\n",
    "    k = 0\n",
    "    if verbose\n",
    "        @printf(\"%4s %12s %12s %12s\\n\", \"k\", \"f(x)\", \"||g(x)||\", \"||xk - xs||\")\n",
    "        @printf(\"%4d %12.4e %12.4e %12.4e\\n\", k, f(x), norm(g(x)), norm(x-xs))\n",
    "    end\n",
    "    done = false\n",
    "    while !done\n",
    "        k += 1\n",
    "        Δx = -(H(x)\\g(x))  # Newton direction\n",
    "        x += Δx\n",
    "        push!(xtrace, x)\n",
    "        if norm(Δx) <= tol || k >= 20\n",
    "            done = true\n",
    "        end\n",
    "        if verbose\n",
    "            @printf(\"%4d %12.4e %12.4e %12.4e\\n\", k, f(x), norm(g(x)), norm(x-xs))\n",
    "        end\n",
    "    end\n",
    "    \n",
    "    return xtrace\n",
    "end     "
   ]
  },
  {
   "cell_type": "code",
   "execution_count": null,
   "metadata": {},
   "outputs": [],
   "source": [
    "x0 = [-1.0, 0.0]\n",
    "xs = [1.0, 1.0]\n",
    "xtrace = newtons_method(f, g, H, x0, xs, tol=1e-6)"
   ]
  },
  {
   "cell_type": "code",
   "execution_count": null,
   "metadata": {},
   "outputs": [],
   "source": [
    "xtr = hcat(xtrace...)\n",
    "q = xtr[:,2:end] - xtr[:,1:end-1]\n",
    "\n",
    "xx = -3:0.01:3\n",
    "yy = -3:0.01:3\n",
    "flevels = [0, 2, 20, 100, 500, 1500, 3000]\n",
    "\n",
    "plot(xlabel=L\"x\", ylabel=L\"y\", aspect_ratio=:equal, colorbar=:none, size=(600,600),\n",
    "    xlims=(-3,3), ylims=(-3,3))\n",
    "contour!(xx, yy, f, levels=flevels, color=:black, contour_labels=true)\n",
    "quiver!(xtr[1,1:end-1], xtr[2,1:end-1], quiver=(q[1,:],q[2,:]), label=:none, c=:red)\n",
    "scatter!(xtr[1,:], xtr[2,:], label=:none, c=:red)"
   ]
  },
  {
   "cell_type": "markdown",
   "metadata": {},
   "source": [
    "# [Himmelblau's function](https://en.wikipedia.org/wiki/Himmelblau%27s_function)\n",
    "\n",
    "$$\n",
    "f(x) = \\big(x_1^2 + x_2 - 11\\big)^2 + \\big(x_1 + x_2^2 - 7\\big)^2\n",
    "$$"
   ]
  },
  {
   "cell_type": "markdown",
   "metadata": {},
   "source": [
    "$$\n",
    "\\nabla f(x) = \n",
    "\\begin{bmatrix}\n",
    "4x_1(x_1^2 + x_2 - 11) + 2(x_1 + x_2^2 - 7) \\\\\n",
    "2(x_1^2 + x_2 - 11) + 4x_2(x_1 + x_2^2 - 7)\n",
    "\\end{bmatrix}\n",
    "$$"
   ]
  },
  {
   "cell_type": "markdown",
   "metadata": {},
   "source": [
    "$$\n",
    "\\nabla^2 f(x) = \n",
    "\\begin{bmatrix}\n",
    "4(x_1^2 + x_2 - 11) + 8x_1^2 + 2 &                      4x_1 + 4x_2 \\\\\n",
    "                     4x_1 + 4x_2 &  2 + 4(x_1 + x_2^2 - 7) + 8x_2^2 \\\\\n",
    "\\end{bmatrix}\n",
    "$$"
   ]
  },
  {
   "cell_type": "code",
   "execution_count": null,
   "metadata": {},
   "outputs": [],
   "source": [
    "f(x) = (x[1]^2 + x[2] - 11)^2 + (x[1] + x[2]^2 - 7)^2\n",
    "\n",
    "g(x) = [\n",
    "    4*(x[1]^2 + x[2] - 11)*x[1] + 2*(x[1] + x[2]^2 - 7)\n",
    "    2*(x[1]^2 + x[2] - 11) + 4*(x[1] + x[2]^2 - 7)*x[2]\n",
    "]\n",
    "\n",
    "H(x) = [\n",
    "    4*(x[1]^2 + x[2] - 11) + 8x[1]^2 + 2                         4*x[1] + 4*x[2]\n",
    "                         4*x[1] + 4*x[2]     2 + 4*(2x[2]^2 + x[1] + x[2]^2 - 7)\n",
    "]\n",
    "\n",
    "f(x, y) = f([x, y])"
   ]
  },
  {
   "cell_type": "code",
   "execution_count": null,
   "metadata": {},
   "outputs": [],
   "source": [
    "xs = [3.0, 2.0]\n",
    "f(xs)"
   ]
  },
  {
   "cell_type": "code",
   "execution_count": null,
   "metadata": {},
   "outputs": [],
   "source": [
    "g(xs)"
   ]
  },
  {
   "cell_type": "code",
   "execution_count": null,
   "metadata": {},
   "outputs": [],
   "source": [
    "H(xs)"
   ]
  },
  {
   "cell_type": "code",
   "execution_count": null,
   "metadata": {},
   "outputs": [],
   "source": [
    "eigvals(H(xs))"
   ]
  },
  {
   "cell_type": "code",
   "execution_count": null,
   "metadata": {},
   "outputs": [],
   "source": [
    "x0 = [2.0, 1.0]\n",
    "xs = [3.0, 2.0]\n",
    "xtrace = newtons_method(f, g, H, x0, xs, tol=1e-8)"
   ]
  },
  {
   "cell_type": "code",
   "execution_count": null,
   "metadata": {},
   "outputs": [],
   "source": [
    "xx = -6:0.01:6\n",
    "yy = -6:0.01:6\n",
    "flevels = [0, 5, 20, 40, 60, 80, 100, 120, 150, 180, 300, 400, 600]\n",
    "\n",
    "plot(xlabel=L\"x\", ylabel=L\"y\", aspect_ratio=:equal, colorbar=:none, size=(600,600),\n",
    "    xlims=(-6,6), ylims=(-6,6))\n",
    "contour!(xx, yy, f, levels=flevels, color=:black, contour_labels=true)"
   ]
  },
  {
   "cell_type": "code",
   "execution_count": null,
   "metadata": {},
   "outputs": [],
   "source": [
    "x0 = 12*rand(2) .- 6\n",
    "\n",
    "# Determine xs by running newtons_method quietly\n",
    "xtrace = newtons_method(f, g, H, x0, zeros(2), tol=0.0, verbose=false)\n",
    "xs = xtrace[end]\n",
    "\n",
    "xtrace = newtons_method(f, g, H, x0, xs)\n",
    "@show xs;"
   ]
  },
  {
   "cell_type": "code",
   "execution_count": null,
   "metadata": {
    "scrolled": false
   },
   "outputs": [],
   "source": [
    "xtr = hcat(xtrace...)\n",
    "q = xtr[:,2:end] - xtr[:,1:end-1]\n",
    "\n",
    "xx = -6:0.01:6\n",
    "yy = -6:0.01:6\n",
    "flevels = [0, 5, 20, 40, 60, 80, 100, 120, 150, 180, 300, 400, 600]\n",
    "\n",
    "plot(xlabel=L\"x\", ylabel=L\"y\", aspect_ratio=:equal, colorbar=:none, size=(600,600),\n",
    "    xlims=(-6,6), ylims=(-6,6))\n",
    "contour!(xx, yy, f, levels=flevels, color=:black, contour_labels=true)\n",
    "quiver!(xtr[1,1:end-1], xtr[2,1:end-1], quiver=(q[1,:],q[2,:]), label=:none, c=:red)\n",
    "scatter!(xtr[1,:], xtr[2,:], label=:none, c=:red)"
   ]
  },
  {
   "cell_type": "markdown",
   "metadata": {},
   "source": [
    "---\n",
    "\n",
    "# Line Search\n",
    "\n",
    "Let $0 < c_1 < c_2 < 1$. The **[Wolfe conditions](https://en.wikipedia.org/wiki/Wolfe_conditions)** are the **Armijo-Goldstein** sufficient decrease condition\n",
    "\n",
    "$$f(x_k + t \\Delta x) \\leq f(x_k) + c_1 t \\nabla f(x_k)^T \\Delta x,$$\n",
    "\n",
    "and the slope condition\n",
    "\n",
    "$$c_2 \\nabla f(x_k)^T \\Delta x \\leq \\nabla f(x_k + t \\Delta x)^T \\Delta x.$$\n",
    "\n",
    "The **Strong Wolfe** slope condition is\n",
    "\n",
    "$$c_2 \\big|\\nabla f(x_k)^T \\Delta x\\big| \\geq \\big|\\nabla f(x_k + t \\Delta x)^T \\Delta x\\big|.$$\n",
    "\n",
    "\n",
    "See also [LineSearches.jl](https://github.com/JuliaNLSolvers/LineSearches.jl)."
   ]
  },
  {
   "cell_type": "code",
   "execution_count": null,
   "metadata": {},
   "outputs": [],
   "source": [
    "function newton_with_linesearch(f, g, H, x0, xs; tol=1e-8, verbose=true, α=0.1, β=0.8)\n",
    "    x = copy(x0)\n",
    "    \n",
    "    xtrace = [x]\n",
    "    k = 0\n",
    "    if verbose\n",
    "        @printf(\"%4s %12s %12s %12s %12s\\n\", \"k\", \"t\", \"f(x)\", \"||g(x)||\", \"||xk - xs||\")\n",
    "        @printf(\"%4d %12.4e %12.4e %12.4e %12.4e\\n\", k, 0.0, f(x), norm(g(x)), norm(x-xs))\n",
    "    end\n",
    "    done = false\n",
    "    while !done\n",
    "        k += 1\n",
    "        Δx = -(H(x)\\g(x))  # Newton direction\n",
    "        \n",
    "        # If Newton direction is not a descent direction, then dot(g(x),Δx) ≥ 0.\n",
    "        # In this case, use the steepest descent direction instead.\n",
    "        if dot(g(x),Δx)/norm(Δx) > -1e-16\n",
    "            @show dot(g(x),Δx)/norm(Δx)\n",
    "            println(\"Using steepest descent\")\n",
    "            Δx = -g(x)  # Steepest descent direction\n",
    "            @show dot(g(x),Δx)/norm(Δx)\n",
    "        end\n",
    "        \n",
    "        # Perform a backtracking line search\n",
    "        t = 1.0\n",
    "        while f(x + t*Δx) > f(x) + α*t*dot(g(x),Δx)\n",
    "            t *= β\n",
    "            if t < tol\n",
    "                break\n",
    "            end\n",
    "        end\n",
    "        \n",
    "        x += t*Δx\n",
    "        push!(xtrace, x)\n",
    "        if norm(t*Δx) <= tol || k >= 20\n",
    "            done = true\n",
    "        end\n",
    "        if verbose\n",
    "            @printf(\"%4d %12.4e %12.4e %12.4e %12.4e\\n\", k, t, f(x), norm(g(x)), norm(x-xs))\n",
    "        end\n",
    "    end\n",
    "    \n",
    "    return xtrace\n",
    "end     "
   ]
  },
  {
   "cell_type": "code",
   "execution_count": null,
   "metadata": {},
   "outputs": [],
   "source": [
    "xs = [3.0, 2.0]\n",
    "x0 = xs + randn(2)\n",
    "xtrace = newton_with_linesearch(f, g, H, x0, xs)\n",
    "eigvals(H(xtrace[end]))"
   ]
  },
  {
   "cell_type": "code",
   "execution_count": null,
   "metadata": {},
   "outputs": [],
   "source": [
    "x0 = 12*rand(2) .- 6\n",
    "\n",
    "# Determine xs by running newtons_method quietly\n",
    "xtrace = newton_with_linesearch(f, g, H, x0, zeros(2), tol=0.0, verbose=false)\n",
    "xs = xtrace[end]"
   ]
  },
  {
   "cell_type": "code",
   "execution_count": null,
   "metadata": {},
   "outputs": [],
   "source": [
    "xtrace = newton_with_linesearch(f, g, H, x0, xs, α=0.5)\n",
    "@show xs;\n",
    "eigvals(H(xtrace[end]))"
   ]
  },
  {
   "cell_type": "code",
   "execution_count": null,
   "metadata": {
    "scrolled": false
   },
   "outputs": [],
   "source": [
    "xtr = hcat(xtrace...)\n",
    "q = xtr[:,2:end] - xtr[:,1:end-1]\n",
    "\n",
    "xx = -6:0.01:6\n",
    "yy = -6:0.01:6\n",
    "flevels = [0, 5, 20, 40, 60, 80, 100, 120, 150, 180, 300, 400, 600]\n",
    "\n",
    "plot(xlabel=L\"x\", ylabel=L\"y\", aspect_ratio=:equal, colorbar=:none, size=(600,600),\n",
    "    xlims=(-6,6), ylims=(-6,6))\n",
    "contour!(xx, yy, f, levels=flevels, color=:black, contour_labels=true)\n",
    "quiver!(xtr[1,1:end-1], xtr[2,1:end-1], quiver=(q[1,:],q[2,:]), label=:none, c=:red)\n",
    "scatter!(xtr[1,:], xtr[2,:], label=:none, c=:red)"
   ]
  },
  {
   "cell_type": "markdown",
   "metadata": {},
   "source": [
    "---\n",
    "# Levenberg-Marquardt\n",
    "\n",
    "### [LsqFit.jl](https://github.com/JuliaNLSolvers/LsqFit.jl): A Julia implementation of the Levenberg-Marquardt method.\n",
    "\n",
    "Let \n",
    "\n",
    "$$\n",
    "(x_1, y_1), \\ldots, (x_m, y_m)\n",
    "$$\n",
    "\n",
    "be noisy measurements of the exact model\n",
    "\n",
    "$$\n",
    "y = a \\cos bx + b \\sin ax, \\quad a = 3, \\quad b = 4.\n",
    "$$\n",
    "\n",
    "We define the parameter vector $p$ and the nonlinear fitting function $\\hat{y}(p)$ as\n",
    "\n",
    "$$\n",
    "p = \\begin{bmatrix} a \\\\ b \\end{bmatrix},\n",
    "\\qquad\n",
    "\\hat{y}(p) = \\begin{bmatrix}\n",
    "a \\cos bx_1 + b \\sin ax_1 \\\\\n",
    "\\vdots \\\\\n",
    "a \\cos bx_m + b \\sin ax_m \\\\\n",
    "\\end{bmatrix}.\n",
    "$$\n",
    "\n",
    "We estimate the parameters by minimizing the loss function\n",
    "\n",
    "$$\n",
    "E(p) = \\frac{1}{2} \\| y - \\hat{y}(p) \\|_2^2.\n",
    "$$"
   ]
  },
  {
   "cell_type": "code",
   "execution_count": null,
   "metadata": {},
   "outputs": [],
   "source": [
    "a, b = 3, 4\n",
    "\n",
    "m = 50\n",
    "xx = range(0, 2π, length=m)\n",
    "yy = a*cos.(b*xx) + b*sin.(a*xx) + randn(m) # true data plus noise\n",
    "\n",
    "plot(legend=:none, xlabel=L\"x\", ylabel=L\"y\")\n",
    "plot!(x -> a*cos(b*x) + b*sin(a*x), 0, 2π)\n",
    "scatter!(xx, yy)"
   ]
  },
  {
   "cell_type": "code",
   "execution_count": null,
   "metadata": {},
   "outputs": [],
   "source": [
    "ŷ(a,b) = [a*cos(b*x) + b*sin(a*x) for x in xx]\n",
    "ŷ(p) = ŷ(p...)"
   ]
  },
  {
   "cell_type": "code",
   "execution_count": null,
   "metadata": {},
   "outputs": [],
   "source": [
    "E(p) = 0.5*norm(yy - ŷ(p))^2\n",
    "E(a,b) = E([a,b])"
   ]
  },
  {
   "cell_type": "code",
   "execution_count": null,
   "metadata": {},
   "outputs": [],
   "source": [
    "p = [3,4] + randn(2)\n",
    "E(p)"
   ]
  },
  {
   "cell_type": "code",
   "execution_count": null,
   "metadata": {},
   "outputs": [],
   "source": [
    "aa = 0:0.01:6\n",
    "bb = 0:0.01:6\n",
    "flevels = [50, 100, 200, 300, 400, 500, 600]\n",
    "\n",
    "plot(xlabel=L\"a\", ylabel=L\"b\", aspect_ratio=:equal, colorbar=:none, size=(600,600),\n",
    "    xlims=(0,6), ylims=(0,6), legend=:none)\n",
    "contour!(aa, bb, E, levels=flevels, color=:black, contour_labels=true)\n",
    "scatter!([a], [b], color=:black)"
   ]
  },
  {
   "cell_type": "markdown",
   "metadata": {},
   "source": [
    "The Jacobian of $\\hat{y}(p)$ is\n",
    "\n",
    "$$\n",
    "J(p) = \\begin{bmatrix}\n",
    "\\cos bx_1 + bx_1 \\cos ax_1 & -ax_1 \\sin bx_1 + \\sin ax_1 \\\\\n",
    "\\vdots & \\vdots \\\\\n",
    "\\cos bx_m + bx_m \\cos ax_m & -ax_m \\sin bx_m + \\sin ax_m \\\\\n",
    "\\end{bmatrix}.\n",
    "$$\n",
    "\n",
    "Each iteration we solve\n",
    "\n",
    "$$\n",
    "J(p_k)^T J(p_k) \\Delta p = J(p_k)^T (y - \\hat{y}(p_k))\n",
    "$$\n",
    "\n",
    "and let $p_{k+1} = p_k + \\Delta p$."
   ]
  },
  {
   "cell_type": "code",
   "execution_count": null,
   "metadata": {},
   "outputs": [],
   "source": [
    "J(a,b) = [[cos(b*x) + b*x*cos(a*x) for x in xx] [-a*x*sin(b*x) + sin(a*x) for x in xx]]\n",
    "J(p) = J(p...)"
   ]
  },
  {
   "cell_type": "code",
   "execution_count": null,
   "metadata": {},
   "outputs": [],
   "source": [
    "Jp = J([3,4])"
   ]
  },
  {
   "cell_type": "code",
   "execution_count": null,
   "metadata": {},
   "outputs": [],
   "source": [
    "function lm(xx, yy, ŷ, J, E, p0; tol=1e-4)\n",
    "    p = copy(p0)\n",
    "    \n",
    "    ptrace = [p]\n",
    "    \n",
    "    λ = 10.0\n",
    "    \n",
    "    k = 0\n",
    "    @printf(\"%4s %12s %12s %12s %12s\\n\", \"k\", \"λ\", \"ρ\", \"E(p)\", \"||Δp||\")\n",
    "    @printf(\"%4d %12.4e %12.4e %12.4e %12.4e\\n\", k, λ, 0.0, E(p), 0.0)\n",
    "    done = false\n",
    "    while !done\n",
    "        k += 1\n",
    "        Jp = J(p)\n",
    "        Δp = (Jp'Jp + λ*I)\\(Jp'*(yy - ŷ(p)))\n",
    "        ρ = (E(p) - E(p+Δp))/(E(p) - 0.5*norm(yy - ŷ(p) - Jp*Δp)^2)\n",
    "        if ρ > 1e-3\n",
    "            p += Δp\n",
    "            push!(ptrace, p)\n",
    "            if ρ > 0.75\n",
    "                λ = max(λ/10, 1e-16)\n",
    "            end\n",
    "        else\n",
    "            λ = min(10*λ, 1e16)\n",
    "        end\n",
    "        \n",
    "        @printf(\"%4d %12.4e %12.4e %12.4e %12.4e\\n\", k, λ, ρ, E(p), norm(Δp))\n",
    "        if norm(Δp) <= tol || k >= 100\n",
    "            done = true\n",
    "        end\n",
    "    end\n",
    "    \n",
    "    return ptrace\n",
    "end "
   ]
  },
  {
   "cell_type": "code",
   "execution_count": null,
   "metadata": {},
   "outputs": [],
   "source": [
    "#p0 = 6*rand(2)\n",
    "p0 = [3, 4] + 0.7*randn(2)\n",
    "\n",
    "ptrace = lm(xx, yy, ŷ, J, E, p0)\n",
    "\n",
    "ptr = hcat(ptrace...)\n",
    "q = ptr[:,2:end] - ptr[:,1:end-1]\n",
    "\n",
    "aa = 0:0.01:6\n",
    "bb = 0:0.01:6\n",
    "flevels = [50, 100, 200, 300, 400, 500, 600]\n",
    "\n",
    "plot(xlabel=L\"x\", ylabel=L\"y\", aspect_ratio=:equal, colorbar=:none, size=(600,600),\n",
    "    xlims=(0,6), ylims=(0,6), legend=:none)\n",
    "contour!(aa, bb, E, levels=flevels, color=:black, contour_labels=true)\n",
    "quiver!(ptr[1,1:end-1], ptr[2,1:end-1], quiver=(q[1,:],q[2,:]), c=:red)\n",
    "scatter!(ptr[1,:], ptr[2,:], c=:red)\n",
    "scatter!([a], [b], color=:black)"
   ]
  },
  {
   "cell_type": "code",
   "execution_count": null,
   "metadata": {},
   "outputs": [],
   "source": [
    "p = ptrace[end]\n",
    "\n",
    "plot(legend=:bottomleft, xlabel=L\"x\", ylabel=L\"y\")\n",
    "plot!(x -> a*cos(b*x) + b*sin(a*x), 0, 2π, label=\"exact\")\n",
    "plot!(x -> p[1]*cos(p[2]*x) + p[2]*sin(p[1]*x), 0, 2π, label=\"estimate\", c=3)\n",
    "scatter!(xx, yy, label=\"data\", c=2)"
   ]
  },
  {
   "cell_type": "code",
   "execution_count": null,
   "metadata": {},
   "outputs": [],
   "source": []
  }
 ],
 "metadata": {
  "@webio": {
   "lastCommId": null,
   "lastKernelId": null
  },
  "kernelspec": {
   "display_name": "Julia 1.5.3",
   "language": "julia",
   "name": "julia-1.5"
  },
  "language_info": {
   "file_extension": ".jl",
   "mimetype": "application/julia",
   "name": "julia",
   "version": "1.5.3"
  }
 },
 "nbformat": 4,
 "nbformat_minor": 4
}
