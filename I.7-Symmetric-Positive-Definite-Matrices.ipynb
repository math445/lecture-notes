{
 "cells": [
  {
   "cell_type": "markdown",
   "metadata": {},
   "source": [
    "# Contour plots"
   ]
  },
  {
   "cell_type": "code",
   "execution_count": null,
   "metadata": {},
   "outputs": [],
   "source": [
    "using LinearAlgebra, Plots, LaTeXStrings\n",
    "\n",
    "f(x,y) = 4x^4 - 8x^2 + 25y^2\n",
    "q1(x,y) = -4 + 16*(x+1)^2 + 25y^2\n",
    "q2(x,y) = -8x^2 + 25y^2\n",
    "q3(x,y) = -4 + 16*(x-1)^2 + 25y^2\n",
    "\n",
    "xx = -2:0.01:2\n",
    "yy = -1:0.01:1\n",
    "flevels = [-3, -2, 0, 2, 5, 10, 15]\n",
    "qlevels = [-3, -2, 0, 2, 5]\n",
    "\n",
    "plot(xlabel=L\"x\", ylabel=L\"y\", aspect_ratio=:equal, colorbar=:none)\n",
    "contour!(xx, yy, f, levels=flevels, color=:black, contour_labels=true)\n",
    "contour!(xx, yy, q1, levels=qlevels, color=:red, contour_labels=true)\n",
    "contour!(xx, yy, q2, levels=qlevels, color=:green, contour_labels=true)\n",
    "contour!(xx, yy, q3, levels=qlevels, color=:blue, contour_labels=true)\n",
    "scatter!([-1], [0], color=:red, label=:none, clabels=[])\n",
    "scatter!([0], [0], color=:green, label=:none)\n",
    "scatter!([1], [0], color=:blue, label=:none)"
   ]
  },
  {
   "cell_type": "markdown",
   "metadata": {},
   "source": [
    "# Contour plots of $q(x) = x^TAx = \\sum_{i=1}^n \\sum_{j=1}^n a_{ij} x_i x_j$"
   ]
  },
  {
   "cell_type": "code",
   "execution_count": null,
   "metadata": {},
   "outputs": [],
   "source": [
    "B = randn(2,2)  # nonsingular matrix\n",
    "A = B'B  # positive definite"
   ]
  },
  {
   "cell_type": "code",
   "execution_count": null,
   "metadata": {},
   "outputs": [],
   "source": [
    "q(x,y) = [x; y]'*A*[x; y]"
   ]
  },
  {
   "cell_type": "code",
   "execution_count": null,
   "metadata": {},
   "outputs": [],
   "source": [
    "F = eigen(A)\n",
    "λ = F.values"
   ]
  },
  {
   "cell_type": "code",
   "execution_count": null,
   "metadata": {},
   "outputs": [],
   "source": [
    "c = 1 ./ sqrt.(λ)  # lengths of semi-axes of ellipse x'Ax = 1"
   ]
  },
  {
   "cell_type": "code",
   "execution_count": null,
   "metadata": {},
   "outputs": [],
   "source": [
    "Q = F.vectors"
   ]
  },
  {
   "cell_type": "code",
   "execution_count": null,
   "metadata": {},
   "outputs": [],
   "source": [
    "v1 = Q[:,1]\n",
    "v2 = Q[:,2]\n",
    "#v1'v2\n",
    "dot(v1,v2)"
   ]
  },
  {
   "cell_type": "code",
   "execution_count": null,
   "metadata": {},
   "outputs": [],
   "source": [
    "xx = -15:0.01:15\n",
    "yy = -10:0.01:10\n",
    "levels = [1, 3, 6, 10, 15, 20, 30]\n",
    "plot(xlabel=L\"x\", ylabel=L\"y\", aspect_ratio=:equal, colorbar=:none, legend=:none)\n",
    "contour!(xx, yy, q, levels=levels, color=:black, contour_labels=true)\n",
    "plot!([0, c[1]*v1[1]], [0, c[1]*v1[2]], c=:red)\n",
    "plot!([0, c[2]*v2[1]], [0, c[2]*v2[2]], c=:red)"
   ]
  },
  {
   "cell_type": "code",
   "execution_count": null,
   "metadata": {},
   "outputs": [],
   "source": [
    "B = randn(1,2)\n",
    "A = B'B  # positive semidefinite"
   ]
  },
  {
   "cell_type": "code",
   "execution_count": null,
   "metadata": {},
   "outputs": [],
   "source": [
    "F = eigen(A)\n",
    "λ = F.values"
   ]
  },
  {
   "cell_type": "code",
   "execution_count": null,
   "metadata": {},
   "outputs": [],
   "source": [
    "c1 = Inf\n",
    "c2 = 1 ./ sqrt.(λ[2])"
   ]
  },
  {
   "cell_type": "code",
   "execution_count": null,
   "metadata": {},
   "outputs": [],
   "source": [
    "Q = F.vectors"
   ]
  },
  {
   "cell_type": "code",
   "execution_count": null,
   "metadata": {},
   "outputs": [],
   "source": [
    "v1 = Q[:,1]\n",
    "v2 = Q[:,2]\n",
    "v1'v2  # test orthogonality"
   ]
  },
  {
   "cell_type": "code",
   "execution_count": null,
   "metadata": {},
   "outputs": [],
   "source": [
    "xx = -12:0.01:12\n",
    "yy = -8:0.01:8\n",
    "levels = [1, 3, 6, 10, 15, 25, 40]\n",
    "plot(xlabel=L\"x\", ylabel=L\"y\", aspect_ratio=:equal, colorbar=:none, legend=:none)\n",
    "contour!(xx, yy, q, levels=levels, color=:black, contour_labels=true)\n",
    "plot!([0, 12*v1[1]], [0, 12*v1[2]], c=:red)\n",
    "plot!([0, c[2]*v2[1]], [0, c[2]*v2[2]], c=:red)"
   ]
  },
  {
   "cell_type": "code",
   "execution_count": null,
   "metadata": {},
   "outputs": [],
   "source": []
  }
 ],
 "metadata": {
  "kernelspec": {
   "display_name": "Julia 1.5.3",
   "language": "julia",
   "name": "julia-1.5"
  },
  "language_info": {
   "file_extension": ".jl",
   "mimetype": "application/julia",
   "name": "julia",
   "version": "1.5.3"
  }
 },
 "nbformat": 4,
 "nbformat_minor": 4
}
