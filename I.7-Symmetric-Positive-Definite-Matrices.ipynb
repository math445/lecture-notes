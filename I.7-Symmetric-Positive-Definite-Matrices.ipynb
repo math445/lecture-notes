{
 "cells": [
  {
   "cell_type": "markdown",
   "metadata": {},
   "source": [
    "# Contour plots"
   ]
  },
  {
   "cell_type": "code",
   "execution_count": null,
   "metadata": {},
   "outputs": [],
   "source": [
    "using Plots, LaTeXStrings\n",
    "\n",
    "f(x,y) = 4x^4 - 8x^2 + 64y^2\n",
    "#q(x,y) = -2 + 16*(x-1)^2 + 64y^2\n",
    "\n",
    "xx = -2:0.01:2\n",
    "yy = -1:0.01:1\n",
    "flevels = [-3, -2, 0, 3, 9, 15, 20]\n",
    "qlevels = [-1, 0, 1, 2]\n",
    "\n",
    "plot(xlabel=L\"x\", ylabel=L\"y\", aspect_ratio=:equal, colorbar=:none)\n",
    "contour!(xx, yy, f, levels=flevels, color=:black, contour_labels=true)\n",
    "#contour!(xx, yy, q, levels=qlevels, color=:red, contour_labels=true)"
   ]
  },
  {
   "cell_type": "code",
   "execution_count": null,
   "metadata": {},
   "outputs": [],
   "source": []
  }
 ],
 "metadata": {
  "kernelspec": {
   "display_name": "Julia 1.5.3",
   "language": "julia",
   "name": "julia-1.5"
  },
  "language_info": {
   "file_extension": ".jl",
   "mimetype": "application/julia",
   "name": "julia",
   "version": "1.5.3"
  }
 },
 "nbformat": 4,
 "nbformat_minor": 4
}
