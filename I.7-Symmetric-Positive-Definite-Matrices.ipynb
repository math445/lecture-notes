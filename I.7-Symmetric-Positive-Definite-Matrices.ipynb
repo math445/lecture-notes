{
 "cells": [
  {
   "cell_type": "markdown",
   "metadata": {},
   "source": [
    "# Contour plots"
   ]
  },
  {
   "cell_type": "code",
   "execution_count": null,
   "metadata": {},
   "outputs": [],
   "source": [
    "using Plots\n",
    "\n",
    "f(x,y) = x^4 - x^2 + y^2\n",
    "\n",
    "xx = -2:0.01:2\n",
    "yy = -2:0.01:2\n",
    "levels = [1.0]\n",
    "\n",
    "plt = contour(xx, yy, f, levels=levels, contour_labels=true, color=:black)"
   ]
  }
 ],
 "metadata": {
  "kernelspec": {
   "display_name": "Julia 1.5.3",
   "language": "julia",
   "name": "julia-1.5"
  },
  "language_info": {
   "file_extension": ".jl",
   "mimetype": "application/julia",
   "name": "julia",
   "version": "1.5.3"
  }
 },
 "nbformat": 4,
 "nbformat_minor": 4
}
