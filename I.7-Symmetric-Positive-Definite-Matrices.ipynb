{
 "cells": [
  {
   "cell_type": "markdown",
   "metadata": {},
   "source": [
    "# Contour plots"
   ]
  },
  {
   "cell_type": "code",
   "execution_count": null,
   "metadata": {},
   "outputs": [],
   "source": [
    "using Plots, LaTeXStrings\n",
    "\n",
    "f(x,y) = 4x^4 - 8x^2 + 25y^2\n",
    "q1(x,y) = -4 + 16*(x+1)^2 + 25y^2\n",
    "q2(x,y) = -8x^2 + 25y^2\n",
    "q3(x,y) = -4 + 16*(x-1)^2 + 25y^2\n",
    "\n",
    "xx = -2:0.01:2\n",
    "yy = -1:0.01:1\n",
    "flevels = [-3, -2, 0, 2, 5]\n",
    "qlevels = [-3, -2, 0, 2, 5]\n",
    "\n",
    "plot(xlabel=L\"x\", ylabel=L\"y\", aspect_ratio=:equal, colorbar=:none)\n",
    "contour!(xx, yy, f, levels=flevels, color=:black, contour_labels=true)\n",
    "contour!(xx, yy, q1, levels=qlevels, color=:red, contour_labels=true)\n",
    "contour!(xx, yy, q2, levels=qlevels, color=:green, contour_labels=true)\n",
    "contour!(xx, yy, q3, levels=qlevels, color=:blue, contour_labels=true)\n",
    "scatter!([-1], [0], color=:red, label=:none, clabels=[])\n",
    "scatter!([0], [0], color=:green, label=:none)\n",
    "scatter!([1], [0], color=:blue, label=:none)"
   ]
  }
 ],
 "metadata": {
  "kernelspec": {
   "display_name": "Julia 1.5.3",
   "language": "julia",
   "name": "julia-1.5"
  },
  "language_info": {
   "file_extension": ".jl",
   "mimetype": "application/julia",
   "name": "julia",
   "version": "1.5.3"
  }
 },
 "nbformat": 4,
 "nbformat_minor": 4
}
