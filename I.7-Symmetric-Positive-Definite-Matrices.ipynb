{
 "cells": [
  {
   "cell_type": "markdown",
   "metadata": {},
   "source": [
    "# Contour plots"
   ]
  },
  {
   "cell_type": "code",
   "execution_count": null,
   "metadata": {},
   "outputs": [],
   "source": [
    "using Plots, LaTeXStrings\n",
    "\n",
    "f(x,y) = x^4 - x^2 + y^2\n",
    "\n",
    "xx = -3:0.01:3\n",
    "yy = -2:0.01:2\n",
    "levels = [1.0]\n",
    "\n",
    "contour(xx, yy, f, levels=levels,\n",
    "    contour_labels=true, color=:black, colorbar=:none,\n",
    "    xlabel=L\"x\", ylabel=L\"y\", aspect_ratio=:equal)"
   ]
  }
 ],
 "metadata": {
  "kernelspec": {
   "display_name": "Julia 1.5.3",
   "language": "julia",
   "name": "julia-1.5"
  },
  "language_info": {
   "file_extension": ".jl",
   "mimetype": "application/julia",
   "name": "julia",
   "version": "1.5.3"
  }
 },
 "nbformat": 4,
 "nbformat_minor": 4
}
