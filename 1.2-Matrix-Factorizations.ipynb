{
 "cells": [
  {
   "cell_type": "code",
   "execution_count": 1,
   "metadata": {},
   "outputs": [],
   "source": [
    "using LinearAlgebra"
   ]
  },
  {
   "cell_type": "markdown",
   "metadata": {},
   "source": [
    "---"
   ]
  },
  {
   "cell_type": "markdown",
   "metadata": {},
   "source": [
    "# LU"
   ]
  },
  {
   "cell_type": "code",
   "execution_count": 4,
   "metadata": {},
   "outputs": [
    {
     "data": {
      "text/plain": [
       "3×3 Array{Float64,2}:\n",
       " 3.0  9.0  1.0\n",
       " 4.0  7.0  0.0\n",
       " 1.0  5.0  2.0"
      ]
     },
     "execution_count": 4,
     "metadata": {},
     "output_type": "execute_result"
    }
   ],
   "source": [
    "A = [\n",
    "    3 9 1\n",
    "    4 7 0\n",
    "    1 5 2.0\n",
    "]"
   ]
  },
  {
   "cell_type": "code",
   "execution_count": 5,
   "metadata": {},
   "outputs": [
    {
     "data": {
      "text/plain": [
       "3×3 Array{Float64,2}:\n",
       " 3.0  9.0  1.0\n",
       " 4.0  7.0  0.0\n",
       " 1.0  5.0  2.0"
      ]
     },
     "execution_count": 5,
     "metadata": {},
     "output_type": "execute_result"
    }
   ],
   "source": [
    "A = Float64[3 9 1; 4 7 0; 1 5 2]"
   ]
  },
  {
   "cell_type": "code",
   "execution_count": 29,
   "metadata": {},
   "outputs": [
    {
     "name": "stdout",
     "output_type": "stream",
     "text": [
      "search: \u001b[0m\u001b[1ml\u001b[22m\u001b[0m\u001b[1mu\u001b[22m \u001b[0m\u001b[1ml\u001b[22m\u001b[0m\u001b[1mu\u001b[22m! \u001b[0m\u001b[1mL\u001b[22m\u001b[0m\u001b[1mU\u001b[22m f\u001b[0m\u001b[1ml\u001b[22m\u001b[0m\u001b[1mu\u001b[22msh va\u001b[0m\u001b[1ml\u001b[22m\u001b[0m\u001b[1mu\u001b[22mes inc\u001b[0m\u001b[1ml\u001b[22m\u001b[0m\u001b[1mu\u001b[22mde inc\u001b[0m\u001b[1ml\u001b[22m\u001b[0m\u001b[1mu\u001b[22mde_string inc\u001b[0m\u001b[1ml\u001b[22m\u001b[0m\u001b[1mu\u001b[22mde_dependency \u001b[0m\u001b[1ml\u001b[22mm\u001b[0m\u001b[1mu\u001b[22ml!\n",
      "\n"
     ]
    },
    {
     "data": {
      "text/latex": [
       "\\begin{verbatim}\n",
       "lu(A, pivot=Val(true); check = true) -> F::LU\n",
       "\\end{verbatim}\n",
       "Compute the LU factorization of \\texttt{A}.\n",
       "\n",
       "When \\texttt{check = true}, an error is thrown if the decomposition fails. When \\texttt{check = false}, responsibility for checking the decomposition's validity (via \\href{@ref}{\\texttt{issuccess}}) lies with the user.\n",
       "\n",
       "In most cases, if \\texttt{A} is a subtype \\texttt{S} of \\texttt{AbstractMatrix\\{T\\}} with an element type \\texttt{T} supporting \\texttt{+}, \\texttt{-}, \\texttt{*} and \\texttt{/}, the return type is \\texttt{LU\\{T,S\\{T\\}\\}}. If pivoting is chosen (default) the element type should also support \\href{@ref}{\\texttt{abs}} and \\href{@ref}{\\texttt{<}}.\n",
       "\n",
       "The individual components of the factorization \\texttt{F} can be accessed via \\href{@ref}{\\texttt{getproperty}}:\n",
       "\n",
       "\\begin{tabular}\n",
       "{l | l}\n",
       "Component & Description \\\\\n",
       "\\hline\n",
       "\\texttt{F.L} & \\texttt{L} (lower triangular) part of \\texttt{LU} \\\\\n",
       "\\texttt{F.U} & \\texttt{U} (upper triangular) part of \\texttt{LU} \\\\\n",
       "\\texttt{F.p} & (right) permutation \\texttt{Vector} \\\\\n",
       "\\texttt{F.P} & (right) permutation \\texttt{Matrix} \\\\\n",
       "\\end{tabular}\n",
       "Iterating the factorization produces the components \\texttt{F.L}, \\texttt{F.U}, and \\texttt{F.p}.\n",
       "\n",
       "The relationship between \\texttt{F} and \\texttt{A} is\n",
       "\n",
       "\\texttt{F.L*F.U == A[F.p, :]}\n",
       "\n",
       "\\texttt{F} further supports the following functions:\n",
       "\n",
       "\\begin{tabular}\n",
       "{l | l | l}\n",
       "Supported function & \\texttt{LU} & \\texttt{LU\\{T,Tridiagonal\\{T\\}\\}} \\\\\n",
       "\\hline\n",
       "\\href{@ref}{\\texttt{/}} & ✓ &  \\\\\n",
       "\\href{@ref}{\\texttt{{\\textbackslash}}} & ✓ & ✓ \\\\\n",
       "\\href{@ref}{\\texttt{inv}} & ✓ & ✓ \\\\\n",
       "\\href{@ref}{\\texttt{det}} & ✓ & ✓ \\\\\n",
       "\\href{@ref}{\\texttt{logdet}} & ✓ & ✓ \\\\\n",
       "\\href{@ref}{\\texttt{logabsdet}} & ✓ & ✓ \\\\\n",
       "\\href{@ref}{\\texttt{size}} & ✓ & ✓ \\\\\n",
       "\\end{tabular}\n",
       "\\section{Examples}\n",
       "\\begin{verbatim}\n",
       "julia> A = [4 3; 6 3]\n",
       "2×2 Array{Int64,2}:\n",
       " 4  3\n",
       " 6  3\n",
       "\n",
       "julia> F = lu(A)\n",
       "LU{Float64,Array{Float64,2}}\n",
       "L factor:\n",
       "2×2 Array{Float64,2}:\n",
       " 1.0       0.0\n",
       " 0.666667  1.0\n",
       "U factor:\n",
       "2×2 Array{Float64,2}:\n",
       " 6.0  3.0\n",
       " 0.0  1.0\n",
       "\n",
       "julia> F.L * F.U == A[F.p, :]\n",
       "true\n",
       "\n",
       "julia> l, u, p = lu(A); # destructuring via iteration\n",
       "\n",
       "julia> l == F.L && u == F.U && p == F.p\n",
       "true\n",
       "\\end{verbatim}\n",
       "\\rule{\\textwidth}{1pt}\n",
       "\\begin{verbatim}\n",
       "lu(A::SparseMatrixCSC; check = true) -> F::UmfpackLU\n",
       "\\end{verbatim}\n",
       "Compute the LU factorization of a sparse matrix \\texttt{A}.\n",
       "\n",
       "For sparse \\texttt{A} with real or complex element type, the return type of \\texttt{F} is \\texttt{UmfpackLU\\{Tv, Ti\\}}, with \\texttt{Tv} = \\href{@ref}{\\texttt{Float64}} or \\texttt{ComplexF64} respectively and \\texttt{Ti} is an integer type (\\href{@ref}{\\texttt{Int32}} or \\href{@ref}{\\texttt{Int64}}).\n",
       "\n",
       "When \\texttt{check = true}, an error is thrown if the decomposition fails. When \\texttt{check = false}, responsibility for checking the decomposition's validity (via \\href{@ref}{\\texttt{issuccess}}) lies with the user.\n",
       "\n",
       "The individual components of the factorization \\texttt{F} can be accessed by indexing:\n",
       "\n",
       "\\begin{tabular}\n",
       "{l | l}\n",
       "Component & Description \\\\\n",
       "\\hline\n",
       "\\texttt{L} & \\texttt{L} (lower triangular) part of \\texttt{LU} \\\\\n",
       "\\texttt{U} & \\texttt{U} (upper triangular) part of \\texttt{LU} \\\\\n",
       "\\texttt{p} & right permutation \\texttt{Vector} \\\\\n",
       "\\texttt{q} & left permutation \\texttt{Vector} \\\\\n",
       "\\texttt{Rs} & \\texttt{Vector} of scaling factors \\\\\n",
       "\\texttt{:} & \\texttt{(L,U,p,q,Rs)} components \\\\\n",
       "\\end{tabular}\n",
       "The relation between \\texttt{F} and \\texttt{A} is\n",
       "\n",
       "\\texttt{F.L*F.U == (F.Rs .* A)[F.p, F.q]}\n",
       "\n",
       "\\texttt{F} further supports the following functions:\n",
       "\n",
       "\\begin{itemize}\n",
       "\\item \\href{@ref}{\\texttt{{\\textbackslash}}}\n",
       "\n",
       "\n",
       "\\item \\href{@ref}{\\texttt{cond}}\n",
       "\n",
       "\n",
       "\\item \\href{@ref}{\\texttt{det}}\n",
       "\n",
       "\\end{itemize}\n",
       "\\begin{quote}\n",
       "\\textbf{note}\n",
       "\n",
       "Note\n",
       "\n",
       "\\texttt{lu(A::SparseMatrixCSC)} uses the UMFPACK library that is part of SuiteSparse. As this library only supports sparse matrices with \\href{@ref}{\\texttt{Float64}} or \\texttt{ComplexF64} elements, \\texttt{lu} converts \\texttt{A} into a copy that is of type \\texttt{SparseMatrixCSC\\{Float64\\}} or \\texttt{SparseMatrixCSC\\{ComplexF64\\}} as appropriate.\n",
       "\n",
       "\\end{quote}\n"
      ],
      "text/markdown": [
       "```\n",
       "lu(A, pivot=Val(true); check = true) -> F::LU\n",
       "```\n",
       "\n",
       "Compute the LU factorization of `A`.\n",
       "\n",
       "When `check = true`, an error is thrown if the decomposition fails. When `check = false`, responsibility for checking the decomposition's validity (via [`issuccess`](@ref)) lies with the user.\n",
       "\n",
       "In most cases, if `A` is a subtype `S` of `AbstractMatrix{T}` with an element type `T` supporting `+`, `-`, `*` and `/`, the return type is `LU{T,S{T}}`. If pivoting is chosen (default) the element type should also support [`abs`](@ref) and [`<`](@ref).\n",
       "\n",
       "The individual components of the factorization `F` can be accessed via [`getproperty`](@ref):\n",
       "\n",
       "| Component | Description                         |\n",
       "|:--------- |:----------------------------------- |\n",
       "| `F.L`     | `L` (lower triangular) part of `LU` |\n",
       "| `F.U`     | `U` (upper triangular) part of `LU` |\n",
       "| `F.p`     | (right) permutation `Vector`        |\n",
       "| `F.P`     | (right) permutation `Matrix`        |\n",
       "\n",
       "Iterating the factorization produces the components `F.L`, `F.U`, and `F.p`.\n",
       "\n",
       "The relationship between `F` and `A` is\n",
       "\n",
       "`F.L*F.U == A[F.p, :]`\n",
       "\n",
       "`F` further supports the following functions:\n",
       "\n",
       "| Supported function  | `LU` | `LU{T,Tridiagonal{T}}` |\n",
       "|:------------------- |:---- |:---------------------- |\n",
       "| [`/`](@ref)         | ✓    |                        |\n",
       "| [`\\`](@ref)         | ✓    | ✓                      |\n",
       "| [`inv`](@ref)       | ✓    | ✓                      |\n",
       "| [`det`](@ref)       | ✓    | ✓                      |\n",
       "| [`logdet`](@ref)    | ✓    | ✓                      |\n",
       "| [`logabsdet`](@ref) | ✓    | ✓                      |\n",
       "| [`size`](@ref)      | ✓    | ✓                      |\n",
       "\n",
       "# Examples\n",
       "\n",
       "```jldoctest\n",
       "julia> A = [4 3; 6 3]\n",
       "2×2 Array{Int64,2}:\n",
       " 4  3\n",
       " 6  3\n",
       "\n",
       "julia> F = lu(A)\n",
       "LU{Float64,Array{Float64,2}}\n",
       "L factor:\n",
       "2×2 Array{Float64,2}:\n",
       " 1.0       0.0\n",
       " 0.666667  1.0\n",
       "U factor:\n",
       "2×2 Array{Float64,2}:\n",
       " 6.0  3.0\n",
       " 0.0  1.0\n",
       "\n",
       "julia> F.L * F.U == A[F.p, :]\n",
       "true\n",
       "\n",
       "julia> l, u, p = lu(A); # destructuring via iteration\n",
       "\n",
       "julia> l == F.L && u == F.U && p == F.p\n",
       "true\n",
       "```\n",
       "\n",
       "---\n",
       "\n",
       "```\n",
       "lu(A::SparseMatrixCSC; check = true) -> F::UmfpackLU\n",
       "```\n",
       "\n",
       "Compute the LU factorization of a sparse matrix `A`.\n",
       "\n",
       "For sparse `A` with real or complex element type, the return type of `F` is `UmfpackLU{Tv, Ti}`, with `Tv` = [`Float64`](@ref) or `ComplexF64` respectively and `Ti` is an integer type ([`Int32`](@ref) or [`Int64`](@ref)).\n",
       "\n",
       "When `check = true`, an error is thrown if the decomposition fails. When `check = false`, responsibility for checking the decomposition's validity (via [`issuccess`](@ref)) lies with the user.\n",
       "\n",
       "The individual components of the factorization `F` can be accessed by indexing:\n",
       "\n",
       "| Component | Description                         |\n",
       "|:--------- |:----------------------------------- |\n",
       "| `L`       | `L` (lower triangular) part of `LU` |\n",
       "| `U`       | `U` (upper triangular) part of `LU` |\n",
       "| `p`       | right permutation `Vector`          |\n",
       "| `q`       | left permutation `Vector`           |\n",
       "| `Rs`      | `Vector` of scaling factors         |\n",
       "| `:`       | `(L,U,p,q,Rs)` components           |\n",
       "\n",
       "The relation between `F` and `A` is\n",
       "\n",
       "`F.L*F.U == (F.Rs .* A)[F.p, F.q]`\n",
       "\n",
       "`F` further supports the following functions:\n",
       "\n",
       "  * [`\\`](@ref)\n",
       "  * [`cond`](@ref)\n",
       "  * [`det`](@ref)\n",
       "\n",
       "!!! note\n",
       "    `lu(A::SparseMatrixCSC)` uses the UMFPACK library that is part of SuiteSparse. As this library only supports sparse matrices with [`Float64`](@ref) or `ComplexF64` elements, `lu` converts `A` into a copy that is of type `SparseMatrixCSC{Float64}` or `SparseMatrixCSC{ComplexF64}` as appropriate.\n",
       "\n"
      ],
      "text/plain": [
       "\u001b[36m  lu(A, pivot=Val(true); check = true) -> F::LU\u001b[39m\n",
       "\n",
       "  Compute the LU factorization of \u001b[36mA\u001b[39m.\n",
       "\n",
       "  When \u001b[36mcheck = true\u001b[39m, an error is thrown if the decomposition fails. When \u001b[36mcheck\n",
       "  = false\u001b[39m, responsibility for checking the decomposition's validity (via\n",
       "  \u001b[36missuccess\u001b[39m) lies with the user.\n",
       "\n",
       "  In most cases, if \u001b[36mA\u001b[39m is a subtype \u001b[36mS\u001b[39m of \u001b[36mAbstractMatrix{T}\u001b[39m with an element type\n",
       "  \u001b[36mT\u001b[39m supporting \u001b[36m+\u001b[39m, \u001b[36m-\u001b[39m, \u001b[36m*\u001b[39m and \u001b[36m/\u001b[39m, the return type is \u001b[36mLU{T,S{T}}\u001b[39m. If pivoting is\n",
       "  chosen (default) the element type should also support \u001b[36mabs\u001b[39m and \u001b[36m<\u001b[39m.\n",
       "\n",
       "  The individual components of the factorization \u001b[36mF\u001b[39m can be accessed via\n",
       "  \u001b[36mgetproperty\u001b[39m:\n",
       "\n",
       "  Component Description                    \n",
       "  ––––––––– –––––––––––––––––––––––––––––––\n",
       "  \u001b[36mF.L\u001b[39m       \u001b[36mL\u001b[39m (lower triangular) part of \u001b[36mLU\u001b[39m\n",
       "  \u001b[36mF.U\u001b[39m       \u001b[36mU\u001b[39m (upper triangular) part of \u001b[36mLU\u001b[39m\n",
       "  \u001b[36mF.p\u001b[39m       (right) permutation \u001b[36mVector\u001b[39m     \n",
       "  \u001b[36mF.P\u001b[39m       (right) permutation \u001b[36mMatrix\u001b[39m     \n",
       "\n",
       "  Iterating the factorization produces the components \u001b[36mF.L\u001b[39m, \u001b[36mF.U\u001b[39m, and \u001b[36mF.p\u001b[39m.\n",
       "\n",
       "  The relationship between \u001b[36mF\u001b[39m and \u001b[36mA\u001b[39m is\n",
       "\n",
       "  \u001b[36mF.L*F.U == A[F.p, :]\u001b[39m\n",
       "\n",
       "  \u001b[36mF\u001b[39m further supports the following functions:\n",
       "\n",
       "  Supported function \u001b[36mLU\u001b[39m \u001b[36mLU{T,Tridiagonal{T}}\u001b[39m\n",
       "  –––––––––––––––––– –– ––––––––––––––––––––\n",
       "  \u001b[36m/\u001b[39m                  ✓                      \n",
       "  \u001b[36m\\\u001b[39m                  ✓  ✓                   \n",
       "  \u001b[36minv\u001b[39m                ✓  ✓                   \n",
       "  \u001b[36mdet\u001b[39m                ✓  ✓                   \n",
       "  \u001b[36mlogdet\u001b[39m             ✓  ✓                   \n",
       "  \u001b[36mlogabsdet\u001b[39m          ✓  ✓                   \n",
       "  \u001b[36msize\u001b[39m               ✓  ✓                   \n",
       "\n",
       "\u001b[1m  Examples\u001b[22m\n",
       "\u001b[1m  ≡≡≡≡≡≡≡≡≡≡\u001b[22m\n",
       "\n",
       "\u001b[36m  julia> A = [4 3; 6 3]\u001b[39m\n",
       "\u001b[36m  2×2 Array{Int64,2}:\u001b[39m\n",
       "\u001b[36m   4  3\u001b[39m\n",
       "\u001b[36m   6  3\u001b[39m\n",
       "\u001b[36m  \u001b[39m\n",
       "\u001b[36m  julia> F = lu(A)\u001b[39m\n",
       "\u001b[36m  LU{Float64,Array{Float64,2}}\u001b[39m\n",
       "\u001b[36m  L factor:\u001b[39m\n",
       "\u001b[36m  2×2 Array{Float64,2}:\u001b[39m\n",
       "\u001b[36m   1.0       0.0\u001b[39m\n",
       "\u001b[36m   0.666667  1.0\u001b[39m\n",
       "\u001b[36m  U factor:\u001b[39m\n",
       "\u001b[36m  2×2 Array{Float64,2}:\u001b[39m\n",
       "\u001b[36m   6.0  3.0\u001b[39m\n",
       "\u001b[36m   0.0  1.0\u001b[39m\n",
       "\u001b[36m  \u001b[39m\n",
       "\u001b[36m  julia> F.L * F.U == A[F.p, :]\u001b[39m\n",
       "\u001b[36m  true\u001b[39m\n",
       "\u001b[36m  \u001b[39m\n",
       "\u001b[36m  julia> l, u, p = lu(A); # destructuring via iteration\u001b[39m\n",
       "\u001b[36m  \u001b[39m\n",
       "\u001b[36m  julia> l == F.L && u == F.U && p == F.p\u001b[39m\n",
       "\u001b[36m  true\u001b[39m\n",
       "\n",
       "  ────────────────────────────────────────────────────────────────────────────\n",
       "\n",
       "\u001b[36m  lu(A::SparseMatrixCSC; check = true) -> F::UmfpackLU\u001b[39m\n",
       "\n",
       "  Compute the LU factorization of a sparse matrix \u001b[36mA\u001b[39m.\n",
       "\n",
       "  For sparse \u001b[36mA\u001b[39m with real or complex element type, the return type of \u001b[36mF\u001b[39m is\n",
       "  \u001b[36mUmfpackLU{Tv, Ti}\u001b[39m, with \u001b[36mTv\u001b[39m = \u001b[36mFloat64\u001b[39m or \u001b[36mComplexF64\u001b[39m respectively and \u001b[36mTi\u001b[39m is an\n",
       "  integer type (\u001b[36mInt32\u001b[39m or \u001b[36mInt64\u001b[39m).\n",
       "\n",
       "  When \u001b[36mcheck = true\u001b[39m, an error is thrown if the decomposition fails. When \u001b[36mcheck\n",
       "  = false\u001b[39m, responsibility for checking the decomposition's validity (via\n",
       "  \u001b[36missuccess\u001b[39m) lies with the user.\n",
       "\n",
       "  The individual components of the factorization \u001b[36mF\u001b[39m can be accessed by\n",
       "  indexing:\n",
       "\n",
       "  Component Description                    \n",
       "  ––––––––– –––––––––––––––––––––––––––––––\n",
       "  \u001b[36mL\u001b[39m         \u001b[36mL\u001b[39m (lower triangular) part of \u001b[36mLU\u001b[39m\n",
       "  \u001b[36mU\u001b[39m         \u001b[36mU\u001b[39m (upper triangular) part of \u001b[36mLU\u001b[39m\n",
       "  \u001b[36mp\u001b[39m         right permutation \u001b[36mVector\u001b[39m       \n",
       "  \u001b[36mq\u001b[39m         left permutation \u001b[36mVector\u001b[39m        \n",
       "  \u001b[36mRs\u001b[39m        \u001b[36mVector\u001b[39m of scaling factors      \n",
       "  \u001b[36m:\u001b[39m         \u001b[36m(L,U,p,q,Rs)\u001b[39m components        \n",
       "\n",
       "  The relation between \u001b[36mF\u001b[39m and \u001b[36mA\u001b[39m is\n",
       "\n",
       "  \u001b[36mF.L*F.U == (F.Rs .* A)[F.p, F.q]\u001b[39m\n",
       "\n",
       "  \u001b[36mF\u001b[39m further supports the following functions:\n",
       "\n",
       "    •    \u001b[36m\\\u001b[39m\n",
       "\n",
       "    •    \u001b[36mcond\u001b[39m\n",
       "\n",
       "    •    \u001b[36mdet\u001b[39m\n",
       "\n",
       "\u001b[36m\u001b[1m  │ \u001b[22m\u001b[39m\u001b[36m\u001b[1mNote\u001b[22m\u001b[39m\n",
       "\u001b[36m\u001b[1m  │\u001b[22m\u001b[39m\n",
       "\u001b[36m\u001b[1m  │\u001b[22m\u001b[39m  \u001b[36mlu(A::SparseMatrixCSC)\u001b[39m uses the UMFPACK library that is part of\n",
       "\u001b[36m\u001b[1m  │\u001b[22m\u001b[39m  SuiteSparse. As this library only supports sparse matrices with\n",
       "\u001b[36m\u001b[1m  │\u001b[22m\u001b[39m  \u001b[36mFloat64\u001b[39m or \u001b[36mComplexF64\u001b[39m elements, \u001b[36mlu\u001b[39m converts \u001b[36mA\u001b[39m into a copy that is\n",
       "\u001b[36m\u001b[1m  │\u001b[22m\u001b[39m  of type \u001b[36mSparseMatrixCSC{Float64}\u001b[39m or \u001b[36mSparseMatrixCSC{ComplexF64}\u001b[39m as\n",
       "\u001b[36m\u001b[1m  │\u001b[22m\u001b[39m  appropriate."
      ]
     },
     "execution_count": 29,
     "metadata": {},
     "output_type": "execute_result"
    }
   ],
   "source": [
    "?lu"
   ]
  },
  {
   "cell_type": "code",
   "execution_count": 22,
   "metadata": {},
   "outputs": [
    {
     "data": {
      "text/plain": [
       "LU{Float64,Array{Float64,2}}\n",
       "L factor:\n",
       "3×3 Array{Float64,2}:\n",
       " 1.0   0.0       0.0\n",
       " 0.75  1.0       0.0\n",
       " 0.25  0.866667  1.0\n",
       "U factor:\n",
       "3×3 Array{Float64,2}:\n",
       " 4.0  7.0   0.0\n",
       " 0.0  3.75  1.0\n",
       " 0.0  0.0   1.13333"
      ]
     },
     "execution_count": 22,
     "metadata": {},
     "output_type": "execute_result"
    }
   ],
   "source": [
    "F = lu(A)"
   ]
  },
  {
   "cell_type": "code",
   "execution_count": 23,
   "metadata": {},
   "outputs": [
    {
     "data": {
      "text/plain": [
       "3×3 Array{Float64,2}:\n",
       " 1.0   0.0       0.0\n",
       " 0.75  1.0       0.0\n",
       " 0.25  0.866667  1.0"
      ]
     },
     "execution_count": 23,
     "metadata": {},
     "output_type": "execute_result"
    }
   ],
   "source": [
    "L = F.L"
   ]
  },
  {
   "cell_type": "code",
   "execution_count": 24,
   "metadata": {},
   "outputs": [
    {
     "data": {
      "text/plain": [
       "3×3 Array{Float64,2}:\n",
       " 4.0  7.0   0.0\n",
       " 0.0  3.75  1.0\n",
       " 0.0  0.0   1.13333"
      ]
     },
     "execution_count": 24,
     "metadata": {},
     "output_type": "execute_result"
    }
   ],
   "source": [
    "U = F.U"
   ]
  },
  {
   "cell_type": "code",
   "execution_count": 25,
   "metadata": {},
   "outputs": [
    {
     "data": {
      "text/plain": [
       "3×3 Array{Float64,2}:\n",
       " 4.0  7.0  0.0\n",
       " 3.0  9.0  1.0\n",
       " 1.0  5.0  2.0"
      ]
     },
     "execution_count": 25,
     "metadata": {},
     "output_type": "execute_result"
    }
   ],
   "source": [
    "L*U"
   ]
  },
  {
   "cell_type": "code",
   "execution_count": 26,
   "metadata": {},
   "outputs": [
    {
     "data": {
      "text/plain": [
       "3×3 Array{Float64,2}:\n",
       " 3.0  9.0  1.0\n",
       " 4.0  7.0  0.0\n",
       " 1.0  5.0  2.0"
      ]
     },
     "execution_count": 26,
     "metadata": {},
     "output_type": "execute_result"
    }
   ],
   "source": [
    "A"
   ]
  },
  {
   "cell_type": "code",
   "execution_count": 27,
   "metadata": {},
   "outputs": [
    {
     "data": {
      "text/plain": [
       "3-element Array{Int64,1}:\n",
       " 2\n",
       " 1\n",
       " 3"
      ]
     },
     "execution_count": 27,
     "metadata": {},
     "output_type": "execute_result"
    }
   ],
   "source": [
    "F.p"
   ]
  },
  {
   "cell_type": "code",
   "execution_count": 28,
   "metadata": {},
   "outputs": [
    {
     "data": {
      "text/plain": [
       "3×3 Array{Float64,2}:\n",
       " 4.0  7.0  0.0\n",
       " 3.0  9.0  1.0\n",
       " 1.0  5.0  2.0"
      ]
     },
     "execution_count": 28,
     "metadata": {},
     "output_type": "execute_result"
    }
   ],
   "source": [
    "A[F.p,:]"
   ]
  },
  {
   "cell_type": "code",
   "execution_count": 18,
   "metadata": {},
   "outputs": [
    {
     "data": {
      "text/plain": [
       "LU{Float64,Array{Float64,2}}\n",
       "L factor:\n",
       "3×3 Array{Float64,2}:\n",
       " 1.0        0.0  0.0\n",
       " 1.33333    1.0  0.0\n",
       " 0.333333  -0.4  1.0\n",
       "U factor:\n",
       "3×3 Array{Float64,2}:\n",
       " 3.0   9.0   1.0\n",
       " 0.0  -5.0  -1.33333\n",
       " 0.0   0.0   1.13333"
      ]
     },
     "execution_count": 18,
     "metadata": {},
     "output_type": "execute_result"
    }
   ],
   "source": [
    "F = lu(A, Val(false))"
   ]
  },
  {
   "cell_type": "code",
   "execution_count": 20,
   "metadata": {},
   "outputs": [
    {
     "data": {
      "text/plain": [
       "3×3 Array{Float64,2}:\n",
       " 3.0  9.0  1.0\n",
       " 4.0  7.0  0.0\n",
       " 1.0  5.0  2.0"
      ]
     },
     "execution_count": 20,
     "metadata": {},
     "output_type": "execute_result"
    }
   ],
   "source": [
    "L = F.L\n",
    "U = F.U\n",
    "L*U"
   ]
  },
  {
   "cell_type": "code",
   "execution_count": 21,
   "metadata": {},
   "outputs": [
    {
     "data": {
      "text/plain": [
       "3×3 Array{Float64,2}:\n",
       " 3.0  9.0  1.0\n",
       " 4.0  7.0  0.0\n",
       " 1.0  5.0  2.0"
      ]
     },
     "execution_count": 21,
     "metadata": {},
     "output_type": "execute_result"
    }
   ],
   "source": [
    "A"
   ]
  },
  {
   "cell_type": "markdown",
   "metadata": {},
   "source": [
    "---"
   ]
  },
  {
   "cell_type": "markdown",
   "metadata": {},
   "source": [
    "# Cholesky"
   ]
  },
  {
   "cell_type": "code",
   "execution_count": 30,
   "metadata": {},
   "outputs": [
    {
     "data": {
      "text/plain": [
       "3×3 Array{Float64,2}:\n",
       " 0.977753  0.0097354  0.921972\n",
       " 0.953398  0.467663   0.0346951\n",
       " 0.312696  0.0510857  0.481566"
      ]
     },
     "execution_count": 30,
     "metadata": {},
     "output_type": "execute_result"
    }
   ],
   "source": [
    "A = rand(3, 3)"
   ]
  },
  {
   "cell_type": "code",
   "execution_count": 31,
   "metadata": {},
   "outputs": [
    {
     "data": {
      "text/plain": [
       "3×3 Symmetric{Float64,Array{Float64,2}}:\n",
       " 0.977753   0.0097354  0.921972\n",
       " 0.0097354  0.467663   0.0346951\n",
       " 0.921972   0.0346951  0.481566"
      ]
     },
     "execution_count": 31,
     "metadata": {},
     "output_type": "execute_result"
    }
   ],
   "source": [
    "A = Symmetric(A)"
   ]
  },
  {
   "cell_type": "code",
   "execution_count": 32,
   "metadata": {},
   "outputs": [
    {
     "data": {
      "text/plain": [
       "3×3 Array{Float64,2}:\n",
       " 0.977753  0.0097354  0.921972\n",
       " 0.953398  0.467663   0.0346951\n",
       " 0.312696  0.0510857  0.481566"
      ]
     },
     "execution_count": 32,
     "metadata": {},
     "output_type": "execute_result"
    }
   ],
   "source": [
    "A.data"
   ]
  },
  {
   "cell_type": "code",
   "execution_count": 33,
   "metadata": {},
   "outputs": [
    {
     "data": {
      "text/plain": [
       "'U': ASCII/Unicode U+0055 (category Lu: Letter, uppercase)"
      ]
     },
     "execution_count": 33,
     "metadata": {},
     "output_type": "execute_result"
    }
   ],
   "source": [
    "A.uplo"
   ]
  },
  {
   "cell_type": "code",
   "execution_count": 34,
   "metadata": {},
   "outputs": [
    {
     "data": {
      "text/plain": [
       "3-element Array{Float64,1}:\n",
       " -0.22578291538352752\n",
       "  0.46765402969825226\n",
       "  1.6851108523394958"
      ]
     },
     "execution_count": 34,
     "metadata": {},
     "output_type": "execute_result"
    }
   ],
   "source": [
    "eigvals(A)"
   ]
  },
  {
   "cell_type": "code",
   "execution_count": 35,
   "metadata": {},
   "outputs": [
    {
     "data": {
      "text/plain": [
       "3×3 Symmetric{Float64,Array{Float64,2}}:\n",
       " 1.97775    0.0097354  0.921972\n",
       " 0.0097354  1.46766    0.0346951\n",
       " 0.921972   0.0346951  1.48157"
      ]
     },
     "execution_count": 35,
     "metadata": {},
     "output_type": "execute_result"
    }
   ],
   "source": [
    "A + I"
   ]
  },
  {
   "cell_type": "code",
   "execution_count": 36,
   "metadata": {},
   "outputs": [
    {
     "data": {
      "text/plain": [
       "3-element Array{Float64,1}:\n",
       " 0.7742170846164727\n",
       " 1.4676540296982528\n",
       " 2.6851108523394958"
      ]
     },
     "execution_count": 36,
     "metadata": {},
     "output_type": "execute_result"
    }
   ],
   "source": [
    "eigvals(A + I)"
   ]
  },
  {
   "cell_type": "code",
   "execution_count": 37,
   "metadata": {},
   "outputs": [
    {
     "data": {
      "text/plain": [
       "3×3 Symmetric{Float64,Array{Float64,2}}:\n",
       " 1.97775    0.0097354  0.921972\n",
       " 0.0097354  1.46766    0.0346951\n",
       " 0.921972   0.0346951  1.48157"
      ]
     },
     "execution_count": 37,
     "metadata": {},
     "output_type": "execute_result"
    }
   ],
   "source": [
    "A = A + I"
   ]
  },
  {
   "cell_type": "code",
   "execution_count": 39,
   "metadata": {
    "scrolled": false
   },
   "outputs": [
    {
     "name": "stdout",
     "output_type": "stream",
     "text": [
      "search: \u001b[0m\u001b[1mc\u001b[22m\u001b[0m\u001b[1mh\u001b[22m\u001b[0m\u001b[1mo\u001b[22m\u001b[0m\u001b[1ml\u001b[22m\u001b[0m\u001b[1me\u001b[22m\u001b[0m\u001b[1ms\u001b[22m\u001b[0m\u001b[1mk\u001b[22m\u001b[0m\u001b[1my\u001b[22m \u001b[0m\u001b[1mc\u001b[22m\u001b[0m\u001b[1mh\u001b[22m\u001b[0m\u001b[1mo\u001b[22m\u001b[0m\u001b[1ml\u001b[22m\u001b[0m\u001b[1me\u001b[22m\u001b[0m\u001b[1ms\u001b[22m\u001b[0m\u001b[1mk\u001b[22m\u001b[0m\u001b[1my\u001b[22m! \u001b[0m\u001b[1mC\u001b[22m\u001b[0m\u001b[1mh\u001b[22m\u001b[0m\u001b[1mo\u001b[22m\u001b[0m\u001b[1ml\u001b[22m\u001b[0m\u001b[1me\u001b[22m\u001b[0m\u001b[1ms\u001b[22m\u001b[0m\u001b[1mk\u001b[22m\u001b[0m\u001b[1my\u001b[22m \u001b[0m\u001b[1mC\u001b[22m\u001b[0m\u001b[1mh\u001b[22m\u001b[0m\u001b[1mo\u001b[22m\u001b[0m\u001b[1ml\u001b[22m\u001b[0m\u001b[1me\u001b[22m\u001b[0m\u001b[1ms\u001b[22m\u001b[0m\u001b[1mk\u001b[22m\u001b[0m\u001b[1my\u001b[22mPivoted\n",
      "\n"
     ]
    },
    {
     "data": {
      "text/latex": [
       "\\begin{verbatim}\n",
       "cholesky(A, Val(false); check = true) -> Cholesky\n",
       "\\end{verbatim}\n",
       "Compute the Cholesky factorization of a dense symmetric positive definite matrix \\texttt{A} and return a \\href{@ref}{\\texttt{Cholesky}} factorization. The matrix \\texttt{A} can either be a \\href{@ref}{\\texttt{Symmetric}} or \\href{@ref}{\\texttt{Hermitian}} \\href{@ref}{\\texttt{StridedMatrix}} or a \\emph{perfectly} symmetric or Hermitian \\texttt{StridedMatrix}. The triangular Cholesky factor can be obtained from the factorization \\texttt{F} with: \\texttt{F.L} and \\texttt{F.U}. The following functions are available for \\texttt{Cholesky} objects: \\href{@ref}{\\texttt{size}}, \\href{@ref}{\\texttt{{\\textbackslash}}}, \\href{@ref}{\\texttt{inv}}, \\href{@ref}{\\texttt{det}}, \\href{@ref}{\\texttt{logdet}} and \\href{@ref}{\\texttt{isposdef}}.\n",
       "\n",
       "If you have a matrix \\texttt{A} that is slightly non-Hermitian due to roundoff errors in its construction, wrap it in \\texttt{Hermitian(A)} before passing it to \\texttt{cholesky} in order to treat it as perfectly Hermitian.\n",
       "\n",
       "When \\texttt{check = true}, an error is thrown if the decomposition fails. When \\texttt{check = false}, responsibility for checking the decomposition's validity (via \\href{@ref}{\\texttt{issuccess}}) lies with the user.\n",
       "\n",
       "\\section{Examples}\n",
       "\\begin{verbatim}\n",
       "julia> A = [4. 12. -16.; 12. 37. -43.; -16. -43. 98.]\n",
       "3×3 Array{Float64,2}:\n",
       "   4.0   12.0  -16.0\n",
       "  12.0   37.0  -43.0\n",
       " -16.0  -43.0   98.0\n",
       "\n",
       "julia> C = cholesky(A)\n",
       "Cholesky{Float64,Array{Float64,2}}\n",
       "U factor:\n",
       "3×3 UpperTriangular{Float64,Array{Float64,2}}:\n",
       " 2.0  6.0  -8.0\n",
       "  ⋅   1.0   5.0\n",
       "  ⋅    ⋅    3.0\n",
       "\n",
       "julia> C.U\n",
       "3×3 UpperTriangular{Float64,Array{Float64,2}}:\n",
       " 2.0  6.0  -8.0\n",
       "  ⋅   1.0   5.0\n",
       "  ⋅    ⋅    3.0\n",
       "\n",
       "julia> C.L\n",
       "3×3 LowerTriangular{Float64,Array{Float64,2}}:\n",
       "  2.0   ⋅    ⋅\n",
       "  6.0  1.0   ⋅\n",
       " -8.0  5.0  3.0\n",
       "\n",
       "julia> C.L * C.U == A\n",
       "true\n",
       "\\end{verbatim}\n",
       "\\rule{\\textwidth}{1pt}\n",
       "\\begin{verbatim}\n",
       "cholesky(A, Val(true); tol = 0.0, check = true) -> CholeskyPivoted\n",
       "\\end{verbatim}\n",
       "Compute the pivoted Cholesky factorization of a dense symmetric positive semi-definite matrix \\texttt{A} and return a \\href{@ref}{\\texttt{CholeskyPivoted}} factorization. The matrix \\texttt{A} can either be a \\href{@ref}{\\texttt{Symmetric}} or \\href{@ref}{\\texttt{Hermitian}} \\href{@ref}{\\texttt{StridedMatrix}} or a \\emph{perfectly} symmetric or Hermitian \\texttt{StridedMatrix}. The triangular Cholesky factor can be obtained from the factorization \\texttt{F} with: \\texttt{F.L} and \\texttt{F.U}. The following functions are available for \\texttt{CholeskyPivoted} objects: \\href{@ref}{\\texttt{size}}, \\href{@ref}{\\texttt{{\\textbackslash}}}, \\href{@ref}{\\texttt{inv}}, \\href{@ref}{\\texttt{det}}, and \\href{@ref}{\\texttt{rank}}. The argument \\texttt{tol} determines the tolerance for determining the rank. For negative values, the tolerance is the machine precision.\n",
       "\n",
       "If you have a matrix \\texttt{A} that is slightly non-Hermitian due to roundoff errors in its construction, wrap it in \\texttt{Hermitian(A)} before passing it to \\texttt{cholesky} in order to treat it as perfectly Hermitian.\n",
       "\n",
       "When \\texttt{check = true}, an error is thrown if the decomposition fails. When \\texttt{check = false}, responsibility for checking the decomposition's validity (via \\href{@ref}{\\texttt{issuccess}}) lies with the user.\n",
       "\n",
       "\\rule{\\textwidth}{1pt}\n",
       "\\begin{verbatim}\n",
       "cholesky(A; shift = 0.0, check = true, perm = nothing) -> CHOLMOD.Factor\n",
       "\\end{verbatim}\n",
       "Compute the Cholesky factorization of a sparse positive definite matrix \\texttt{A}. \\texttt{A} must be a \\href{@ref}{\\texttt{SparseMatrixCSC}} or a \\href{@ref}{\\texttt{Symmetric}}/\\href{@ref}{\\texttt{Hermitian}} view of a \\texttt{SparseMatrixCSC}. Note that even if \\texttt{A} doesn't have the type tag, it must still be symmetric or Hermitian. If \\texttt{perm} is not given, a fill-reducing permutation is used. \\texttt{F = cholesky(A)} is most frequently used to solve systems of equations with \\texttt{F{\\textbackslash}b}, but also the methods \\href{@ref}{\\texttt{diag}}, \\href{@ref}{\\texttt{det}}, and \\href{@ref}{\\texttt{logdet}} are defined for \\texttt{F}. You can also extract individual factors from \\texttt{F}, using \\texttt{F.L}. However, since pivoting is on by default, the factorization is internally represented as \\texttt{A == P'*L*L'*P} with a permutation matrix \\texttt{P}; using just \\texttt{L} without accounting for \\texttt{P} will give incorrect answers. To include the effects of permutation, it's typically preferable to extract \"combined\" factors like \\texttt{PtL = F.PtL} (the equivalent of \\texttt{P'*L}) and \\texttt{LtP = F.UP} (the equivalent of \\texttt{L'*P}).\n",
       "\n",
       "When \\texttt{check = true}, an error is thrown if the decomposition fails. When \\texttt{check = false}, responsibility for checking the decomposition's validity (via \\href{@ref}{\\texttt{issuccess}}) lies with the user.\n",
       "\n",
       "Setting the optional \\texttt{shift} keyword argument computes the factorization of \\texttt{A+shift*I} instead of \\texttt{A}. If the \\texttt{perm} argument is provided, it should be a permutation of \\texttt{1:size(A,1)} giving the ordering to use (instead of CHOLMOD's default AMD ordering).\n",
       "\n",
       "\\section{Examples}\n",
       "In the following example, the fill-reducing permutation used is \\texttt{[3, 2, 1]}. If \\texttt{perm} is set to \\texttt{1:3} to enforce no permutation, the number of nonzero elements in the factor is 6.\n",
       "\n",
       "\\begin{verbatim}\n",
       "julia> A = [2 1 1; 1 2 0; 1 0 2]\n",
       "3×3 Array{Int64,2}:\n",
       " 2  1  1\n",
       " 1  2  0\n",
       " 1  0  2\n",
       "\n",
       "julia> C = cholesky(sparse(A))\n",
       "SuiteSparse.CHOLMOD.Factor{Float64}\n",
       "type:    LLt\n",
       "method:  simplicial\n",
       "maxnnz:  5\n",
       "nnz:     5\n",
       "success: true\n",
       "\n",
       "julia> C.p\n",
       "3-element Array{Int64,1}:\n",
       " 3\n",
       " 2\n",
       " 1\n",
       "\n",
       "julia> L = sparse(C.L);\n",
       "\n",
       "julia> Matrix(L)\n",
       "3×3 Array{Float64,2}:\n",
       " 1.41421   0.0       0.0\n",
       " 0.0       1.41421   0.0\n",
       " 0.707107  0.707107  1.0\n",
       "\n",
       "julia> L * L' ≈ A[C.p, C.p]\n",
       "true\n",
       "\n",
       "julia> P = sparse(1:3, C.p, ones(3))\n",
       "3×3 SparseMatrixCSC{Float64,Int64} with 3 stored entries:\n",
       "  [3, 1]  =  1.0\n",
       "  [2, 2]  =  1.0\n",
       "  [1, 3]  =  1.0\n",
       "\n",
       "julia> P' * L * L' * P ≈ A\n",
       "true\n",
       "\n",
       "julia> C = cholesky(sparse(A), perm=1:3)\n",
       "SuiteSparse.CHOLMOD.Factor{Float64}\n",
       "type:    LLt\n",
       "method:  simplicial\n",
       "maxnnz:  6\n",
       "nnz:     6\n",
       "success: true\n",
       "\n",
       "julia> L = sparse(C.L);\n",
       "\n",
       "julia> Matrix(L)\n",
       "3×3 Array{Float64,2}:\n",
       " 1.41421    0.0       0.0\n",
       " 0.707107   1.22474   0.0\n",
       " 0.707107  -0.408248  1.1547\n",
       "\n",
       "julia> L * L' ≈ A\n",
       "true\n",
       "\\end{verbatim}\n",
       "\\begin{quote}\n",
       "\\textbf{note}\n",
       "\n",
       "Note\n",
       "\n",
       "This method uses the CHOLMOD library from SuiteSparse, which only supports doubles or complex doubles. Input matrices not of those element types will be converted to \\texttt{SparseMatrixCSC\\{Float64\\}} or \\texttt{SparseMatrixCSC\\{ComplexF64\\}} as appropriate.\n",
       "\n",
       "Many other functions from CHOLMOD are wrapped but not exported from the \\texttt{Base.SparseArrays.CHOLMOD} module.\n",
       "\n",
       "\\end{quote}\n"
      ],
      "text/markdown": [
       "```\n",
       "cholesky(A, Val(false); check = true) -> Cholesky\n",
       "```\n",
       "\n",
       "Compute the Cholesky factorization of a dense symmetric positive definite matrix `A` and return a [`Cholesky`](@ref) factorization. The matrix `A` can either be a [`Symmetric`](@ref) or [`Hermitian`](@ref) [`StridedMatrix`](@ref) or a *perfectly* symmetric or Hermitian `StridedMatrix`. The triangular Cholesky factor can be obtained from the factorization `F` with: `F.L` and `F.U`. The following functions are available for `Cholesky` objects: [`size`](@ref), [`\\`](@ref), [`inv`](@ref), [`det`](@ref), [`logdet`](@ref) and [`isposdef`](@ref).\n",
       "\n",
       "If you have a matrix `A` that is slightly non-Hermitian due to roundoff errors in its construction, wrap it in `Hermitian(A)` before passing it to `cholesky` in order to treat it as perfectly Hermitian.\n",
       "\n",
       "When `check = true`, an error is thrown if the decomposition fails. When `check = false`, responsibility for checking the decomposition's validity (via [`issuccess`](@ref)) lies with the user.\n",
       "\n",
       "# Examples\n",
       "\n",
       "```jldoctest\n",
       "julia> A = [4. 12. -16.; 12. 37. -43.; -16. -43. 98.]\n",
       "3×3 Array{Float64,2}:\n",
       "   4.0   12.0  -16.0\n",
       "  12.0   37.0  -43.0\n",
       " -16.0  -43.0   98.0\n",
       "\n",
       "julia> C = cholesky(A)\n",
       "Cholesky{Float64,Array{Float64,2}}\n",
       "U factor:\n",
       "3×3 UpperTriangular{Float64,Array{Float64,2}}:\n",
       " 2.0  6.0  -8.0\n",
       "  ⋅   1.0   5.0\n",
       "  ⋅    ⋅    3.0\n",
       "\n",
       "julia> C.U\n",
       "3×3 UpperTriangular{Float64,Array{Float64,2}}:\n",
       " 2.0  6.0  -8.0\n",
       "  ⋅   1.0   5.0\n",
       "  ⋅    ⋅    3.0\n",
       "\n",
       "julia> C.L\n",
       "3×3 LowerTriangular{Float64,Array{Float64,2}}:\n",
       "  2.0   ⋅    ⋅\n",
       "  6.0  1.0   ⋅\n",
       " -8.0  5.0  3.0\n",
       "\n",
       "julia> C.L * C.U == A\n",
       "true\n",
       "```\n",
       "\n",
       "---\n",
       "\n",
       "```\n",
       "cholesky(A, Val(true); tol = 0.0, check = true) -> CholeskyPivoted\n",
       "```\n",
       "\n",
       "Compute the pivoted Cholesky factorization of a dense symmetric positive semi-definite matrix `A` and return a [`CholeskyPivoted`](@ref) factorization. The matrix `A` can either be a [`Symmetric`](@ref) or [`Hermitian`](@ref) [`StridedMatrix`](@ref) or a *perfectly* symmetric or Hermitian `StridedMatrix`. The triangular Cholesky factor can be obtained from the factorization `F` with: `F.L` and `F.U`. The following functions are available for `CholeskyPivoted` objects: [`size`](@ref), [`\\`](@ref), [`inv`](@ref), [`det`](@ref), and [`rank`](@ref). The argument `tol` determines the tolerance for determining the rank. For negative values, the tolerance is the machine precision.\n",
       "\n",
       "If you have a matrix `A` that is slightly non-Hermitian due to roundoff errors in its construction, wrap it in `Hermitian(A)` before passing it to `cholesky` in order to treat it as perfectly Hermitian.\n",
       "\n",
       "When `check = true`, an error is thrown if the decomposition fails. When `check = false`, responsibility for checking the decomposition's validity (via [`issuccess`](@ref)) lies with the user.\n",
       "\n",
       "---\n",
       "\n",
       "```\n",
       "cholesky(A; shift = 0.0, check = true, perm = nothing) -> CHOLMOD.Factor\n",
       "```\n",
       "\n",
       "Compute the Cholesky factorization of a sparse positive definite matrix `A`. `A` must be a [`SparseMatrixCSC`](@ref) or a [`Symmetric`](@ref)/[`Hermitian`](@ref) view of a `SparseMatrixCSC`. Note that even if `A` doesn't have the type tag, it must still be symmetric or Hermitian. If `perm` is not given, a fill-reducing permutation is used. `F = cholesky(A)` is most frequently used to solve systems of equations with `F\\b`, but also the methods [`diag`](@ref), [`det`](@ref), and [`logdet`](@ref) are defined for `F`. You can also extract individual factors from `F`, using `F.L`. However, since pivoting is on by default, the factorization is internally represented as `A == P'*L*L'*P` with a permutation matrix `P`; using just `L` without accounting for `P` will give incorrect answers. To include the effects of permutation, it's typically preferable to extract \"combined\" factors like `PtL = F.PtL` (the equivalent of `P'*L`) and `LtP = F.UP` (the equivalent of `L'*P`).\n",
       "\n",
       "When `check = true`, an error is thrown if the decomposition fails. When `check = false`, responsibility for checking the decomposition's validity (via [`issuccess`](@ref)) lies with the user.\n",
       "\n",
       "Setting the optional `shift` keyword argument computes the factorization of `A+shift*I` instead of `A`. If the `perm` argument is provided, it should be a permutation of `1:size(A,1)` giving the ordering to use (instead of CHOLMOD's default AMD ordering).\n",
       "\n",
       "# Examples\n",
       "\n",
       "In the following example, the fill-reducing permutation used is `[3, 2, 1]`. If `perm` is set to `1:3` to enforce no permutation, the number of nonzero elements in the factor is 6.\n",
       "\n",
       "```jldoctest\n",
       "julia> A = [2 1 1; 1 2 0; 1 0 2]\n",
       "3×3 Array{Int64,2}:\n",
       " 2  1  1\n",
       " 1  2  0\n",
       " 1  0  2\n",
       "\n",
       "julia> C = cholesky(sparse(A))\n",
       "SuiteSparse.CHOLMOD.Factor{Float64}\n",
       "type:    LLt\n",
       "method:  simplicial\n",
       "maxnnz:  5\n",
       "nnz:     5\n",
       "success: true\n",
       "\n",
       "julia> C.p\n",
       "3-element Array{Int64,1}:\n",
       " 3\n",
       " 2\n",
       " 1\n",
       "\n",
       "julia> L = sparse(C.L);\n",
       "\n",
       "julia> Matrix(L)\n",
       "3×3 Array{Float64,2}:\n",
       " 1.41421   0.0       0.0\n",
       " 0.0       1.41421   0.0\n",
       " 0.707107  0.707107  1.0\n",
       "\n",
       "julia> L * L' ≈ A[C.p, C.p]\n",
       "true\n",
       "\n",
       "julia> P = sparse(1:3, C.p, ones(3))\n",
       "3×3 SparseMatrixCSC{Float64,Int64} with 3 stored entries:\n",
       "  [3, 1]  =  1.0\n",
       "  [2, 2]  =  1.0\n",
       "  [1, 3]  =  1.0\n",
       "\n",
       "julia> P' * L * L' * P ≈ A\n",
       "true\n",
       "\n",
       "julia> C = cholesky(sparse(A), perm=1:3)\n",
       "SuiteSparse.CHOLMOD.Factor{Float64}\n",
       "type:    LLt\n",
       "method:  simplicial\n",
       "maxnnz:  6\n",
       "nnz:     6\n",
       "success: true\n",
       "\n",
       "julia> L = sparse(C.L);\n",
       "\n",
       "julia> Matrix(L)\n",
       "3×3 Array{Float64,2}:\n",
       " 1.41421    0.0       0.0\n",
       " 0.707107   1.22474   0.0\n",
       " 0.707107  -0.408248  1.1547\n",
       "\n",
       "julia> L * L' ≈ A\n",
       "true\n",
       "```\n",
       "\n",
       "!!! note\n",
       "    This method uses the CHOLMOD library from SuiteSparse, which only supports doubles or complex doubles. Input matrices not of those element types will be converted to `SparseMatrixCSC{Float64}` or `SparseMatrixCSC{ComplexF64}` as appropriate.\n",
       "\n",
       "    Many other functions from CHOLMOD are wrapped but not exported from the `Base.SparseArrays.CHOLMOD` module.\n",
       "\n"
      ],
      "text/plain": [
       "\u001b[36m  cholesky(A, Val(false); check = true) -> Cholesky\u001b[39m\n",
       "\n",
       "  Compute the Cholesky factorization of a dense symmetric positive definite\n",
       "  matrix \u001b[36mA\u001b[39m and return a \u001b[36mCholesky\u001b[39m factorization. The matrix \u001b[36mA\u001b[39m can either be a\n",
       "  \u001b[36mSymmetric\u001b[39m or \u001b[36mHermitian\u001b[39m \u001b[36mStridedMatrix\u001b[39m or a \u001b[4mperfectly\u001b[24m symmetric or Hermitian\n",
       "  \u001b[36mStridedMatrix\u001b[39m. The triangular Cholesky factor can be obtained from the\n",
       "  factorization \u001b[36mF\u001b[39m with: \u001b[36mF.L\u001b[39m and \u001b[36mF.U\u001b[39m. The following functions are available for\n",
       "  \u001b[36mCholesky\u001b[39m objects: \u001b[36msize\u001b[39m, \u001b[36m\\\u001b[39m, \u001b[36minv\u001b[39m, \u001b[36mdet\u001b[39m, \u001b[36mlogdet\u001b[39m and \u001b[36misposdef\u001b[39m.\n",
       "\n",
       "  If you have a matrix \u001b[36mA\u001b[39m that is slightly non-Hermitian due to roundoff errors\n",
       "  in its construction, wrap it in \u001b[36mHermitian(A)\u001b[39m before passing it to \u001b[36mcholesky\u001b[39m\n",
       "  in order to treat it as perfectly Hermitian.\n",
       "\n",
       "  When \u001b[36mcheck = true\u001b[39m, an error is thrown if the decomposition fails. When \u001b[36mcheck\n",
       "  = false\u001b[39m, responsibility for checking the decomposition's validity (via\n",
       "  \u001b[36missuccess\u001b[39m) lies with the user.\n",
       "\n",
       "\u001b[1m  Examples\u001b[22m\n",
       "\u001b[1m  ≡≡≡≡≡≡≡≡≡≡\u001b[22m\n",
       "\n",
       "\u001b[36m  julia> A = [4. 12. -16.; 12. 37. -43.; -16. -43. 98.]\u001b[39m\n",
       "\u001b[36m  3×3 Array{Float64,2}:\u001b[39m\n",
       "\u001b[36m     4.0   12.0  -16.0\u001b[39m\n",
       "\u001b[36m    12.0   37.0  -43.0\u001b[39m\n",
       "\u001b[36m   -16.0  -43.0   98.0\u001b[39m\n",
       "\u001b[36m  \u001b[39m\n",
       "\u001b[36m  julia> C = cholesky(A)\u001b[39m\n",
       "\u001b[36m  Cholesky{Float64,Array{Float64,2}}\u001b[39m\n",
       "\u001b[36m  U factor:\u001b[39m\n",
       "\u001b[36m  3×3 UpperTriangular{Float64,Array{Float64,2}}:\u001b[39m\n",
       "\u001b[36m   2.0  6.0  -8.0\u001b[39m\n",
       "\u001b[36m    ⋅   1.0   5.0\u001b[39m\n",
       "\u001b[36m    ⋅    ⋅    3.0\u001b[39m\n",
       "\u001b[36m  \u001b[39m\n",
       "\u001b[36m  julia> C.U\u001b[39m\n",
       "\u001b[36m  3×3 UpperTriangular{Float64,Array{Float64,2}}:\u001b[39m\n",
       "\u001b[36m   2.0  6.0  -8.0\u001b[39m\n",
       "\u001b[36m    ⋅   1.0   5.0\u001b[39m\n",
       "\u001b[36m    ⋅    ⋅    3.0\u001b[39m\n",
       "\u001b[36m  \u001b[39m\n",
       "\u001b[36m  julia> C.L\u001b[39m\n",
       "\u001b[36m  3×3 LowerTriangular{Float64,Array{Float64,2}}:\u001b[39m\n",
       "\u001b[36m    2.0   ⋅    ⋅\u001b[39m\n",
       "\u001b[36m    6.0  1.0   ⋅\u001b[39m\n",
       "\u001b[36m   -8.0  5.0  3.0\u001b[39m\n",
       "\u001b[36m  \u001b[39m\n",
       "\u001b[36m  julia> C.L * C.U == A\u001b[39m\n",
       "\u001b[36m  true\u001b[39m\n",
       "\n",
       "  ────────────────────────────────────────────────────────────────────────────\n",
       "\n",
       "\u001b[36m  cholesky(A, Val(true); tol = 0.0, check = true) -> CholeskyPivoted\u001b[39m\n",
       "\n",
       "  Compute the pivoted Cholesky factorization of a dense symmetric positive\n",
       "  semi-definite matrix \u001b[36mA\u001b[39m and return a \u001b[36mCholeskyPivoted\u001b[39m factorization. The\n",
       "  matrix \u001b[36mA\u001b[39m can either be a \u001b[36mSymmetric\u001b[39m or \u001b[36mHermitian\u001b[39m \u001b[36mStridedMatrix\u001b[39m or a \u001b[4mperfectly\u001b[24m\n",
       "  symmetric or Hermitian \u001b[36mStridedMatrix\u001b[39m. The triangular Cholesky factor can be\n",
       "  obtained from the factorization \u001b[36mF\u001b[39m with: \u001b[36mF.L\u001b[39m and \u001b[36mF.U\u001b[39m. The following functions\n",
       "  are available for \u001b[36mCholeskyPivoted\u001b[39m objects: \u001b[36msize\u001b[39m, \u001b[36m\\\u001b[39m, \u001b[36minv\u001b[39m, \u001b[36mdet\u001b[39m, and \u001b[36mrank\u001b[39m. The\n",
       "  argument \u001b[36mtol\u001b[39m determines the tolerance for determining the rank. For negative\n",
       "  values, the tolerance is the machine precision.\n",
       "\n",
       "  If you have a matrix \u001b[36mA\u001b[39m that is slightly non-Hermitian due to roundoff errors\n",
       "  in its construction, wrap it in \u001b[36mHermitian(A)\u001b[39m before passing it to \u001b[36mcholesky\u001b[39m\n",
       "  in order to treat it as perfectly Hermitian.\n",
       "\n",
       "  When \u001b[36mcheck = true\u001b[39m, an error is thrown if the decomposition fails. When \u001b[36mcheck\n",
       "  = false\u001b[39m, responsibility for checking the decomposition's validity (via\n",
       "  \u001b[36missuccess\u001b[39m) lies with the user.\n",
       "\n",
       "  ────────────────────────────────────────────────────────────────────────────\n",
       "\n",
       "\u001b[36m  cholesky(A; shift = 0.0, check = true, perm = nothing) -> CHOLMOD.Factor\u001b[39m\n",
       "\n",
       "  Compute the Cholesky factorization of a sparse positive definite matrix \u001b[36mA\u001b[39m. \u001b[36mA\u001b[39m\n",
       "  must be a \u001b[36mSparseMatrixCSC\u001b[39m or a \u001b[36mSymmetric\u001b[39m/\u001b[36mHermitian\u001b[39m view of a\n",
       "  \u001b[36mSparseMatrixCSC\u001b[39m. Note that even if \u001b[36mA\u001b[39m doesn't have the type tag, it must\n",
       "  still be symmetric or Hermitian. If \u001b[36mperm\u001b[39m is not given, a fill-reducing\n",
       "  permutation is used. \u001b[36mF = cholesky(A)\u001b[39m is most frequently used to solve\n",
       "  systems of equations with \u001b[36mF\\b\u001b[39m, but also the methods \u001b[36mdiag\u001b[39m, \u001b[36mdet\u001b[39m, and \u001b[36mlogdet\u001b[39m\n",
       "  are defined for \u001b[36mF\u001b[39m. You can also extract individual factors from \u001b[36mF\u001b[39m, using\n",
       "  \u001b[36mF.L\u001b[39m. However, since pivoting is on by default, the factorization is\n",
       "  internally represented as \u001b[36mA == P'*L*L'*P\u001b[39m with a permutation matrix \u001b[36mP\u001b[39m; using\n",
       "  just \u001b[36mL\u001b[39m without accounting for \u001b[36mP\u001b[39m will give incorrect answers. To include the\n",
       "  effects of permutation, it's typically preferable to extract \"combined\"\n",
       "  factors like \u001b[36mPtL = F.PtL\u001b[39m (the equivalent of \u001b[36mP'*L\u001b[39m) and \u001b[36mLtP = F.UP\u001b[39m (the\n",
       "  equivalent of \u001b[36mL'*P\u001b[39m).\n",
       "\n",
       "  When \u001b[36mcheck = true\u001b[39m, an error is thrown if the decomposition fails. When \u001b[36mcheck\n",
       "  = false\u001b[39m, responsibility for checking the decomposition's validity (via\n",
       "  \u001b[36missuccess\u001b[39m) lies with the user.\n",
       "\n",
       "  Setting the optional \u001b[36mshift\u001b[39m keyword argument computes the factorization of\n",
       "  \u001b[36mA+shift*I\u001b[39m instead of \u001b[36mA\u001b[39m. If the \u001b[36mperm\u001b[39m argument is provided, it should be a\n",
       "  permutation of \u001b[36m1:size(A,1)\u001b[39m giving the ordering to use (instead of CHOLMOD's\n",
       "  default AMD ordering).\n",
       "\n",
       "\u001b[1m  Examples\u001b[22m\n",
       "\u001b[1m  ≡≡≡≡≡≡≡≡≡≡\u001b[22m\n",
       "\n",
       "  In the following example, the fill-reducing permutation used is \u001b[36m[3, 2, 1]\u001b[39m.\n",
       "  If \u001b[36mperm\u001b[39m is set to \u001b[36m1:3\u001b[39m to enforce no permutation, the number of nonzero\n",
       "  elements in the factor is 6.\n",
       "\n",
       "\u001b[36m  julia> A = [2 1 1; 1 2 0; 1 0 2]\u001b[39m\n",
       "\u001b[36m  3×3 Array{Int64,2}:\u001b[39m\n",
       "\u001b[36m   2  1  1\u001b[39m\n",
       "\u001b[36m   1  2  0\u001b[39m\n",
       "\u001b[36m   1  0  2\u001b[39m\n",
       "\u001b[36m  \u001b[39m\n",
       "\u001b[36m  julia> C = cholesky(sparse(A))\u001b[39m\n",
       "\u001b[36m  SuiteSparse.CHOLMOD.Factor{Float64}\u001b[39m\n",
       "\u001b[36m  type:    LLt\u001b[39m\n",
       "\u001b[36m  method:  simplicial\u001b[39m\n",
       "\u001b[36m  maxnnz:  5\u001b[39m\n",
       "\u001b[36m  nnz:     5\u001b[39m\n",
       "\u001b[36m  success: true\u001b[39m\n",
       "\u001b[36m  \u001b[39m\n",
       "\u001b[36m  julia> C.p\u001b[39m\n",
       "\u001b[36m  3-element Array{Int64,1}:\u001b[39m\n",
       "\u001b[36m   3\u001b[39m\n",
       "\u001b[36m   2\u001b[39m\n",
       "\u001b[36m   1\u001b[39m\n",
       "\u001b[36m  \u001b[39m\n",
       "\u001b[36m  julia> L = sparse(C.L);\u001b[39m\n",
       "\u001b[36m  \u001b[39m\n",
       "\u001b[36m  julia> Matrix(L)\u001b[39m\n",
       "\u001b[36m  3×3 Array{Float64,2}:\u001b[39m\n",
       "\u001b[36m   1.41421   0.0       0.0\u001b[39m\n",
       "\u001b[36m   0.0       1.41421   0.0\u001b[39m\n",
       "\u001b[36m   0.707107  0.707107  1.0\u001b[39m\n",
       "\u001b[36m  \u001b[39m\n",
       "\u001b[36m  julia> L * L' ≈ A[C.p, C.p]\u001b[39m\n",
       "\u001b[36m  true\u001b[39m\n",
       "\u001b[36m  \u001b[39m\n",
       "\u001b[36m  julia> P = sparse(1:3, C.p, ones(3))\u001b[39m\n",
       "\u001b[36m  3×3 SparseMatrixCSC{Float64,Int64} with 3 stored entries:\u001b[39m\n",
       "\u001b[36m    [3, 1]  =  1.0\u001b[39m\n",
       "\u001b[36m    [2, 2]  =  1.0\u001b[39m\n",
       "\u001b[36m    [1, 3]  =  1.0\u001b[39m\n",
       "\u001b[36m  \u001b[39m\n",
       "\u001b[36m  julia> P' * L * L' * P ≈ A\u001b[39m\n",
       "\u001b[36m  true\u001b[39m\n",
       "\u001b[36m  \u001b[39m\n",
       "\u001b[36m  julia> C = cholesky(sparse(A), perm=1:3)\u001b[39m\n",
       "\u001b[36m  SuiteSparse.CHOLMOD.Factor{Float64}\u001b[39m\n",
       "\u001b[36m  type:    LLt\u001b[39m\n",
       "\u001b[36m  method:  simplicial\u001b[39m\n",
       "\u001b[36m  maxnnz:  6\u001b[39m\n",
       "\u001b[36m  nnz:     6\u001b[39m\n",
       "\u001b[36m  success: true\u001b[39m\n",
       "\u001b[36m  \u001b[39m\n",
       "\u001b[36m  julia> L = sparse(C.L);\u001b[39m\n",
       "\u001b[36m  \u001b[39m\n",
       "\u001b[36m  julia> Matrix(L)\u001b[39m\n",
       "\u001b[36m  3×3 Array{Float64,2}:\u001b[39m\n",
       "\u001b[36m   1.41421    0.0       0.0\u001b[39m\n",
       "\u001b[36m   0.707107   1.22474   0.0\u001b[39m\n",
       "\u001b[36m   0.707107  -0.408248  1.1547\u001b[39m\n",
       "\u001b[36m  \u001b[39m\n",
       "\u001b[36m  julia> L * L' ≈ A\u001b[39m\n",
       "\u001b[36m  true\u001b[39m\n",
       "\n",
       "\u001b[36m\u001b[1m  │ \u001b[22m\u001b[39m\u001b[36m\u001b[1mNote\u001b[22m\u001b[39m\n",
       "\u001b[36m\u001b[1m  │\u001b[22m\u001b[39m\n",
       "\u001b[36m\u001b[1m  │\u001b[22m\u001b[39m  This method uses the CHOLMOD library from SuiteSparse, which only\n",
       "\u001b[36m\u001b[1m  │\u001b[22m\u001b[39m  supports doubles or complex doubles. Input matrices not of those\n",
       "\u001b[36m\u001b[1m  │\u001b[22m\u001b[39m  element types will be converted to \u001b[36mSparseMatrixCSC{Float64}\u001b[39m or\n",
       "\u001b[36m\u001b[1m  │\u001b[22m\u001b[39m  \u001b[36mSparseMatrixCSC{ComplexF64}\u001b[39m as appropriate.\n",
       "\u001b[36m\u001b[1m  │\u001b[22m\u001b[39m\n",
       "\u001b[36m\u001b[1m  │\u001b[22m\u001b[39m  Many other functions from CHOLMOD are wrapped but not exported\n",
       "\u001b[36m\u001b[1m  │\u001b[22m\u001b[39m  from the \u001b[36mBase.SparseArrays.CHOLMOD\u001b[39m module."
      ]
     },
     "execution_count": 39,
     "metadata": {},
     "output_type": "execute_result"
    }
   ],
   "source": [
    "?cholesky"
   ]
  },
  {
   "cell_type": "code",
   "execution_count": 41,
   "metadata": {},
   "outputs": [
    {
     "data": {
      "text/plain": [
       "Cholesky{Float64,Array{Float64,2}}\n",
       "U factor:\n",
       "3×3 UpperTriangular{Float64,Array{Float64,2}}:\n",
       " 1.40633  0.00692257  0.655589\n",
       "  ⋅       1.21145     0.0248931\n",
       "  ⋅        ⋅          1.02526"
      ]
     },
     "execution_count": 41,
     "metadata": {},
     "output_type": "execute_result"
    }
   ],
   "source": [
    "F = cholesky(A)"
   ]
  },
  {
   "cell_type": "code",
   "execution_count": 42,
   "metadata": {},
   "outputs": [
    {
     "data": {
      "text/plain": [
       "3×3 UpperTriangular{Float64,Array{Float64,2}}:\n",
       " 1.40633  0.00692257  0.655589\n",
       "  ⋅       1.21145     0.0248931\n",
       "  ⋅        ⋅          1.02526"
      ]
     },
     "execution_count": 42,
     "metadata": {},
     "output_type": "execute_result"
    }
   ],
   "source": [
    "R = F.U"
   ]
  },
  {
   "cell_type": "code",
   "execution_count": 43,
   "metadata": {},
   "outputs": [
    {
     "data": {
      "text/plain": [
       "3×3 Array{Float64,2}:\n",
       " 1.97775    0.0097354  0.921972\n",
       " 0.0097354  1.46766    0.0346951\n",
       " 0.921972   0.0346951  1.48157"
      ]
     },
     "execution_count": 43,
     "metadata": {},
     "output_type": "execute_result"
    }
   ],
   "source": [
    "R'*R"
   ]
  },
  {
   "cell_type": "code",
   "execution_count": 44,
   "metadata": {},
   "outputs": [
    {
     "data": {
      "text/plain": [
       "3×3 Symmetric{Float64,Array{Float64,2}}:\n",
       " 1.97775    0.0097354  0.921972\n",
       " 0.0097354  1.46766    0.0346951\n",
       " 0.921972   0.0346951  1.48157"
      ]
     },
     "execution_count": 44,
     "metadata": {},
     "output_type": "execute_result"
    }
   ],
   "source": [
    "A"
   ]
  },
  {
   "cell_type": "code",
   "execution_count": 45,
   "metadata": {},
   "outputs": [
    {
     "data": {
      "text/plain": [
       "3×3 Array{Float64,2}:\n",
       " 2.22045e-16  0.0  1.11022e-16\n",
       " 0.0          0.0  0.0\n",
       " 1.11022e-16  0.0  2.22045e-16"
      ]
     },
     "execution_count": 45,
     "metadata": {},
     "output_type": "execute_result"
    }
   ],
   "source": [
    "R'R - A"
   ]
  },
  {
   "cell_type": "markdown",
   "metadata": {},
   "source": [
    "---"
   ]
  },
  {
   "cell_type": "markdown",
   "metadata": {},
   "source": [
    "# QR"
   ]
  },
  {
   "cell_type": "code",
   "execution_count": 46,
   "metadata": {},
   "outputs": [
    {
     "data": {
      "text/plain": [
       "5×3 Array{Float64,2}:\n",
       " 0.650341   0.478053    0.905751\n",
       " 0.0423931  0.864138    0.15344\n",
       " 0.68511    0.689255    0.815647\n",
       " 0.417137   0.00815743  0.823906\n",
       " 0.512861   0.471553    0.378009"
      ]
     },
     "execution_count": 46,
     "metadata": {},
     "output_type": "execute_result"
    }
   ],
   "source": [
    "A = rand(5, 3)"
   ]
  },
  {
   "cell_type": "code",
   "execution_count": 47,
   "metadata": {},
   "outputs": [
    {
     "name": "stdout",
     "output_type": "stream",
     "text": [
      "search: \u001b[0m\u001b[1mq\u001b[22m\u001b[0m\u001b[1mr\u001b[22m \u001b[0m\u001b[1mq\u001b[22m\u001b[0m\u001b[1mr\u001b[22m! \u001b[0m\u001b[1mQ\u001b[22m\u001b[0m\u001b[1mR\u001b[22m \u001b[0m\u001b[1mQ\u001b[22m\u001b[0m\u001b[1mR\u001b[22mPivoted s\u001b[0m\u001b[1mq\u001b[22m\u001b[0m\u001b[1mr\u001b[22mt is\u001b[0m\u001b[1mq\u001b[22m\u001b[0m\u001b[1mr\u001b[22mt \u001b[0m\u001b[1mQ\u001b[22muickSo\u001b[0m\u001b[1mr\u001b[22mt Partial\u001b[0m\u001b[1mQ\u001b[22muickSo\u001b[0m\u001b[1mr\u001b[22mt\n",
      "\n"
     ]
    },
    {
     "data": {
      "text/latex": [
       "\\begin{verbatim}\n",
       "qr(A, pivot=Val(false); blocksize) -> F\n",
       "\\end{verbatim}\n",
       "Compute the QR factorization of the matrix \\texttt{A}: an orthogonal (or unitary if \\texttt{A} is complex-valued) matrix \\texttt{Q}, and an upper triangular matrix \\texttt{R} such that\n",
       "\n",
       "$$A = Q R$$\n",
       "The returned object \\texttt{F} stores the factorization in a packed format:\n",
       "\n",
       "\\begin{itemize}\n",
       "\\item if \\texttt{pivot == Val(true)} then \\texttt{F} is a \\href{@ref}{\\texttt{QRPivoted}} object,\n",
       "\n",
       "\n",
       "\\item otherwise if the element type of \\texttt{A} is a BLAS type (\\href{@ref}{\\texttt{Float32}}, \\href{@ref}{\\texttt{Float64}}, \\texttt{ComplexF32} or \\texttt{ComplexF64}), then \\texttt{F} is a \\href{@ref}{\\texttt{QRCompactWY}} object,\n",
       "\n",
       "\n",
       "\\item otherwise \\texttt{F} is a \\href{@ref}{\\texttt{QR}} object.\n",
       "\n",
       "\\end{itemize}\n",
       "The individual components of the decomposition \\texttt{F} can be retrieved via property accessors:\n",
       "\n",
       "\\begin{itemize}\n",
       "\\item \\texttt{F.Q}: the orthogonal/unitary matrix \\texttt{Q}\n",
       "\n",
       "\n",
       "\\item \\texttt{F.R}: the upper triangular matrix \\texttt{R}\n",
       "\n",
       "\n",
       "\\item \\texttt{F.p}: the permutation vector of the pivot (\\href{@ref}{\\texttt{QRPivoted}} only)\n",
       "\n",
       "\n",
       "\\item \\texttt{F.P}: the permutation matrix of the pivot (\\href{@ref}{\\texttt{QRPivoted}} only)\n",
       "\n",
       "\\end{itemize}\n",
       "Iterating the decomposition produces the components \\texttt{Q}, \\texttt{R}, and if extant \\texttt{p}.\n",
       "\n",
       "The following functions are available for the \\texttt{QR} objects: \\href{@ref}{\\texttt{inv}}, \\href{@ref}{\\texttt{size}}, and \\href{@ref}{\\texttt{{\\textbackslash}}}. When \\texttt{A} is rectangular, \\texttt{{\\textbackslash}} will return a least squares solution and if the solution is not unique, the one with smallest norm is returned. When \\texttt{A} is not full rank, factorization with (column) pivoting is required to obtain a minimum norm solution.\n",
       "\n",
       "Multiplication with respect to either full/square or non-full/square \\texttt{Q} is allowed, i.e. both \\texttt{F.Q*F.R} and \\texttt{F.Q*A} are supported. A \\texttt{Q} matrix can be converted into a regular matrix with \\href{@ref}{\\texttt{Matrix}}.  This operation returns the \"thin\" Q factor, i.e., if \\texttt{A} is \\texttt{m}×\\texttt{n} with \\texttt{m>=n}, then \\texttt{Matrix(F.Q)} yields an \\texttt{m}×\\texttt{n} matrix with orthonormal columns.  To retrieve the \"full\" Q factor, an \\texttt{m}×\\texttt{m} orthogonal matrix, use \\texttt{F.Q*Matrix(I,m,m)}.  If \\texttt{m<=n}, then \\texttt{Matrix(F.Q)} yields an \\texttt{m}×\\texttt{m} orthogonal matrix.\n",
       "\n",
       "The block size for QR decomposition can be specified by keyword argument \\texttt{blocksize :: Integer} when \\texttt{pivot == Val(false)} and \\texttt{A isa StridedMatrix\\{<:BlasFloat\\}}. It is ignored when \\texttt{blocksize > minimum(size(A))}.  See \\href{@ref}{\\texttt{QRCompactWY}}.\n",
       "\n",
       "\\begin{quote}\n",
       "\\textbf{compat}\n",
       "\n",
       "Julia 1.4\n",
       "\n",
       "The \\texttt{blocksize} keyword argument requires Julia 1.4 or later.\n",
       "\n",
       "\\end{quote}\n",
       "\\section{Examples}\n",
       "\\begin{verbatim}\n",
       "julia> A = [3.0 -6.0; 4.0 -8.0; 0.0 1.0]\n",
       "3×2 Array{Float64,2}:\n",
       " 3.0  -6.0\n",
       " 4.0  -8.0\n",
       " 0.0   1.0\n",
       "\n",
       "julia> F = qr(A)\n",
       "LinearAlgebra.QRCompactWY{Float64,Array{Float64,2}}\n",
       "Q factor:\n",
       "3×3 LinearAlgebra.QRCompactWYQ{Float64,Array{Float64,2}}:\n",
       " -0.6   0.0   0.8\n",
       " -0.8   0.0  -0.6\n",
       "  0.0  -1.0   0.0\n",
       "R factor:\n",
       "2×2 Array{Float64,2}:\n",
       " -5.0  10.0\n",
       "  0.0  -1.0\n",
       "\n",
       "julia> F.Q * F.R == A\n",
       "true\n",
       "\\end{verbatim}\n",
       "\\begin{quote}\n",
       "\\textbf{note}\n",
       "\n",
       "Note\n",
       "\n",
       "\\texttt{qr} returns multiple types because LAPACK uses several representations that minimize the memory storage requirements of products of Householder elementary reflectors, so that the \\texttt{Q} and \\texttt{R} matrices can be stored compactly rather as two separate dense matrices.\n",
       "\n",
       "\\end{quote}\n",
       "\\rule{\\textwidth}{1pt}\n",
       "\\begin{verbatim}\n",
       "qr(A) -> QRSparse\n",
       "\\end{verbatim}\n",
       "Compute the \\texttt{QR} factorization of a sparse matrix \\texttt{A}. Fill-reducing row and column permutations are used such that \\texttt{F.R = F.Q'*A[F.prow,F.pcol]}. The main application of this type is to solve least squares or underdetermined problems with \\href{@ref}{\\texttt{{\\textbackslash}}}. The function calls the C library SPQR.\n",
       "\n",
       "\\begin{quote}\n",
       "\\textbf{note}\n",
       "\n",
       "Note\n",
       "\n",
       "\\texttt{qr(A::SparseMatrixCSC)} uses the SPQR library that is part of SuiteSparse. As this library only supports sparse matrices with \\href{@ref}{\\texttt{Float64}} or \\texttt{ComplexF64} elements, as of Julia v1.4 \\texttt{qr} converts \\texttt{A} into a copy that is of type \\texttt{SparseMatrixCSC\\{Float64\\}} or \\texttt{SparseMatrixCSC\\{ComplexF64\\}} as appropriate.\n",
       "\n",
       "\\end{quote}\n",
       "\\section{Examples}\n",
       "\\begin{verbatim}\n",
       "julia> A = sparse([1,2,3,4], [1,1,2,2], [1.0,1.0,1.0,1.0])\n",
       "4×2 SparseMatrixCSC{Float64,Int64} with 4 stored entries:\n",
       "  [1, 1]  =  1.0\n",
       "  [2, 1]  =  1.0\n",
       "  [3, 2]  =  1.0\n",
       "  [4, 2]  =  1.0\n",
       "\n",
       "julia> qr(A)\n",
       "Base.SparseArrays.SPQR.QRSparse{Float64,Int64}\n",
       "Q factor:\n",
       "4×4 Base.SparseArrays.SPQR.QRSparseQ{Float64,Int64}:\n",
       " -0.707107   0.0        0.0       -0.707107\n",
       "  0.0       -0.707107  -0.707107   0.0\n",
       "  0.0       -0.707107   0.707107   0.0\n",
       " -0.707107   0.0        0.0        0.707107\n",
       "R factor:\n",
       "2×2 SparseMatrixCSC{Float64,Int64} with 2 stored entries:\n",
       "  [1, 1]  =  -1.41421\n",
       "  [2, 2]  =  -1.41421\n",
       "Row permutation:\n",
       "4-element Array{Int64,1}:\n",
       " 1\n",
       " 3\n",
       " 4\n",
       " 2\n",
       "Column permutation:\n",
       "2-element Array{Int64,1}:\n",
       " 1\n",
       " 2\n",
       "\\end{verbatim}\n"
      ],
      "text/markdown": [
       "```\n",
       "qr(A, pivot=Val(false); blocksize) -> F\n",
       "```\n",
       "\n",
       "Compute the QR factorization of the matrix `A`: an orthogonal (or unitary if `A` is complex-valued) matrix `Q`, and an upper triangular matrix `R` such that\n",
       "\n",
       "$$\n",
       "A = Q R\n",
       "$$\n",
       "\n",
       "The returned object `F` stores the factorization in a packed format:\n",
       "\n",
       "  * if `pivot == Val(true)` then `F` is a [`QRPivoted`](@ref) object,\n",
       "  * otherwise if the element type of `A` is a BLAS type ([`Float32`](@ref), [`Float64`](@ref), `ComplexF32` or `ComplexF64`), then `F` is a [`QRCompactWY`](@ref) object,\n",
       "  * otherwise `F` is a [`QR`](@ref) object.\n",
       "\n",
       "The individual components of the decomposition `F` can be retrieved via property accessors:\n",
       "\n",
       "  * `F.Q`: the orthogonal/unitary matrix `Q`\n",
       "  * `F.R`: the upper triangular matrix `R`\n",
       "  * `F.p`: the permutation vector of the pivot ([`QRPivoted`](@ref) only)\n",
       "  * `F.P`: the permutation matrix of the pivot ([`QRPivoted`](@ref) only)\n",
       "\n",
       "Iterating the decomposition produces the components `Q`, `R`, and if extant `p`.\n",
       "\n",
       "The following functions are available for the `QR` objects: [`inv`](@ref), [`size`](@ref), and [`\\`](@ref). When `A` is rectangular, `\\` will return a least squares solution and if the solution is not unique, the one with smallest norm is returned. When `A` is not full rank, factorization with (column) pivoting is required to obtain a minimum norm solution.\n",
       "\n",
       "Multiplication with respect to either full/square or non-full/square `Q` is allowed, i.e. both `F.Q*F.R` and `F.Q*A` are supported. A `Q` matrix can be converted into a regular matrix with [`Matrix`](@ref).  This operation returns the \"thin\" Q factor, i.e., if `A` is `m`×`n` with `m>=n`, then `Matrix(F.Q)` yields an `m`×`n` matrix with orthonormal columns.  To retrieve the \"full\" Q factor, an `m`×`m` orthogonal matrix, use `F.Q*Matrix(I,m,m)`.  If `m<=n`, then `Matrix(F.Q)` yields an `m`×`m` orthogonal matrix.\n",
       "\n",
       "The block size for QR decomposition can be specified by keyword argument `blocksize :: Integer` when `pivot == Val(false)` and `A isa StridedMatrix{<:BlasFloat}`. It is ignored when `blocksize > minimum(size(A))`.  See [`QRCompactWY`](@ref).\n",
       "\n",
       "!!! compat \"Julia 1.4\"\n",
       "    The `blocksize` keyword argument requires Julia 1.4 or later.\n",
       "\n",
       "\n",
       "# Examples\n",
       "\n",
       "```jldoctest\n",
       "julia> A = [3.0 -6.0; 4.0 -8.0; 0.0 1.0]\n",
       "3×2 Array{Float64,2}:\n",
       " 3.0  -6.0\n",
       " 4.0  -8.0\n",
       " 0.0   1.0\n",
       "\n",
       "julia> F = qr(A)\n",
       "LinearAlgebra.QRCompactWY{Float64,Array{Float64,2}}\n",
       "Q factor:\n",
       "3×3 LinearAlgebra.QRCompactWYQ{Float64,Array{Float64,2}}:\n",
       " -0.6   0.0   0.8\n",
       " -0.8   0.0  -0.6\n",
       "  0.0  -1.0   0.0\n",
       "R factor:\n",
       "2×2 Array{Float64,2}:\n",
       " -5.0  10.0\n",
       "  0.0  -1.0\n",
       "\n",
       "julia> F.Q * F.R == A\n",
       "true\n",
       "```\n",
       "\n",
       "!!! note\n",
       "    `qr` returns multiple types because LAPACK uses several representations that minimize the memory storage requirements of products of Householder elementary reflectors, so that the `Q` and `R` matrices can be stored compactly rather as two separate dense matrices.\n",
       "\n",
       "\n",
       "---\n",
       "\n",
       "```\n",
       "qr(A) -> QRSparse\n",
       "```\n",
       "\n",
       "Compute the `QR` factorization of a sparse matrix `A`. Fill-reducing row and column permutations are used such that `F.R = F.Q'*A[F.prow,F.pcol]`. The main application of this type is to solve least squares or underdetermined problems with [`\\`](@ref). The function calls the C library SPQR.\n",
       "\n",
       "!!! note\n",
       "    `qr(A::SparseMatrixCSC)` uses the SPQR library that is part of SuiteSparse. As this library only supports sparse matrices with [`Float64`](@ref) or `ComplexF64` elements, as of Julia v1.4 `qr` converts `A` into a copy that is of type `SparseMatrixCSC{Float64}` or `SparseMatrixCSC{ComplexF64}` as appropriate.\n",
       "\n",
       "\n",
       "# Examples\n",
       "\n",
       "```jldoctest\n",
       "julia> A = sparse([1,2,3,4], [1,1,2,2], [1.0,1.0,1.0,1.0])\n",
       "4×2 SparseMatrixCSC{Float64,Int64} with 4 stored entries:\n",
       "  [1, 1]  =  1.0\n",
       "  [2, 1]  =  1.0\n",
       "  [3, 2]  =  1.0\n",
       "  [4, 2]  =  1.0\n",
       "\n",
       "julia> qr(A)\n",
       "Base.SparseArrays.SPQR.QRSparse{Float64,Int64}\n",
       "Q factor:\n",
       "4×4 Base.SparseArrays.SPQR.QRSparseQ{Float64,Int64}:\n",
       " -0.707107   0.0        0.0       -0.707107\n",
       "  0.0       -0.707107  -0.707107   0.0\n",
       "  0.0       -0.707107   0.707107   0.0\n",
       " -0.707107   0.0        0.0        0.707107\n",
       "R factor:\n",
       "2×2 SparseMatrixCSC{Float64,Int64} with 2 stored entries:\n",
       "  [1, 1]  =  -1.41421\n",
       "  [2, 2]  =  -1.41421\n",
       "Row permutation:\n",
       "4-element Array{Int64,1}:\n",
       " 1\n",
       " 3\n",
       " 4\n",
       " 2\n",
       "Column permutation:\n",
       "2-element Array{Int64,1}:\n",
       " 1\n",
       " 2\n",
       "```\n"
      ],
      "text/plain": [
       "\u001b[36m  qr(A, pivot=Val(false); blocksize) -> F\u001b[39m\n",
       "\n",
       "  Compute the QR factorization of the matrix \u001b[36mA\u001b[39m: an orthogonal (or unitary if \u001b[36mA\u001b[39m\n",
       "  is complex-valued) matrix \u001b[36mQ\u001b[39m, and an upper triangular matrix \u001b[36mR\u001b[39m such that\n",
       "\n",
       "\u001b[35m  A = Q R\u001b[39m\n",
       "\n",
       "  The returned object \u001b[36mF\u001b[39m stores the factorization in a packed format:\n",
       "\n",
       "    •    if \u001b[36mpivot == Val(true)\u001b[39m then \u001b[36mF\u001b[39m is a \u001b[36mQRPivoted\u001b[39m object,\n",
       "\n",
       "    •    otherwise if the element type of \u001b[36mA\u001b[39m is a BLAS type (\u001b[36mFloat32\u001b[39m,\n",
       "        \u001b[36mFloat64\u001b[39m, \u001b[36mComplexF32\u001b[39m or \u001b[36mComplexF64\u001b[39m), then \u001b[36mF\u001b[39m is a \u001b[36mQRCompactWY\u001b[39m\n",
       "        object,\n",
       "\n",
       "    •    otherwise \u001b[36mF\u001b[39m is a \u001b[36mQR\u001b[39m object.\n",
       "\n",
       "  The individual components of the decomposition \u001b[36mF\u001b[39m can be retrieved via\n",
       "  property accessors:\n",
       "\n",
       "    •    \u001b[36mF.Q\u001b[39m: the orthogonal/unitary matrix \u001b[36mQ\u001b[39m\n",
       "\n",
       "    •    \u001b[36mF.R\u001b[39m: the upper triangular matrix \u001b[36mR\u001b[39m\n",
       "\n",
       "    •    \u001b[36mF.p\u001b[39m: the permutation vector of the pivot (\u001b[36mQRPivoted\u001b[39m only)\n",
       "\n",
       "    •    \u001b[36mF.P\u001b[39m: the permutation matrix of the pivot (\u001b[36mQRPivoted\u001b[39m only)\n",
       "\n",
       "  Iterating the decomposition produces the components \u001b[36mQ\u001b[39m, \u001b[36mR\u001b[39m, and if extant \u001b[36mp\u001b[39m.\n",
       "\n",
       "  The following functions are available for the \u001b[36mQR\u001b[39m objects: \u001b[36minv\u001b[39m, \u001b[36msize\u001b[39m, and \u001b[36m\\\u001b[39m.\n",
       "  When \u001b[36mA\u001b[39m is rectangular, \u001b[36m\\\u001b[39m will return a least squares solution and if the\n",
       "  solution is not unique, the one with smallest norm is returned. When \u001b[36mA\u001b[39m is\n",
       "  not full rank, factorization with (column) pivoting is required to obtain a\n",
       "  minimum norm solution.\n",
       "\n",
       "  Multiplication with respect to either full/square or non-full/square \u001b[36mQ\u001b[39m is\n",
       "  allowed, i.e. both \u001b[36mF.Q*F.R\u001b[39m and \u001b[36mF.Q*A\u001b[39m are supported. A \u001b[36mQ\u001b[39m matrix can be\n",
       "  converted into a regular matrix with \u001b[36mMatrix\u001b[39m. This operation returns the\n",
       "  \"thin\" Q factor, i.e., if \u001b[36mA\u001b[39m is \u001b[36mm\u001b[39m×\u001b[36mn\u001b[39m with \u001b[36mm>=n\u001b[39m, then \u001b[36mMatrix(F.Q)\u001b[39m yields an \u001b[36mm\u001b[39m×\u001b[36mn\u001b[39m\n",
       "  matrix with orthonormal columns. To retrieve the \"full\" Q factor, an \u001b[36mm\u001b[39m×\u001b[36mm\u001b[39m\n",
       "  orthogonal matrix, use \u001b[36mF.Q*Matrix(I,m,m)\u001b[39m. If \u001b[36mm<=n\u001b[39m, then \u001b[36mMatrix(F.Q)\u001b[39m yields\n",
       "  an \u001b[36mm\u001b[39m×\u001b[36mm\u001b[39m orthogonal matrix.\n",
       "\n",
       "  The block size for QR decomposition can be specified by keyword argument\n",
       "  \u001b[36mblocksize :: Integer\u001b[39m when \u001b[36mpivot == Val(false)\u001b[39m and \u001b[36mA isa\n",
       "  StridedMatrix{<:BlasFloat}\u001b[39m. It is ignored when \u001b[36mblocksize > minimum(size(A))\u001b[39m.\n",
       "  See \u001b[36mQRCompactWY\u001b[39m.\n",
       "\n",
       "\u001b[39m\u001b[1m  │ \u001b[22m\u001b[39m\u001b[1mJulia 1.4\u001b[22m\n",
       "\u001b[39m\u001b[1m  │\u001b[22m\n",
       "\u001b[39m\u001b[1m  │\u001b[22m  The \u001b[36mblocksize\u001b[39m keyword argument requires Julia 1.4 or later.\n",
       "\n",
       "\u001b[1m  Examples\u001b[22m\n",
       "\u001b[1m  ≡≡≡≡≡≡≡≡≡≡\u001b[22m\n",
       "\n",
       "\u001b[36m  julia> A = [3.0 -6.0; 4.0 -8.0; 0.0 1.0]\u001b[39m\n",
       "\u001b[36m  3×2 Array{Float64,2}:\u001b[39m\n",
       "\u001b[36m   3.0  -6.0\u001b[39m\n",
       "\u001b[36m   4.0  -8.0\u001b[39m\n",
       "\u001b[36m   0.0   1.0\u001b[39m\n",
       "\u001b[36m  \u001b[39m\n",
       "\u001b[36m  julia> F = qr(A)\u001b[39m\n",
       "\u001b[36m  LinearAlgebra.QRCompactWY{Float64,Array{Float64,2}}\u001b[39m\n",
       "\u001b[36m  Q factor:\u001b[39m\n",
       "\u001b[36m  3×3 LinearAlgebra.QRCompactWYQ{Float64,Array{Float64,2}}:\u001b[39m\n",
       "\u001b[36m   -0.6   0.0   0.8\u001b[39m\n",
       "\u001b[36m   -0.8   0.0  -0.6\u001b[39m\n",
       "\u001b[36m    0.0  -1.0   0.0\u001b[39m\n",
       "\u001b[36m  R factor:\u001b[39m\n",
       "\u001b[36m  2×2 Array{Float64,2}:\u001b[39m\n",
       "\u001b[36m   -5.0  10.0\u001b[39m\n",
       "\u001b[36m    0.0  -1.0\u001b[39m\n",
       "\u001b[36m  \u001b[39m\n",
       "\u001b[36m  julia> F.Q * F.R == A\u001b[39m\n",
       "\u001b[36m  true\u001b[39m\n",
       "\n",
       "\u001b[36m\u001b[1m  │ \u001b[22m\u001b[39m\u001b[36m\u001b[1mNote\u001b[22m\u001b[39m\n",
       "\u001b[36m\u001b[1m  │\u001b[22m\u001b[39m\n",
       "\u001b[36m\u001b[1m  │\u001b[22m\u001b[39m  \u001b[36mqr\u001b[39m returns multiple types because LAPACK uses several\n",
       "\u001b[36m\u001b[1m  │\u001b[22m\u001b[39m  representations that minimize the memory storage requirements of\n",
       "\u001b[36m\u001b[1m  │\u001b[22m\u001b[39m  products of Householder elementary reflectors, so that the \u001b[36mQ\u001b[39m and \u001b[36mR\u001b[39m\n",
       "\u001b[36m\u001b[1m  │\u001b[22m\u001b[39m  matrices can be stored compactly rather as two separate dense\n",
       "\u001b[36m\u001b[1m  │\u001b[22m\u001b[39m  matrices.\n",
       "\n",
       "  ────────────────────────────────────────────────────────────────────────────\n",
       "\n",
       "\u001b[36m  qr(A) -> QRSparse\u001b[39m\n",
       "\n",
       "  Compute the \u001b[36mQR\u001b[39m factorization of a sparse matrix \u001b[36mA\u001b[39m. Fill-reducing row and\n",
       "  column permutations are used such that \u001b[36mF.R = F.Q'*A[F.prow,F.pcol]\u001b[39m. The main\n",
       "  application of this type is to solve least squares or underdetermined\n",
       "  problems with \u001b[36m\\\u001b[39m. The function calls the C library SPQR.\n",
       "\n",
       "\u001b[36m\u001b[1m  │ \u001b[22m\u001b[39m\u001b[36m\u001b[1mNote\u001b[22m\u001b[39m\n",
       "\u001b[36m\u001b[1m  │\u001b[22m\u001b[39m\n",
       "\u001b[36m\u001b[1m  │\u001b[22m\u001b[39m  \u001b[36mqr(A::SparseMatrixCSC)\u001b[39m uses the SPQR library that is part of\n",
       "\u001b[36m\u001b[1m  │\u001b[22m\u001b[39m  SuiteSparse. As this library only supports sparse matrices with\n",
       "\u001b[36m\u001b[1m  │\u001b[22m\u001b[39m  \u001b[36mFloat64\u001b[39m or \u001b[36mComplexF64\u001b[39m elements, as of Julia v1.4 \u001b[36mqr\u001b[39m converts \u001b[36mA\u001b[39m\n",
       "\u001b[36m\u001b[1m  │\u001b[22m\u001b[39m  into a copy that is of type \u001b[36mSparseMatrixCSC{Float64}\u001b[39m or\n",
       "\u001b[36m\u001b[1m  │\u001b[22m\u001b[39m  \u001b[36mSparseMatrixCSC{ComplexF64}\u001b[39m as appropriate.\n",
       "\n",
       "\u001b[1m  Examples\u001b[22m\n",
       "\u001b[1m  ≡≡≡≡≡≡≡≡≡≡\u001b[22m\n",
       "\n",
       "\u001b[36m  julia> A = sparse([1,2,3,4], [1,1,2,2], [1.0,1.0,1.0,1.0])\u001b[39m\n",
       "\u001b[36m  4×2 SparseMatrixCSC{Float64,Int64} with 4 stored entries:\u001b[39m\n",
       "\u001b[36m    [1, 1]  =  1.0\u001b[39m\n",
       "\u001b[36m    [2, 1]  =  1.0\u001b[39m\n",
       "\u001b[36m    [3, 2]  =  1.0\u001b[39m\n",
       "\u001b[36m    [4, 2]  =  1.0\u001b[39m\n",
       "\u001b[36m  \u001b[39m\n",
       "\u001b[36m  julia> qr(A)\u001b[39m\n",
       "\u001b[36m  Base.SparseArrays.SPQR.QRSparse{Float64,Int64}\u001b[39m\n",
       "\u001b[36m  Q factor:\u001b[39m\n",
       "\u001b[36m  4×4 Base.SparseArrays.SPQR.QRSparseQ{Float64,Int64}:\u001b[39m\n",
       "\u001b[36m   -0.707107   0.0        0.0       -0.707107\u001b[39m\n",
       "\u001b[36m    0.0       -0.707107  -0.707107   0.0\u001b[39m\n",
       "\u001b[36m    0.0       -0.707107   0.707107   0.0\u001b[39m\n",
       "\u001b[36m   -0.707107   0.0        0.0        0.707107\u001b[39m\n",
       "\u001b[36m  R factor:\u001b[39m\n",
       "\u001b[36m  2×2 SparseMatrixCSC{Float64,Int64} with 2 stored entries:\u001b[39m\n",
       "\u001b[36m    [1, 1]  =  -1.41421\u001b[39m\n",
       "\u001b[36m    [2, 2]  =  -1.41421\u001b[39m\n",
       "\u001b[36m  Row permutation:\u001b[39m\n",
       "\u001b[36m  4-element Array{Int64,1}:\u001b[39m\n",
       "\u001b[36m   1\u001b[39m\n",
       "\u001b[36m   3\u001b[39m\n",
       "\u001b[36m   4\u001b[39m\n",
       "\u001b[36m   2\u001b[39m\n",
       "\u001b[36m  Column permutation:\u001b[39m\n",
       "\u001b[36m  2-element Array{Int64,1}:\u001b[39m\n",
       "\u001b[36m   1\u001b[39m\n",
       "\u001b[36m   2\u001b[39m"
      ]
     },
     "execution_count": 47,
     "metadata": {},
     "output_type": "execute_result"
    }
   ],
   "source": [
    "?qr"
   ]
  },
  {
   "cell_type": "code",
   "execution_count": 48,
   "metadata": {},
   "outputs": [
    {
     "data": {
      "text/plain": [
       "LinearAlgebra.QRCompactWY{Float64,Array{Float64,2}}\n",
       "Q factor:\n",
       "5×5 LinearAlgebra.QRCompactWYQ{Float64,Array{Float64,2}}:\n",
       " -0.563674    0.0466429   0.182406  -0.804224    0.00690442\n",
       " -0.0367436  -0.916424    0.333546   0.0500771   0.212264\n",
       " -0.59381    -0.155783   -0.113892   0.375449   -0.684973\n",
       " -0.361548    0.35938     0.656933   0.426306    0.356135\n",
       " -0.444515   -0.0675935  -0.641048   0.167384    0.599064\n",
       "R factor:\n",
       "3×3 Array{Float64,2}:\n",
       " -1.15375  -0.923066  -1.46644\n",
       "  0.0      -0.905936   0.0451119\n",
       "  0.0       0.0        0.422428"
      ]
     },
     "execution_count": 48,
     "metadata": {},
     "output_type": "execute_result"
    }
   ],
   "source": [
    "F = qr(A)"
   ]
  },
  {
   "cell_type": "code",
   "execution_count": 49,
   "metadata": {},
   "outputs": [
    {
     "data": {
      "text/plain": [
       "5×5 LinearAlgebra.QRCompactWYQ{Float64,Array{Float64,2}}:\n",
       " -0.563674    0.0466429   0.182406  -0.804224    0.00690442\n",
       " -0.0367436  -0.916424    0.333546   0.0500771   0.212264\n",
       " -0.59381    -0.155783   -0.113892   0.375449   -0.684973\n",
       " -0.361548    0.35938     0.656933   0.426306    0.356135\n",
       " -0.444515   -0.0675935  -0.641048   0.167384    0.599064"
      ]
     },
     "execution_count": 49,
     "metadata": {},
     "output_type": "execute_result"
    }
   ],
   "source": [
    "Q = F.Q"
   ]
  },
  {
   "cell_type": "code",
   "execution_count": 50,
   "metadata": {},
   "outputs": [
    {
     "data": {
      "text/plain": [
       "5×5 Array{Float64,2}:\n",
       "  1.0          -1.38778e-17   0.0           1.52656e-16  -5.55112e-17\n",
       " -1.38778e-17   1.0          -3.46945e-17  -1.73472e-17  -1.38778e-17\n",
       "  0.0          -3.46945e-17   1.0          -6.93889e-17   0.0\n",
       "  1.52656e-16  -1.73472e-17  -6.93889e-17   1.0           0.0\n",
       " -5.55112e-17  -1.38778e-17   0.0           0.0           1.0"
      ]
     },
     "execution_count": 50,
     "metadata": {},
     "output_type": "execute_result"
    }
   ],
   "source": [
    "Q'Q"
   ]
  },
  {
   "cell_type": "code",
   "execution_count": 51,
   "metadata": {},
   "outputs": [
    {
     "data": {
      "text/plain": [
       "3×3 Array{Float64,2}:\n",
       " -1.15375  -0.923066  -1.46644\n",
       "  0.0      -0.905936   0.0451119\n",
       "  0.0       0.0        0.422428"
      ]
     },
     "execution_count": 51,
     "metadata": {},
     "output_type": "execute_result"
    }
   ],
   "source": [
    "R = F.R"
   ]
  },
  {
   "cell_type": "code",
   "execution_count": 52,
   "metadata": {},
   "outputs": [
    {
     "data": {
      "text/plain": [
       "5×3 Array{Float64,2}:\n",
       " 0.650341   0.478053    0.905751\n",
       " 0.0423931  0.864138    0.15344\n",
       " 0.68511    0.689255    0.815647\n",
       " 0.417137   0.00815743  0.823906\n",
       " 0.512861   0.471553    0.378009"
      ]
     },
     "execution_count": 52,
     "metadata": {},
     "output_type": "execute_result"
    }
   ],
   "source": [
    "Q*R"
   ]
  },
  {
   "cell_type": "code",
   "execution_count": 54,
   "metadata": {},
   "outputs": [
    {
     "data": {
      "text/plain": [
       "5×3 Array{Float64,2}:\n",
       " -0.563674    0.0466429   0.182406\n",
       " -0.0367436  -0.916424    0.333546\n",
       " -0.59381    -0.155783   -0.113892\n",
       " -0.361548    0.35938     0.656933\n",
       " -0.444515   -0.0675935  -0.641048"
      ]
     },
     "execution_count": 54,
     "metadata": {},
     "output_type": "execute_result"
    }
   ],
   "source": [
    "Q[:,1:3]"
   ]
  },
  {
   "cell_type": "code",
   "execution_count": 57,
   "metadata": {},
   "outputs": [
    {
     "data": {
      "text/plain": [
       "5×3 Array{Float64,2}:\n",
       " 0.650341   0.478053    0.905751\n",
       " 0.0423931  0.864138    0.15344\n",
       " 0.68511    0.689255    0.815647\n",
       " 0.417137   0.00815743  0.823906\n",
       " 0.512861   0.471553    0.378009"
      ]
     },
     "execution_count": 57,
     "metadata": {},
     "output_type": "execute_result"
    }
   ],
   "source": [
    "Q[:,1:3]*R"
   ]
  },
  {
   "cell_type": "code",
   "execution_count": 53,
   "metadata": {},
   "outputs": [
    {
     "data": {
      "text/plain": [
       "5×3 Array{Float64,2}:\n",
       " 0.650341   0.478053    0.905751\n",
       " 0.0423931  0.864138    0.15344\n",
       " 0.68511    0.689255    0.815647\n",
       " 0.417137   0.00815743  0.823906\n",
       " 0.512861   0.471553    0.378009"
      ]
     },
     "execution_count": 53,
     "metadata": {},
     "output_type": "execute_result"
    }
   ],
   "source": [
    "A"
   ]
  },
  {
   "cell_type": "markdown",
   "metadata": {},
   "source": [
    "---"
   ]
  },
  {
   "cell_type": "markdown",
   "metadata": {},
   "source": [
    "# Eigenvalue decomposition"
   ]
  },
  {
   "cell_type": "code",
   "execution_count": 58,
   "metadata": {},
   "outputs": [
    {
     "data": {
      "text/plain": [
       "3×3 Symmetric{Float64,Array{Float64,2}}:\n",
       " 0.707878  0.856847  0.764471\n",
       " 0.856847  0.239067  0.372003\n",
       " 0.764471  0.372003  0.100968"
      ]
     },
     "execution_count": 58,
     "metadata": {},
     "output_type": "execute_result"
    }
   ],
   "source": [
    "A = Symmetric(rand(3,3))"
   ]
  },
  {
   "cell_type": "code",
   "execution_count": 59,
   "metadata": {},
   "outputs": [
    {
     "name": "stdout",
     "output_type": "stream",
     "text": [
      "search: \u001b[0m\u001b[1me\u001b[22m\u001b[0m\u001b[1mi\u001b[22m\u001b[0m\u001b[1mg\u001b[22m\u001b[0m\u001b[1me\u001b[22m\u001b[0m\u001b[1mn\u001b[22m \u001b[0m\u001b[1me\u001b[22m\u001b[0m\u001b[1mi\u001b[22m\u001b[0m\u001b[1mg\u001b[22m\u001b[0m\u001b[1me\u001b[22m\u001b[0m\u001b[1mn\u001b[22m! \u001b[0m\u001b[1mE\u001b[22m\u001b[0m\u001b[1mi\u001b[22m\u001b[0m\u001b[1mg\u001b[22m\u001b[0m\u001b[1me\u001b[22m\u001b[0m\u001b[1mn\u001b[22m G\u001b[0m\u001b[1me\u001b[22mneral\u001b[0m\u001b[1mi\u001b[22mzedEi\u001b[0m\u001b[1mg\u001b[22m\u001b[0m\u001b[1me\u001b[22m\u001b[0m\u001b[1mn\u001b[22m \u001b[0m\u001b[1me\u001b[22m\u001b[0m\u001b[1mi\u001b[22m\u001b[0m\u001b[1mg\u001b[22mv\u001b[0m\u001b[1me\u001b[22mcs l\u001b[0m\u001b[1me\u001b[22mad\u001b[0m\u001b[1mi\u001b[22mn\u001b[0m\u001b[1mg\u001b[22m_z\u001b[0m\u001b[1me\u001b[22mros l\u001b[0m\u001b[1me\u001b[22mad\u001b[0m\u001b[1mi\u001b[22mn\u001b[0m\u001b[1mg\u001b[22m_on\u001b[0m\u001b[1me\u001b[22ms\n",
      "\n"
     ]
    },
    {
     "data": {
      "text/latex": [
       "\\begin{verbatim}\n",
       "eigen(A; permute::Bool=true, scale::Bool=true, sortby) -> Eigen\n",
       "\\end{verbatim}\n",
       "Computes the eigenvalue decomposition of \\texttt{A}, returning an \\href{@ref}{\\texttt{Eigen}} factorization object \\texttt{F} which contains the eigenvalues in \\texttt{F.values} and the eigenvectors in the columns of the matrix \\texttt{F.vectors}. (The \\texttt{k}th eigenvector can be obtained from the slice \\texttt{F.vectors[:, k]}.)\n",
       "\n",
       "Iterating the decomposition produces the components \\texttt{F.values} and \\texttt{F.vectors}.\n",
       "\n",
       "The following functions are available for \\texttt{Eigen} objects: \\href{@ref}{\\texttt{inv}}, \\href{@ref}{\\texttt{det}}, and \\href{@ref}{\\texttt{isposdef}}.\n",
       "\n",
       "For general nonsymmetric matrices it is possible to specify how the matrix is balanced before the eigenvector calculation. The option \\texttt{permute=true} permutes the matrix to become closer to upper triangular, and \\texttt{scale=true} scales the matrix by its diagonal elements to make rows and columns more equal in norm. The default is \\texttt{true} for both options.\n",
       "\n",
       "By default, the eigenvalues and vectors are sorted lexicographically by \\texttt{(real(λ),imag(λ))}. A different comparison function \\texttt{by(λ)} can be passed to \\texttt{sortby}, or you can pass \\texttt{sortby=nothing} to leave the eigenvalues in an arbitrary order.   Some special matrix types (e.g. \\href{@ref}{\\texttt{Diagonal}} or \\href{@ref}{\\texttt{SymTridiagonal}}) may implement their own sorting convention and not accept a \\texttt{sortby} keyword.\n",
       "\n",
       "\\section{Examples}\n",
       "\\begin{verbatim}\n",
       "julia> F = eigen([1.0 0.0 0.0; 0.0 3.0 0.0; 0.0 0.0 18.0])\n",
       "Eigen{Float64,Float64,Array{Float64,2},Array{Float64,1}}\n",
       "values:\n",
       "3-element Array{Float64,1}:\n",
       "  1.0\n",
       "  3.0\n",
       " 18.0\n",
       "vectors:\n",
       "3×3 Array{Float64,2}:\n",
       " 1.0  0.0  0.0\n",
       " 0.0  1.0  0.0\n",
       " 0.0  0.0  1.0\n",
       "\n",
       "julia> F.values\n",
       "3-element Array{Float64,1}:\n",
       "  1.0\n",
       "  3.0\n",
       " 18.0\n",
       "\n",
       "julia> F.vectors\n",
       "3×3 Array{Float64,2}:\n",
       " 1.0  0.0  0.0\n",
       " 0.0  1.0  0.0\n",
       " 0.0  0.0  1.0\n",
       "\n",
       "julia> vals, vecs = F; # destructuring via iteration\n",
       "\n",
       "julia> vals == F.values && vecs == F.vectors\n",
       "true\n",
       "\\end{verbatim}\n",
       "\\rule{\\textwidth}{1pt}\n",
       "\\begin{verbatim}\n",
       "eigen(A, B) -> GeneralizedEigen\n",
       "\\end{verbatim}\n",
       "Computes the generalized eigenvalue decomposition of \\texttt{A} and \\texttt{B}, returning a \\href{@ref}{\\texttt{GeneralizedEigen}} factorization object \\texttt{F} which contains the generalized eigenvalues in \\texttt{F.values} and the generalized eigenvectors in the columns of the matrix \\texttt{F.vectors}. (The \\texttt{k}th generalized eigenvector can be obtained from the slice \\texttt{F.vectors[:, k]}.)\n",
       "\n",
       "Iterating the decomposition produces the components \\texttt{F.values} and \\texttt{F.vectors}.\n",
       "\n",
       "Any keyword arguments passed to \\texttt{eigen} are passed through to the lower-level \\href{@ref}{\\texttt{eigen!}} function.\n",
       "\n",
       "\\section{Examples}\n",
       "\\begin{verbatim}\n",
       "julia> A = [1 0; 0 -1]\n",
       "2×2 Array{Int64,2}:\n",
       " 1   0\n",
       " 0  -1\n",
       "\n",
       "julia> B = [0 1; 1 0]\n",
       "2×2 Array{Int64,2}:\n",
       " 0  1\n",
       " 1  0\n",
       "\n",
       "julia> F = eigen(A, B);\n",
       "\n",
       "julia> F.values\n",
       "2-element Array{Complex{Float64},1}:\n",
       " 0.0 - 1.0im\n",
       " 0.0 + 1.0im\n",
       "\n",
       "julia> F.vectors\n",
       "2×2 Array{Complex{Float64},2}:\n",
       "  0.0+1.0im   0.0-1.0im\n",
       " -1.0+0.0im  -1.0-0.0im\n",
       "\n",
       "julia> vals, vecs = F; # destructuring via iteration\n",
       "\n",
       "julia> vals == F.values && vecs == F.vectors\n",
       "true\n",
       "\\end{verbatim}\n",
       "\\rule{\\textwidth}{1pt}\n",
       "\\begin{verbatim}\n",
       "eigen(A::Union{SymTridiagonal, Hermitian, Symmetric}, irange::UnitRange) -> Eigen\n",
       "\\end{verbatim}\n",
       "Computes the eigenvalue decomposition of \\texttt{A}, returning an \\href{@ref}{\\texttt{Eigen}} factorization object \\texttt{F} which contains the eigenvalues in \\texttt{F.values} and the eigenvectors in the columns of the matrix \\texttt{F.vectors}. (The \\texttt{k}th eigenvector can be obtained from the slice \\texttt{F.vectors[:, k]}.)\n",
       "\n",
       "Iterating the decomposition produces the components \\texttt{F.values} and \\texttt{F.vectors}.\n",
       "\n",
       "The following functions are available for \\texttt{Eigen} objects: \\href{@ref}{\\texttt{inv}}, \\href{@ref}{\\texttt{det}}, and \\href{@ref}{\\texttt{isposdef}}.\n",
       "\n",
       "The \\href{@ref}{\\texttt{UnitRange}} \\texttt{irange} specifies indices of the sorted eigenvalues to search for.\n",
       "\n",
       "\\begin{quote}\n",
       "\\textbf{note}\n",
       "\n",
       "Note\n",
       "\n",
       "If \\texttt{irange} is not \\texttt{1:n}, where \\texttt{n} is the dimension of \\texttt{A}, then the returned factorization will be a \\emph{truncated} factorization.\n",
       "\n",
       "\\end{quote}\n",
       "\\rule{\\textwidth}{1pt}\n",
       "\\begin{verbatim}\n",
       "eigen(A::Union{SymTridiagonal, Hermitian, Symmetric}, vl::Real, vu::Real) -> Eigen\n",
       "\\end{verbatim}\n",
       "Computes the eigenvalue decomposition of \\texttt{A}, returning an \\href{@ref}{\\texttt{Eigen}} factorization object \\texttt{F} which contains the eigenvalues in \\texttt{F.values} and the eigenvectors in the columns of the matrix \\texttt{F.vectors}. (The \\texttt{k}th eigenvector can be obtained from the slice \\texttt{F.vectors[:, k]}.)\n",
       "\n",
       "Iterating the decomposition produces the components \\texttt{F.values} and \\texttt{F.vectors}.\n",
       "\n",
       "The following functions are available for \\texttt{Eigen} objects: \\href{@ref}{\\texttt{inv}}, \\href{@ref}{\\texttt{det}}, and \\href{@ref}{\\texttt{isposdef}}.\n",
       "\n",
       "\\texttt{vl} is the lower bound of the window of eigenvalues to search for, and \\texttt{vu} is the upper bound.\n",
       "\n",
       "\\begin{quote}\n",
       "\\textbf{note}\n",
       "\n",
       "Note\n",
       "\n",
       "If [\\texttt{vl}, \\texttt{vu}] does not contain all eigenvalues of \\texttt{A}, then the returned factorization will be a \\emph{truncated} factorization.\n",
       "\n",
       "\\end{quote}\n"
      ],
      "text/markdown": [
       "```\n",
       "eigen(A; permute::Bool=true, scale::Bool=true, sortby) -> Eigen\n",
       "```\n",
       "\n",
       "Computes the eigenvalue decomposition of `A`, returning an [`Eigen`](@ref) factorization object `F` which contains the eigenvalues in `F.values` and the eigenvectors in the columns of the matrix `F.vectors`. (The `k`th eigenvector can be obtained from the slice `F.vectors[:, k]`.)\n",
       "\n",
       "Iterating the decomposition produces the components `F.values` and `F.vectors`.\n",
       "\n",
       "The following functions are available for `Eigen` objects: [`inv`](@ref), [`det`](@ref), and [`isposdef`](@ref).\n",
       "\n",
       "For general nonsymmetric matrices it is possible to specify how the matrix is balanced before the eigenvector calculation. The option `permute=true` permutes the matrix to become closer to upper triangular, and `scale=true` scales the matrix by its diagonal elements to make rows and columns more equal in norm. The default is `true` for both options.\n",
       "\n",
       "By default, the eigenvalues and vectors are sorted lexicographically by `(real(λ),imag(λ))`. A different comparison function `by(λ)` can be passed to `sortby`, or you can pass `sortby=nothing` to leave the eigenvalues in an arbitrary order.   Some special matrix types (e.g. [`Diagonal`](@ref) or [`SymTridiagonal`](@ref)) may implement their own sorting convention and not accept a `sortby` keyword.\n",
       "\n",
       "# Examples\n",
       "\n",
       "```jldoctest\n",
       "julia> F = eigen([1.0 0.0 0.0; 0.0 3.0 0.0; 0.0 0.0 18.0])\n",
       "Eigen{Float64,Float64,Array{Float64,2},Array{Float64,1}}\n",
       "values:\n",
       "3-element Array{Float64,1}:\n",
       "  1.0\n",
       "  3.0\n",
       " 18.0\n",
       "vectors:\n",
       "3×3 Array{Float64,2}:\n",
       " 1.0  0.0  0.0\n",
       " 0.0  1.0  0.0\n",
       " 0.0  0.0  1.0\n",
       "\n",
       "julia> F.values\n",
       "3-element Array{Float64,1}:\n",
       "  1.0\n",
       "  3.0\n",
       " 18.0\n",
       "\n",
       "julia> F.vectors\n",
       "3×3 Array{Float64,2}:\n",
       " 1.0  0.0  0.0\n",
       " 0.0  1.0  0.0\n",
       " 0.0  0.0  1.0\n",
       "\n",
       "julia> vals, vecs = F; # destructuring via iteration\n",
       "\n",
       "julia> vals == F.values && vecs == F.vectors\n",
       "true\n",
       "```\n",
       "\n",
       "---\n",
       "\n",
       "```\n",
       "eigen(A, B) -> GeneralizedEigen\n",
       "```\n",
       "\n",
       "Computes the generalized eigenvalue decomposition of `A` and `B`, returning a [`GeneralizedEigen`](@ref) factorization object `F` which contains the generalized eigenvalues in `F.values` and the generalized eigenvectors in the columns of the matrix `F.vectors`. (The `k`th generalized eigenvector can be obtained from the slice `F.vectors[:, k]`.)\n",
       "\n",
       "Iterating the decomposition produces the components `F.values` and `F.vectors`.\n",
       "\n",
       "Any keyword arguments passed to `eigen` are passed through to the lower-level [`eigen!`](@ref) function.\n",
       "\n",
       "# Examples\n",
       "\n",
       "```jldoctest\n",
       "julia> A = [1 0; 0 -1]\n",
       "2×2 Array{Int64,2}:\n",
       " 1   0\n",
       " 0  -1\n",
       "\n",
       "julia> B = [0 1; 1 0]\n",
       "2×2 Array{Int64,2}:\n",
       " 0  1\n",
       " 1  0\n",
       "\n",
       "julia> F = eigen(A, B);\n",
       "\n",
       "julia> F.values\n",
       "2-element Array{Complex{Float64},1}:\n",
       " 0.0 - 1.0im\n",
       " 0.0 + 1.0im\n",
       "\n",
       "julia> F.vectors\n",
       "2×2 Array{Complex{Float64},2}:\n",
       "  0.0+1.0im   0.0-1.0im\n",
       " -1.0+0.0im  -1.0-0.0im\n",
       "\n",
       "julia> vals, vecs = F; # destructuring via iteration\n",
       "\n",
       "julia> vals == F.values && vecs == F.vectors\n",
       "true\n",
       "```\n",
       "\n",
       "---\n",
       "\n",
       "```\n",
       "eigen(A::Union{SymTridiagonal, Hermitian, Symmetric}, irange::UnitRange) -> Eigen\n",
       "```\n",
       "\n",
       "Computes the eigenvalue decomposition of `A`, returning an [`Eigen`](@ref) factorization object `F` which contains the eigenvalues in `F.values` and the eigenvectors in the columns of the matrix `F.vectors`. (The `k`th eigenvector can be obtained from the slice `F.vectors[:, k]`.)\n",
       "\n",
       "Iterating the decomposition produces the components `F.values` and `F.vectors`.\n",
       "\n",
       "The following functions are available for `Eigen` objects: [`inv`](@ref), [`det`](@ref), and [`isposdef`](@ref).\n",
       "\n",
       "The [`UnitRange`](@ref) `irange` specifies indices of the sorted eigenvalues to search for.\n",
       "\n",
       "!!! note\n",
       "    If `irange` is not `1:n`, where `n` is the dimension of `A`, then the returned factorization will be a *truncated* factorization.\n",
       "\n",
       "\n",
       "---\n",
       "\n",
       "```\n",
       "eigen(A::Union{SymTridiagonal, Hermitian, Symmetric}, vl::Real, vu::Real) -> Eigen\n",
       "```\n",
       "\n",
       "Computes the eigenvalue decomposition of `A`, returning an [`Eigen`](@ref) factorization object `F` which contains the eigenvalues in `F.values` and the eigenvectors in the columns of the matrix `F.vectors`. (The `k`th eigenvector can be obtained from the slice `F.vectors[:, k]`.)\n",
       "\n",
       "Iterating the decomposition produces the components `F.values` and `F.vectors`.\n",
       "\n",
       "The following functions are available for `Eigen` objects: [`inv`](@ref), [`det`](@ref), and [`isposdef`](@ref).\n",
       "\n",
       "`vl` is the lower bound of the window of eigenvalues to search for, and `vu` is the upper bound.\n",
       "\n",
       "!!! note\n",
       "    If [`vl`, `vu`] does not contain all eigenvalues of `A`, then the returned factorization will be a *truncated* factorization.\n",
       "\n"
      ],
      "text/plain": [
       "\u001b[36m  eigen(A; permute::Bool=true, scale::Bool=true, sortby) -> Eigen\u001b[39m\n",
       "\n",
       "  Computes the eigenvalue decomposition of \u001b[36mA\u001b[39m, returning an \u001b[36mEigen\u001b[39m factorization\n",
       "  object \u001b[36mF\u001b[39m which contains the eigenvalues in \u001b[36mF.values\u001b[39m and the eigenvectors in\n",
       "  the columns of the matrix \u001b[36mF.vectors\u001b[39m. (The \u001b[36mk\u001b[39mth eigenvector can be obtained\n",
       "  from the slice \u001b[36mF.vectors[:, k]\u001b[39m.)\n",
       "\n",
       "  Iterating the decomposition produces the components \u001b[36mF.values\u001b[39m and \u001b[36mF.vectors\u001b[39m.\n",
       "\n",
       "  The following functions are available for \u001b[36mEigen\u001b[39m objects: \u001b[36minv\u001b[39m, \u001b[36mdet\u001b[39m, and\n",
       "  \u001b[36misposdef\u001b[39m.\n",
       "\n",
       "  For general nonsymmetric matrices it is possible to specify how the matrix\n",
       "  is balanced before the eigenvector calculation. The option \u001b[36mpermute=true\u001b[39m\n",
       "  permutes the matrix to become closer to upper triangular, and \u001b[36mscale=true\u001b[39m\n",
       "  scales the matrix by its diagonal elements to make rows and columns more\n",
       "  equal in norm. The default is \u001b[36mtrue\u001b[39m for both options.\n",
       "\n",
       "  By default, the eigenvalues and vectors are sorted lexicographically by\n",
       "  \u001b[36m(real(λ),imag(λ))\u001b[39m. A different comparison function \u001b[36mby(λ)\u001b[39m can be passed to\n",
       "  \u001b[36msortby\u001b[39m, or you can pass \u001b[36msortby=nothing\u001b[39m to leave the eigenvalues in an\n",
       "  arbitrary order. Some special matrix types (e.g. \u001b[36mDiagonal\u001b[39m or \u001b[36mSymTridiagonal\u001b[39m)\n",
       "  may implement their own sorting convention and not accept a \u001b[36msortby\u001b[39m keyword.\n",
       "\n",
       "\u001b[1m  Examples\u001b[22m\n",
       "\u001b[1m  ≡≡≡≡≡≡≡≡≡≡\u001b[22m\n",
       "\n",
       "\u001b[36m  julia> F = eigen([1.0 0.0 0.0; 0.0 3.0 0.0; 0.0 0.0 18.0])\u001b[39m\n",
       "\u001b[36m  Eigen{Float64,Float64,Array{Float64,2},Array{Float64,1}}\u001b[39m\n",
       "\u001b[36m  values:\u001b[39m\n",
       "\u001b[36m  3-element Array{Float64,1}:\u001b[39m\n",
       "\u001b[36m    1.0\u001b[39m\n",
       "\u001b[36m    3.0\u001b[39m\n",
       "\u001b[36m   18.0\u001b[39m\n",
       "\u001b[36m  vectors:\u001b[39m\n",
       "\u001b[36m  3×3 Array{Float64,2}:\u001b[39m\n",
       "\u001b[36m   1.0  0.0  0.0\u001b[39m\n",
       "\u001b[36m   0.0  1.0  0.0\u001b[39m\n",
       "\u001b[36m   0.0  0.0  1.0\u001b[39m\n",
       "\u001b[36m  \u001b[39m\n",
       "\u001b[36m  julia> F.values\u001b[39m\n",
       "\u001b[36m  3-element Array{Float64,1}:\u001b[39m\n",
       "\u001b[36m    1.0\u001b[39m\n",
       "\u001b[36m    3.0\u001b[39m\n",
       "\u001b[36m   18.0\u001b[39m\n",
       "\u001b[36m  \u001b[39m\n",
       "\u001b[36m  julia> F.vectors\u001b[39m\n",
       "\u001b[36m  3×3 Array{Float64,2}:\u001b[39m\n",
       "\u001b[36m   1.0  0.0  0.0\u001b[39m\n",
       "\u001b[36m   0.0  1.0  0.0\u001b[39m\n",
       "\u001b[36m   0.0  0.0  1.0\u001b[39m\n",
       "\u001b[36m  \u001b[39m\n",
       "\u001b[36m  julia> vals, vecs = F; # destructuring via iteration\u001b[39m\n",
       "\u001b[36m  \u001b[39m\n",
       "\u001b[36m  julia> vals == F.values && vecs == F.vectors\u001b[39m\n",
       "\u001b[36m  true\u001b[39m\n",
       "\n",
       "  ────────────────────────────────────────────────────────────────────────────\n",
       "\n",
       "\u001b[36m  eigen(A, B) -> GeneralizedEigen\u001b[39m\n",
       "\n",
       "  Computes the generalized eigenvalue decomposition of \u001b[36mA\u001b[39m and \u001b[36mB\u001b[39m, returning a\n",
       "  \u001b[36mGeneralizedEigen\u001b[39m factorization object \u001b[36mF\u001b[39m which contains the generalized\n",
       "  eigenvalues in \u001b[36mF.values\u001b[39m and the generalized eigenvectors in the columns of\n",
       "  the matrix \u001b[36mF.vectors\u001b[39m. (The \u001b[36mk\u001b[39mth generalized eigenvector can be obtained from\n",
       "  the slice \u001b[36mF.vectors[:, k]\u001b[39m.)\n",
       "\n",
       "  Iterating the decomposition produces the components \u001b[36mF.values\u001b[39m and \u001b[36mF.vectors\u001b[39m.\n",
       "\n",
       "  Any keyword arguments passed to \u001b[36meigen\u001b[39m are passed through to the lower-level\n",
       "  \u001b[36meigen!\u001b[39m function.\n",
       "\n",
       "\u001b[1m  Examples\u001b[22m\n",
       "\u001b[1m  ≡≡≡≡≡≡≡≡≡≡\u001b[22m\n",
       "\n",
       "\u001b[36m  julia> A = [1 0; 0 -1]\u001b[39m\n",
       "\u001b[36m  2×2 Array{Int64,2}:\u001b[39m\n",
       "\u001b[36m   1   0\u001b[39m\n",
       "\u001b[36m   0  -1\u001b[39m\n",
       "\u001b[36m  \u001b[39m\n",
       "\u001b[36m  julia> B = [0 1; 1 0]\u001b[39m\n",
       "\u001b[36m  2×2 Array{Int64,2}:\u001b[39m\n",
       "\u001b[36m   0  1\u001b[39m\n",
       "\u001b[36m   1  0\u001b[39m\n",
       "\u001b[36m  \u001b[39m\n",
       "\u001b[36m  julia> F = eigen(A, B);\u001b[39m\n",
       "\u001b[36m  \u001b[39m\n",
       "\u001b[36m  julia> F.values\u001b[39m\n",
       "\u001b[36m  2-element Array{Complex{Float64},1}:\u001b[39m\n",
       "\u001b[36m   0.0 - 1.0im\u001b[39m\n",
       "\u001b[36m   0.0 + 1.0im\u001b[39m\n",
       "\u001b[36m  \u001b[39m\n",
       "\u001b[36m  julia> F.vectors\u001b[39m\n",
       "\u001b[36m  2×2 Array{Complex{Float64},2}:\u001b[39m\n",
       "\u001b[36m    0.0+1.0im   0.0-1.0im\u001b[39m\n",
       "\u001b[36m   -1.0+0.0im  -1.0-0.0im\u001b[39m\n",
       "\u001b[36m  \u001b[39m\n",
       "\u001b[36m  julia> vals, vecs = F; # destructuring via iteration\u001b[39m\n",
       "\u001b[36m  \u001b[39m\n",
       "\u001b[36m  julia> vals == F.values && vecs == F.vectors\u001b[39m\n",
       "\u001b[36m  true\u001b[39m\n",
       "\n",
       "  ────────────────────────────────────────────────────────────────────────────\n",
       "\n",
       "\u001b[36m  eigen(A::Union{SymTridiagonal, Hermitian, Symmetric}, irange::UnitRange) -> Eigen\u001b[39m\n",
       "\n",
       "  Computes the eigenvalue decomposition of \u001b[36mA\u001b[39m, returning an \u001b[36mEigen\u001b[39m factorization\n",
       "  object \u001b[36mF\u001b[39m which contains the eigenvalues in \u001b[36mF.values\u001b[39m and the eigenvectors in\n",
       "  the columns of the matrix \u001b[36mF.vectors\u001b[39m. (The \u001b[36mk\u001b[39mth eigenvector can be obtained\n",
       "  from the slice \u001b[36mF.vectors[:, k]\u001b[39m.)\n",
       "\n",
       "  Iterating the decomposition produces the components \u001b[36mF.values\u001b[39m and \u001b[36mF.vectors\u001b[39m.\n",
       "\n",
       "  The following functions are available for \u001b[36mEigen\u001b[39m objects: \u001b[36minv\u001b[39m, \u001b[36mdet\u001b[39m, and\n",
       "  \u001b[36misposdef\u001b[39m.\n",
       "\n",
       "  The \u001b[36mUnitRange\u001b[39m \u001b[36mirange\u001b[39m specifies indices of the sorted eigenvalues to search\n",
       "  for.\n",
       "\n",
       "\u001b[36m\u001b[1m  │ \u001b[22m\u001b[39m\u001b[36m\u001b[1mNote\u001b[22m\u001b[39m\n",
       "\u001b[36m\u001b[1m  │\u001b[22m\u001b[39m\n",
       "\u001b[36m\u001b[1m  │\u001b[22m\u001b[39m  If \u001b[36mirange\u001b[39m is not \u001b[36m1:n\u001b[39m, where \u001b[36mn\u001b[39m is the dimension of \u001b[36mA\u001b[39m, then the\n",
       "\u001b[36m\u001b[1m  │\u001b[22m\u001b[39m  returned factorization will be a \u001b[4mtruncated\u001b[24m factorization.\n",
       "\n",
       "  ────────────────────────────────────────────────────────────────────────────\n",
       "\n",
       "\u001b[36m  eigen(A::Union{SymTridiagonal, Hermitian, Symmetric}, vl::Real, vu::Real) -> Eigen\u001b[39m\n",
       "\n",
       "  Computes the eigenvalue decomposition of \u001b[36mA\u001b[39m, returning an \u001b[36mEigen\u001b[39m factorization\n",
       "  object \u001b[36mF\u001b[39m which contains the eigenvalues in \u001b[36mF.values\u001b[39m and the eigenvectors in\n",
       "  the columns of the matrix \u001b[36mF.vectors\u001b[39m. (The \u001b[36mk\u001b[39mth eigenvector can be obtained\n",
       "  from the slice \u001b[36mF.vectors[:, k]\u001b[39m.)\n",
       "\n",
       "  Iterating the decomposition produces the components \u001b[36mF.values\u001b[39m and \u001b[36mF.vectors\u001b[39m.\n",
       "\n",
       "  The following functions are available for \u001b[36mEigen\u001b[39m objects: \u001b[36minv\u001b[39m, \u001b[36mdet\u001b[39m, and\n",
       "  \u001b[36misposdef\u001b[39m.\n",
       "\n",
       "  \u001b[36mvl\u001b[39m is the lower bound of the window of eigenvalues to search for, and \u001b[36mvu\u001b[39m is\n",
       "  the upper bound.\n",
       "\n",
       "\u001b[36m\u001b[1m  │ \u001b[22m\u001b[39m\u001b[36m\u001b[1mNote\u001b[22m\u001b[39m\n",
       "\u001b[36m\u001b[1m  │\u001b[22m\u001b[39m\n",
       "\u001b[36m\u001b[1m  │\u001b[22m\u001b[39m  If [\u001b[36mvl\u001b[39m, \u001b[36mvu\u001b[39m] does not contain all eigenvalues of \u001b[36mA\u001b[39m, then the\n",
       "\u001b[36m\u001b[1m  │\u001b[22m\u001b[39m  returned factorization will be a \u001b[4mtruncated\u001b[24m factorization."
      ]
     },
     "execution_count": 59,
     "metadata": {},
     "output_type": "execute_result"
    }
   ],
   "source": [
    "?eigen"
   ]
  },
  {
   "cell_type": "code",
   "execution_count": 60,
   "metadata": {},
   "outputs": [
    {
     "data": {
      "text/plain": [
       "Eigen{Float64,Float64,Array{Float64,2},Array{Float64,1}}\n",
       "values:\n",
       "3-element Array{Float64,1}:\n",
       " -0.524606217687557\n",
       " -0.2064125183060615\n",
       "  1.778931648745433\n",
       "vectors:\n",
       "3×3 Array{Float64,2}:\n",
       "  0.680423   0.0479872  -0.731247\n",
       " -0.504551  -0.692996   -0.514961\n",
       " -0.531462   0.719343   -0.447318"
      ]
     },
     "execution_count": 60,
     "metadata": {},
     "output_type": "execute_result"
    }
   ],
   "source": [
    "F = eigen(A)"
   ]
  },
  {
   "cell_type": "code",
   "execution_count": 61,
   "metadata": {},
   "outputs": [
    {
     "data": {
      "text/plain": [
       "3×3 Array{Float64,2}:\n",
       "  0.680423   0.0479872  -0.731247\n",
       " -0.504551  -0.692996   -0.514961\n",
       " -0.531462   0.719343   -0.447318"
      ]
     },
     "execution_count": 61,
     "metadata": {},
     "output_type": "execute_result"
    }
   ],
   "source": [
    "Q = F.vectors"
   ]
  },
  {
   "cell_type": "code",
   "execution_count": 63,
   "metadata": {},
   "outputs": [
    {
     "data": {
      "text/plain": [
       "3×3 Diagonal{Float64,Array{Float64,1}}:\n",
       " -0.524606    ⋅         ⋅ \n",
       "   ⋅        -0.206413   ⋅ \n",
       "   ⋅          ⋅        1.77893"
      ]
     },
     "execution_count": 63,
     "metadata": {},
     "output_type": "execute_result"
    }
   ],
   "source": [
    "Λ = Diagonal(F.values)"
   ]
  },
  {
   "cell_type": "code",
   "execution_count": 64,
   "metadata": {},
   "outputs": [
    {
     "data": {
      "text/plain": [
       "3×3 Array{Float64,2}:\n",
       " 1.11022e-16  7.07767e-16  -2.22045e-15\n",
       " 5.55112e-17  4.44089e-16  -7.77156e-16\n",
       " 5.55112e-17  3.60822e-16  -1.77636e-15"
      ]
     },
     "execution_count": 64,
     "metadata": {},
     "output_type": "execute_result"
    }
   ],
   "source": [
    "A*Q - Q*Λ"
   ]
  },
  {
   "cell_type": "code",
   "execution_count": 65,
   "metadata": {},
   "outputs": [
    {
     "data": {
      "text/plain": [
       "3×3 Array{Float64,2}:\n",
       " 0.707878  0.856847  0.764471\n",
       " 0.856847  0.239067  0.372003\n",
       " 0.764471  0.372003  0.100968"
      ]
     },
     "execution_count": 65,
     "metadata": {},
     "output_type": "execute_result"
    }
   ],
   "source": [
    "Q*Λ*Q'"
   ]
  },
  {
   "cell_type": "code",
   "execution_count": 66,
   "metadata": {},
   "outputs": [
    {
     "data": {
      "text/plain": [
       "3×3 Symmetric{Float64,Array{Float64,2}}:\n",
       " 0.707878  0.856847  0.764471\n",
       " 0.856847  0.239067  0.372003\n",
       " 0.764471  0.372003  0.100968"
      ]
     },
     "execution_count": 66,
     "metadata": {},
     "output_type": "execute_result"
    }
   ],
   "source": [
    "A"
   ]
  },
  {
   "cell_type": "code",
   "execution_count": 69,
   "metadata": {},
   "outputs": [
    {
     "data": {
      "text/plain": [
       "3×3 Array{Float64,2}:\n",
       " -0.126716   1.07454   -1.4429\n",
       " -0.680092  -0.377948   0.161127\n",
       "  0.119797  -0.458158  -0.49786"
      ]
     },
     "execution_count": 69,
     "metadata": {},
     "output_type": "execute_result"
    }
   ],
   "source": [
    "A = randn(3,3)"
   ]
  },
  {
   "cell_type": "code",
   "execution_count": 70,
   "metadata": {},
   "outputs": [
    {
     "data": {
      "text/plain": [
       "Eigen{Complex{Float64},Complex{Float64},Array{Complex{Float64},2},Array{Complex{Float64},1}}\n",
       "values:\n",
       "3-element Array{Complex{Float64},1}:\n",
       " -0.7997089733068946 + 0.0im\n",
       " -0.1014073535634013 - 1.0507770291696472im\n",
       " -0.1014073535634013 + 1.0507770291696472im\n",
       "vectors:\n",
       "3×3 Array{Complex{Float64},2}:\n",
       " 0.504329+0.0im  -0.809684-0.0im       -0.809684+0.0im\n",
       " 0.563149+0.0im    0.16515+0.501623im    0.16515-0.501623im\n",
       " 0.654611+0.0im   0.137191-0.21608im    0.137191+0.21608im"
      ]
     },
     "execution_count": 70,
     "metadata": {},
     "output_type": "execute_result"
    }
   ],
   "source": [
    "F = eigen(A)"
   ]
  },
  {
   "cell_type": "code",
   "execution_count": 71,
   "metadata": {},
   "outputs": [
    {
     "data": {
      "text/plain": [
       "3×3 Array{Complex{Float64},2}:\n",
       " 0.504329+0.0im  -0.809684-0.0im       -0.809684+0.0im\n",
       " 0.563149+0.0im    0.16515+0.501623im    0.16515-0.501623im\n",
       " 0.654611+0.0im   0.137191-0.21608im    0.137191+0.21608im"
      ]
     },
     "execution_count": 71,
     "metadata": {},
     "output_type": "execute_result"
    }
   ],
   "source": [
    "X = F.vectors"
   ]
  },
  {
   "cell_type": "code",
   "execution_count": 72,
   "metadata": {},
   "outputs": [
    {
     "data": {
      "text/plain": [
       "3×3 Diagonal{Complex{Float64},Array{Complex{Float64},1}}:\n",
       " -0.799709+0.0im            ⋅                    ⋅    \n",
       "           ⋅      -0.101407-1.05078im            ⋅    \n",
       "           ⋅                ⋅          -0.101407+1.05078im"
      ]
     },
     "execution_count": 72,
     "metadata": {},
     "output_type": "execute_result"
    }
   ],
   "source": [
    "Λ = Diagonal(F.values)"
   ]
  },
  {
   "cell_type": "code",
   "execution_count": 73,
   "metadata": {},
   "outputs": [
    {
     "data": {
      "text/plain": [
       "3×3 Array{Complex{Float64},2}:\n",
       " 5.55112e-17+0.0im   5.55112e-17+6.66134e-16im   5.55112e-17-6.66134e-16im\n",
       " 5.55112e-17+0.0im  -3.33067e-16+2.498e-16im    -3.33067e-16-2.498e-16im\n",
       " 1.11022e-16+0.0im   1.66533e-16-2.91434e-16im   1.66533e-16+2.91434e-16im"
      ]
     },
     "execution_count": 73,
     "metadata": {},
     "output_type": "execute_result"
    }
   ],
   "source": [
    "A*X - X*Λ"
   ]
  },
  {
   "cell_type": "code",
   "execution_count": 74,
   "metadata": {},
   "outputs": [
    {
     "data": {
      "text/plain": [
       "3×3 Array{Complex{Float64},2}:\n",
       " -0.126716+2.22045e-16im    1.07454-4.16334e-17im   -1.4429-2.22045e-16im\n",
       " -0.680092+0.0im          -0.377948-1.11022e-16im  0.161127+5.55112e-17im\n",
       "  0.119797-5.55112e-17im  -0.458158+5.55112e-17im  -0.49786+0.0im"
      ]
     },
     "execution_count": 74,
     "metadata": {},
     "output_type": "execute_result"
    }
   ],
   "source": [
    "X*Λ*inv(X)"
   ]
  },
  {
   "cell_type": "code",
   "execution_count": 75,
   "metadata": {},
   "outputs": [
    {
     "data": {
      "text/plain": [
       "3×3 Array{Complex{Float64},2}:\n",
       " -0.126716+0.0im            1.07454-0.0im   -1.4429+0.0im\n",
       " -0.680092+0.0im          -0.377948+0.0im  0.161127-0.0im\n",
       "  0.119797+1.71398e-17im  -0.458158+0.0im  -0.49786+0.0im"
      ]
     },
     "execution_count": 75,
     "metadata": {},
     "output_type": "execute_result"
    }
   ],
   "source": [
    "(X*Λ)/X"
   ]
  },
  {
   "cell_type": "code",
   "execution_count": 76,
   "metadata": {},
   "outputs": [
    {
     "data": {
      "text/plain": [
       "3×3 Array{Float64,2}:\n",
       " -0.126716   1.07454   -1.4429\n",
       " -0.680092  -0.377948   0.161127\n",
       "  0.119797  -0.458158  -0.49786"
      ]
     },
     "execution_count": 76,
     "metadata": {},
     "output_type": "execute_result"
    }
   ],
   "source": [
    "A"
   ]
  },
  {
   "cell_type": "markdown",
   "metadata": {},
   "source": [
    "---"
   ]
  },
  {
   "cell_type": "markdown",
   "metadata": {},
   "source": [
    "# SVD"
   ]
  },
  {
   "cell_type": "code",
   "execution_count": 77,
   "metadata": {},
   "outputs": [
    {
     "data": {
      "text/plain": [
       "5×3 Array{Float64,2}:\n",
       " -0.906125   1.2299    -0.466516\n",
       " -0.504557  -1.23466    0.0529272\n",
       "  1.55797   -1.16075   -0.518231\n",
       "  0.679285  -0.685737   0.665426\n",
       " -0.15268    0.450566  -1.50688"
      ]
     },
     "execution_count": 77,
     "metadata": {},
     "output_type": "execute_result"
    }
   ],
   "source": [
    "A = randn(5,3)"
   ]
  },
  {
   "cell_type": "code",
   "execution_count": 78,
   "metadata": {},
   "outputs": [
    {
     "name": "stdout",
     "output_type": "stream",
     "text": [
      "search: \u001b[0m\u001b[1ms\u001b[22m\u001b[0m\u001b[1mv\u001b[22m\u001b[0m\u001b[1md\u001b[22m \u001b[0m\u001b[1ms\u001b[22m\u001b[0m\u001b[1mv\u001b[22m\u001b[0m\u001b[1md\u001b[22m! \u001b[0m\u001b[1mS\u001b[22m\u001b[0m\u001b[1mV\u001b[22m\u001b[0m\u001b[1mD\u001b[22m \u001b[0m\u001b[1ms\u001b[22m\u001b[0m\u001b[1mv\u001b[22m\u001b[0m\u001b[1md\u001b[22mvals \u001b[0m\u001b[1ms\u001b[22m\u001b[0m\u001b[1mv\u001b[22m\u001b[0m\u001b[1md\u001b[22mvals! Generalized\u001b[0m\u001b[1mS\u001b[22m\u001b[0m\u001b[1mV\u001b[22m\u001b[0m\u001b[1mD\u001b[22m i\u001b[0m\u001b[1ms\u001b[22m\u001b[0m\u001b[1mv\u001b[22mali\u001b[0m\u001b[1md\u001b[22m Chole\u001b[0m\u001b[1ms\u001b[22mkyPi\u001b[0m\u001b[1mv\u001b[22mote\u001b[0m\u001b[1md\u001b[22m\n",
      "\n"
     ]
    },
    {
     "data": {
      "text/latex": [
       "\\begin{verbatim}\n",
       "svd(A; full::Bool = false, alg::Algorithm = default_svd_alg(A)) -> SVD\n",
       "\\end{verbatim}\n",
       "Compute the singular value decomposition (SVD) of \\texttt{A} and return an \\texttt{SVD} object.\n",
       "\n",
       "\\texttt{U}, \\texttt{S}, \\texttt{V} and \\texttt{Vt} can be obtained from the factorization \\texttt{F} with \\texttt{F.U}, \\texttt{F.S}, \\texttt{F.V} and \\texttt{F.Vt}, such that \\texttt{A = U * Diagonal(S) * Vt}. The algorithm produces \\texttt{Vt} and hence \\texttt{Vt} is more efficient to extract than \\texttt{V}. The singular values in \\texttt{S} are sorted in descending order.\n",
       "\n",
       "Iterating the decomposition produces the components \\texttt{U}, \\texttt{S}, and \\texttt{V}.\n",
       "\n",
       "If \\texttt{full = false} (default), a \"thin\" SVD is returned. For a $M \\times N$ matrix \\texttt{A}, in the full factorization \\texttt{U} is \\texttt{M {\\textbackslash}times M} and \\texttt{V} is \\texttt{N {\\textbackslash}times N}, while in the thin factorization \\texttt{U} is \\texttt{M {\\textbackslash}times K} and \\texttt{V} is \\texttt{N {\\textbackslash}times K}, where \\texttt{K = {\\textbackslash}min(M,N)} is the number of singular values.\n",
       "\n",
       "If \\texttt{alg = DivideAndConquer()} a divide-and-conquer algorithm is used to calculate the SVD. Another (typically slower but more accurate) option is \\texttt{alg = QRIteration()}.\n",
       "\n",
       "\\begin{quote}\n",
       "\\textbf{compat}\n",
       "\n",
       "Julia 1.3\n",
       "\n",
       "The \\texttt{alg} keyword argument requires Julia 1.3 or later.\n",
       "\n",
       "\\end{quote}\n",
       "\\section{Examples}\n",
       "\\begin{verbatim}\n",
       "julia> A = rand(4,3);\n",
       "\n",
       "julia> F = svd(A); # Store the Factorization Object\n",
       "\n",
       "julia> A ≈ F.U * Diagonal(F.S) * F.Vt\n",
       "true\n",
       "\n",
       "julia> U, S, V = F; # destructuring via iteration\n",
       "\n",
       "julia> A ≈ U * Diagonal(S) * V'\n",
       "true\n",
       "\n",
       "julia> Uonly, = svd(A); # Store U only\n",
       "\n",
       "julia> Uonly == U\n",
       "true\n",
       "\\end{verbatim}\n",
       "\\rule{\\textwidth}{1pt}\n",
       "\\begin{verbatim}\n",
       "svd(A, B) -> GeneralizedSVD\n",
       "\\end{verbatim}\n",
       "Compute the generalized SVD of \\texttt{A} and \\texttt{B}, returning a \\texttt{GeneralizedSVD} factorization object \\texttt{F} such that \\texttt{[A;B] = [F.U * F.D1; F.V * F.D2] * F.R0 * F.Q'}\n",
       "\n",
       "\\begin{itemize}\n",
       "\\item \\texttt{U} is a M-by-M orthogonal matrix,\n",
       "\n",
       "\n",
       "\\item \\texttt{V} is a P-by-P orthogonal matrix,\n",
       "\n",
       "\n",
       "\\item \\texttt{Q} is a N-by-N orthogonal matrix,\n",
       "\n",
       "\n",
       "\\item \\texttt{D1} is a M-by-(K+L) diagonal matrix with 1s in the first K entries,\n",
       "\n",
       "\n",
       "\\item \\texttt{D2} is a P-by-(K+L) matrix whose top right L-by-L block is diagonal,\n",
       "\n",
       "\n",
       "\\item \\texttt{R0} is a (K+L)-by-N matrix whose rightmost (K+L)-by-(K+L) block is          nonsingular upper block triangular,\n",
       "\n",
       "\\end{itemize}\n",
       "\\texttt{K+L} is the effective numerical rank of the matrix \\texttt{[A; B]}.\n",
       "\n",
       "Iterating the decomposition produces the components \\texttt{U}, \\texttt{V}, \\texttt{Q}, \\texttt{D1}, \\texttt{D2}, and \\texttt{R0}.\n",
       "\n",
       "The generalized SVD is used in applications such as when one wants to compare how much belongs to \\texttt{A} vs. how much belongs to \\texttt{B}, as in human vs yeast genome, or signal vs noise, or between clusters vs within clusters. (See Edelman and Wang for discussion: https://arxiv.org/abs/1901.00485)\n",
       "\n",
       "It decomposes \\texttt{[A; B]} into \\texttt{[UC; VS]H}, where \\texttt{[UC; VS]} is a natural orthogonal basis for the column space of \\texttt{[A; B]}, and \\texttt{H = RQ'} is a natural non-orthogonal basis for the rowspace of \\texttt{[A;B]}, where the top rows are most closely attributed to the \\texttt{A} matrix, and the bottom to the \\texttt{B} matrix. The multi-cosine/sine matrices \\texttt{C} and \\texttt{S} provide a multi-measure of how much \\texttt{A} vs how much \\texttt{B}, and \\texttt{U} and \\texttt{V} provide directions in which these are measured.\n",
       "\n",
       "\\section{Examples}\n",
       "\\begin{verbatim}\n",
       "julia> A = randn(3,2); B=randn(4,2);\n",
       "\n",
       "julia> F = svd(A, B);\n",
       "\n",
       "julia> U,V,Q,C,S,R = F;\n",
       "\n",
       "julia> H = R*Q';\n",
       "\n",
       "julia> [A; B] ≈ [U*C; V*S]*H\n",
       "true\n",
       "\n",
       "julia> [A; B] ≈ [F.U*F.D1; F.V*F.D2]*F.R0*F.Q'\n",
       "true\n",
       "\n",
       "julia> Uonly, = svd(A,B);\n",
       "\n",
       "julia> U == Uonly\n",
       "true\n",
       "\\end{verbatim}\n"
      ],
      "text/markdown": [
       "```\n",
       "svd(A; full::Bool = false, alg::Algorithm = default_svd_alg(A)) -> SVD\n",
       "```\n",
       "\n",
       "Compute the singular value decomposition (SVD) of `A` and return an `SVD` object.\n",
       "\n",
       "`U`, `S`, `V` and `Vt` can be obtained from the factorization `F` with `F.U`, `F.S`, `F.V` and `F.Vt`, such that `A = U * Diagonal(S) * Vt`. The algorithm produces `Vt` and hence `Vt` is more efficient to extract than `V`. The singular values in `S` are sorted in descending order.\n",
       "\n",
       "Iterating the decomposition produces the components `U`, `S`, and `V`.\n",
       "\n",
       "If `full = false` (default), a \"thin\" SVD is returned. For a $M \\times N$ matrix `A`, in the full factorization `U` is `M \\times M` and `V` is `N \\times N`, while in the thin factorization `U` is `M \\times K` and `V` is `N \\times K`, where `K = \\min(M,N)` is the number of singular values.\n",
       "\n",
       "If `alg = DivideAndConquer()` a divide-and-conquer algorithm is used to calculate the SVD. Another (typically slower but more accurate) option is `alg = QRIteration()`.\n",
       "\n",
       "!!! compat \"Julia 1.3\"\n",
       "    The `alg` keyword argument requires Julia 1.3 or later.\n",
       "\n",
       "\n",
       "# Examples\n",
       "\n",
       "```jldoctest\n",
       "julia> A = rand(4,3);\n",
       "\n",
       "julia> F = svd(A); # Store the Factorization Object\n",
       "\n",
       "julia> A ≈ F.U * Diagonal(F.S) * F.Vt\n",
       "true\n",
       "\n",
       "julia> U, S, V = F; # destructuring via iteration\n",
       "\n",
       "julia> A ≈ U * Diagonal(S) * V'\n",
       "true\n",
       "\n",
       "julia> Uonly, = svd(A); # Store U only\n",
       "\n",
       "julia> Uonly == U\n",
       "true\n",
       "```\n",
       "\n",
       "---\n",
       "\n",
       "```\n",
       "svd(A, B) -> GeneralizedSVD\n",
       "```\n",
       "\n",
       "Compute the generalized SVD of `A` and `B`, returning a `GeneralizedSVD` factorization object `F` such that `[A;B] = [F.U * F.D1; F.V * F.D2] * F.R0 * F.Q'`\n",
       "\n",
       "  * `U` is a M-by-M orthogonal matrix,\n",
       "  * `V` is a P-by-P orthogonal matrix,\n",
       "  * `Q` is a N-by-N orthogonal matrix,\n",
       "  * `D1` is a M-by-(K+L) diagonal matrix with 1s in the first K entries,\n",
       "  * `D2` is a P-by-(K+L) matrix whose top right L-by-L block is diagonal,\n",
       "  * `R0` is a (K+L)-by-N matrix whose rightmost (K+L)-by-(K+L) block is          nonsingular upper block triangular,\n",
       "\n",
       "`K+L` is the effective numerical rank of the matrix `[A; B]`.\n",
       "\n",
       "Iterating the decomposition produces the components `U`, `V`, `Q`, `D1`, `D2`, and `R0`.\n",
       "\n",
       "The generalized SVD is used in applications such as when one wants to compare how much belongs to `A` vs. how much belongs to `B`, as in human vs yeast genome, or signal vs noise, or between clusters vs within clusters. (See Edelman and Wang for discussion: https://arxiv.org/abs/1901.00485)\n",
       "\n",
       "It decomposes `[A; B]` into `[UC; VS]H`, where `[UC; VS]` is a natural orthogonal basis for the column space of `[A; B]`, and `H = RQ'` is a natural non-orthogonal basis for the rowspace of `[A;B]`, where the top rows are most closely attributed to the `A` matrix, and the bottom to the `B` matrix. The multi-cosine/sine matrices `C` and `S` provide a multi-measure of how much `A` vs how much `B`, and `U` and `V` provide directions in which these are measured.\n",
       "\n",
       "# Examples\n",
       "\n",
       "```jldoctest\n",
       "julia> A = randn(3,2); B=randn(4,2);\n",
       "\n",
       "julia> F = svd(A, B);\n",
       "\n",
       "julia> U,V,Q,C,S,R = F;\n",
       "\n",
       "julia> H = R*Q';\n",
       "\n",
       "julia> [A; B] ≈ [U*C; V*S]*H\n",
       "true\n",
       "\n",
       "julia> [A; B] ≈ [F.U*F.D1; F.V*F.D2]*F.R0*F.Q'\n",
       "true\n",
       "\n",
       "julia> Uonly, = svd(A,B);\n",
       "\n",
       "julia> U == Uonly\n",
       "true\n",
       "```\n"
      ],
      "text/plain": [
       "\u001b[36m  svd(A; full::Bool = false, alg::Algorithm = default_svd_alg(A)) -> SVD\u001b[39m\n",
       "\n",
       "  Compute the singular value decomposition (SVD) of \u001b[36mA\u001b[39m and return an \u001b[36mSVD\u001b[39m\n",
       "  object.\n",
       "\n",
       "  \u001b[36mU\u001b[39m, \u001b[36mS\u001b[39m, \u001b[36mV\u001b[39m and \u001b[36mVt\u001b[39m can be obtained from the factorization \u001b[36mF\u001b[39m with \u001b[36mF.U\u001b[39m, \u001b[36mF.S\u001b[39m, \u001b[36mF.V\u001b[39m\n",
       "  and \u001b[36mF.Vt\u001b[39m, such that \u001b[36mA = U * Diagonal(S) * Vt\u001b[39m. The algorithm produces \u001b[36mVt\u001b[39m and\n",
       "  hence \u001b[36mVt\u001b[39m is more efficient to extract than \u001b[36mV\u001b[39m. The singular values in \u001b[36mS\u001b[39m are\n",
       "  sorted in descending order.\n",
       "\n",
       "  Iterating the decomposition produces the components \u001b[36mU\u001b[39m, \u001b[36mS\u001b[39m, and \u001b[36mV\u001b[39m.\n",
       "\n",
       "  If \u001b[36mfull = false\u001b[39m (default), a \"thin\" SVD is returned. For a \u001b[35mM \\times N\u001b[39m matrix\n",
       "  \u001b[36mA\u001b[39m, in the full factorization \u001b[36mU\u001b[39m is \u001b[36mM \\times M\u001b[39m and \u001b[36mV\u001b[39m is \u001b[36mN \\times N\u001b[39m, while in\n",
       "  the thin factorization \u001b[36mU\u001b[39m is \u001b[36mM \\times K\u001b[39m and \u001b[36mV\u001b[39m is \u001b[36mN \\times K\u001b[39m, where \u001b[36mK =\n",
       "  \\min(M,N)\u001b[39m is the number of singular values.\n",
       "\n",
       "  If \u001b[36malg = DivideAndConquer()\u001b[39m a divide-and-conquer algorithm is used to\n",
       "  calculate the SVD. Another (typically slower but more accurate) option is\n",
       "  \u001b[36malg = QRIteration()\u001b[39m.\n",
       "\n",
       "\u001b[39m\u001b[1m  │ \u001b[22m\u001b[39m\u001b[1mJulia 1.3\u001b[22m\n",
       "\u001b[39m\u001b[1m  │\u001b[22m\n",
       "\u001b[39m\u001b[1m  │\u001b[22m  The \u001b[36malg\u001b[39m keyword argument requires Julia 1.3 or later.\n",
       "\n",
       "\u001b[1m  Examples\u001b[22m\n",
       "\u001b[1m  ≡≡≡≡≡≡≡≡≡≡\u001b[22m\n",
       "\n",
       "\u001b[36m  julia> A = rand(4,3);\u001b[39m\n",
       "\u001b[36m  \u001b[39m\n",
       "\u001b[36m  julia> F = svd(A); # Store the Factorization Object\u001b[39m\n",
       "\u001b[36m  \u001b[39m\n",
       "\u001b[36m  julia> A ≈ F.U * Diagonal(F.S) * F.Vt\u001b[39m\n",
       "\u001b[36m  true\u001b[39m\n",
       "\u001b[36m  \u001b[39m\n",
       "\u001b[36m  julia> U, S, V = F; # destructuring via iteration\u001b[39m\n",
       "\u001b[36m  \u001b[39m\n",
       "\u001b[36m  julia> A ≈ U * Diagonal(S) * V'\u001b[39m\n",
       "\u001b[36m  true\u001b[39m\n",
       "\u001b[36m  \u001b[39m\n",
       "\u001b[36m  julia> Uonly, = svd(A); # Store U only\u001b[39m\n",
       "\u001b[36m  \u001b[39m\n",
       "\u001b[36m  julia> Uonly == U\u001b[39m\n",
       "\u001b[36m  true\u001b[39m\n",
       "\n",
       "  ────────────────────────────────────────────────────────────────────────────\n",
       "\n",
       "\u001b[36m  svd(A, B) -> GeneralizedSVD\u001b[39m\n",
       "\n",
       "  Compute the generalized SVD of \u001b[36mA\u001b[39m and \u001b[36mB\u001b[39m, returning a \u001b[36mGeneralizedSVD\u001b[39m\n",
       "  factorization object \u001b[36mF\u001b[39m such that \u001b[36m[A;B] = [F.U * F.D1; F.V * F.D2] * F.R0 *\n",
       "  F.Q'\u001b[39m\n",
       "\n",
       "    •    \u001b[36mU\u001b[39m is a M-by-M orthogonal matrix,\n",
       "\n",
       "    •    \u001b[36mV\u001b[39m is a P-by-P orthogonal matrix,\n",
       "\n",
       "    •    \u001b[36mQ\u001b[39m is a N-by-N orthogonal matrix,\n",
       "\n",
       "    •    \u001b[36mD1\u001b[39m is a M-by-(K+L) diagonal matrix with 1s in the first K entries,\n",
       "\n",
       "    •    \u001b[36mD2\u001b[39m is a P-by-(K+L) matrix whose top right L-by-L block is\n",
       "        diagonal,\n",
       "\n",
       "    •    \u001b[36mR0\u001b[39m is a (K+L)-by-N matrix whose rightmost (K+L)-by-(K+L) block is\n",
       "        nonsingular upper block triangular,\n",
       "\n",
       "  \u001b[36mK+L\u001b[39m is the effective numerical rank of the matrix \u001b[36m[A; B]\u001b[39m.\n",
       "\n",
       "  Iterating the decomposition produces the components \u001b[36mU\u001b[39m, \u001b[36mV\u001b[39m, \u001b[36mQ\u001b[39m, \u001b[36mD1\u001b[39m, \u001b[36mD2\u001b[39m, and \u001b[36mR0\u001b[39m.\n",
       "\n",
       "  The generalized SVD is used in applications such as when one wants to\n",
       "  compare how much belongs to \u001b[36mA\u001b[39m vs. how much belongs to \u001b[36mB\u001b[39m, as in human vs\n",
       "  yeast genome, or signal vs noise, or between clusters vs within clusters.\n",
       "  (See Edelman and Wang for discussion: https://arxiv.org/abs/1901.00485)\n",
       "\n",
       "  It decomposes \u001b[36m[A; B]\u001b[39m into \u001b[36m[UC; VS]H\u001b[39m, where \u001b[36m[UC; VS]\u001b[39m is a natural orthogonal\n",
       "  basis for the column space of \u001b[36m[A; B]\u001b[39m, and \u001b[36mH = RQ'\u001b[39m is a natural\n",
       "  non-orthogonal basis for the rowspace of \u001b[36m[A;B]\u001b[39m, where the top rows are most\n",
       "  closely attributed to the \u001b[36mA\u001b[39m matrix, and the bottom to the \u001b[36mB\u001b[39m matrix. The\n",
       "  multi-cosine/sine matrices \u001b[36mC\u001b[39m and \u001b[36mS\u001b[39m provide a multi-measure of how much \u001b[36mA\u001b[39m vs\n",
       "  how much \u001b[36mB\u001b[39m, and \u001b[36mU\u001b[39m and \u001b[36mV\u001b[39m provide directions in which these are measured.\n",
       "\n",
       "\u001b[1m  Examples\u001b[22m\n",
       "\u001b[1m  ≡≡≡≡≡≡≡≡≡≡\u001b[22m\n",
       "\n",
       "\u001b[36m  julia> A = randn(3,2); B=randn(4,2);\u001b[39m\n",
       "\u001b[36m  \u001b[39m\n",
       "\u001b[36m  julia> F = svd(A, B);\u001b[39m\n",
       "\u001b[36m  \u001b[39m\n",
       "\u001b[36m  julia> U,V,Q,C,S,R = F;\u001b[39m\n",
       "\u001b[36m  \u001b[39m\n",
       "\u001b[36m  julia> H = R*Q';\u001b[39m\n",
       "\u001b[36m  \u001b[39m\n",
       "\u001b[36m  julia> [A; B] ≈ [U*C; V*S]*H\u001b[39m\n",
       "\u001b[36m  true\u001b[39m\n",
       "\u001b[36m  \u001b[39m\n",
       "\u001b[36m  julia> [A; B] ≈ [F.U*F.D1; F.V*F.D2]*F.R0*F.Q'\u001b[39m\n",
       "\u001b[36m  true\u001b[39m\n",
       "\u001b[36m  \u001b[39m\n",
       "\u001b[36m  julia> Uonly, = svd(A,B);\u001b[39m\n",
       "\u001b[36m  \u001b[39m\n",
       "\u001b[36m  julia> U == Uonly\u001b[39m\n",
       "\u001b[36m  true\u001b[39m"
      ]
     },
     "execution_count": 78,
     "metadata": {},
     "output_type": "execute_result"
    }
   ],
   "source": [
    "?svd"
   ]
  },
  {
   "cell_type": "code",
   "execution_count": 79,
   "metadata": {},
   "outputs": [
    {
     "data": {
      "text/plain": [
       "SVD{Float64,Float64,Array{Float64,2}}\n",
       "U factor:\n",
       "5×3 Array{Float64,2}:\n",
       " -0.57549   -0.0593737   0.0164534\n",
       "  0.233998   0.166257   -0.937594\n",
       "  0.614462  -0.599628    0.125886\n",
       "  0.393425   0.203207    0.200371\n",
       " -0.285848  -0.753649   -0.254265\n",
       "singular values:\n",
       "3-element Array{Float64,1}:\n",
       " 2.769313212577829\n",
       " 1.7685726217665514\n",
       " 1.2044994865302334\n",
       "Vt factor:\n",
       "3×3 Array{Float64,2}:\n",
       "  0.603618  -0.761387   0.236506\n",
       " -0.402126  -0.0345993  0.91493\n",
       "  0.688433   0.647374   0.327058"
      ]
     },
     "execution_count": 79,
     "metadata": {},
     "output_type": "execute_result"
    }
   ],
   "source": [
    "F = svd(A)"
   ]
  },
  {
   "cell_type": "code",
   "execution_count": 81,
   "metadata": {},
   "outputs": [
    {
     "data": {
      "text/plain": [
       "SVD{Float64,Float64,Array{Float64,2}}\n",
       "U factor:\n",
       "5×5 Array{Float64,2}:\n",
       " -0.57549   -0.0593737   0.0164534  0.529192   -0.62046\n",
       "  0.233998   0.166257   -0.937594   0.132318   -0.144957\n",
       "  0.614462  -0.599628    0.125886   0.0145312  -0.496815\n",
       "  0.393425   0.203207    0.200371   0.814838    0.315934\n",
       " -0.285848  -0.753649   -0.254265   0.195643    0.497371\n",
       "singular values:\n",
       "3-element Array{Float64,1}:\n",
       " 2.769313212577829\n",
       " 1.7685726217665514\n",
       " 1.2044994865302334\n",
       "Vt factor:\n",
       "3×3 Array{Float64,2}:\n",
       "  0.603618  -0.761387   0.236506\n",
       " -0.402126  -0.0345993  0.91493\n",
       "  0.688433   0.647374   0.327058"
      ]
     },
     "execution_count": 81,
     "metadata": {},
     "output_type": "execute_result"
    }
   ],
   "source": [
    "F = svd(A, full=true)"
   ]
  },
  {
   "cell_type": "code",
   "execution_count": 82,
   "metadata": {},
   "outputs": [
    {
     "data": {
      "text/plain": [
       "5×5 Array{Float64,2}:\n",
       " -0.57549   -0.0593737   0.0164534  0.529192   -0.62046\n",
       "  0.233998   0.166257   -0.937594   0.132318   -0.144957\n",
       "  0.614462  -0.599628    0.125886   0.0145312  -0.496815\n",
       "  0.393425   0.203207    0.200371   0.814838    0.315934\n",
       " -0.285848  -0.753649   -0.254265   0.195643    0.497371"
      ]
     },
     "execution_count": 82,
     "metadata": {},
     "output_type": "execute_result"
    }
   ],
   "source": [
    "U = F.U"
   ]
  },
  {
   "cell_type": "code",
   "execution_count": 87,
   "metadata": {},
   "outputs": [
    {
     "data": {
      "text/plain": [
       "5×3 Array{Float64,2}:\n",
       " 2.76931  0.0      0.0\n",
       " 0.0      1.76857  0.0\n",
       " 0.0      0.0      1.2045\n",
       " 0.0      0.0      0.0\n",
       " 0.0      0.0      0.0"
      ]
     },
     "execution_count": 87,
     "metadata": {},
     "output_type": "execute_result"
    }
   ],
   "source": [
    "Σ = diagm(5, 3, F.S)"
   ]
  },
  {
   "cell_type": "code",
   "execution_count": 88,
   "metadata": {},
   "outputs": [
    {
     "data": {
      "text/plain": [
       "3×3 Adjoint{Float64,Array{Float64,2}}:\n",
       "  0.603618  -0.402126   0.688433\n",
       " -0.761387  -0.0345993  0.647374\n",
       "  0.236506   0.91493    0.327058"
      ]
     },
     "execution_count": 88,
     "metadata": {},
     "output_type": "execute_result"
    }
   ],
   "source": [
    "V = F.V"
   ]
  },
  {
   "cell_type": "code",
   "execution_count": 89,
   "metadata": {},
   "outputs": [
    {
     "data": {
      "text/plain": [
       "5×3 Array{Float64,2}:\n",
       " -0.906125   1.2299    -0.466516\n",
       " -0.504557  -1.23466    0.0529272\n",
       "  1.55797   -1.16075   -0.518231\n",
       "  0.679285  -0.685737   0.665426\n",
       " -0.15268    0.450566  -1.50688"
      ]
     },
     "execution_count": 89,
     "metadata": {},
     "output_type": "execute_result"
    }
   ],
   "source": [
    "U*Σ*V'"
   ]
  },
  {
   "cell_type": "code",
   "execution_count": 90,
   "metadata": {},
   "outputs": [
    {
     "data": {
      "text/plain": [
       "5×3 Array{Float64,2}:\n",
       " -0.906125   1.2299    -0.466516\n",
       " -0.504557  -1.23466    0.0529272\n",
       "  1.55797   -1.16075   -0.518231\n",
       "  0.679285  -0.685737   0.665426\n",
       " -0.15268    0.450566  -1.50688"
      ]
     },
     "execution_count": 90,
     "metadata": {},
     "output_type": "execute_result"
    }
   ],
   "source": [
    "A"
   ]
  },
  {
   "cell_type": "code",
   "execution_count": 92,
   "metadata": {},
   "outputs": [
    {
     "data": {
      "text/plain": [
       "3-element Array{Float64,1}:\n",
       " 2.769313212577829\n",
       " 1.7685726217665514\n",
       " 1.2044994865302334"
      ]
     },
     "execution_count": 92,
     "metadata": {},
     "output_type": "execute_result"
    }
   ],
   "source": [
    "σ = F.S"
   ]
  },
  {
   "cell_type": "code",
   "execution_count": 95,
   "metadata": {},
   "outputs": [
    {
     "data": {
      "text/plain": [
       "5×3 Array{Float64,2}:\n",
       " -0.961994   1.21343   -0.376923\n",
       "  0.391153  -0.493389   0.153259\n",
       "  1.02714   -1.2956     0.402448\n",
       "  0.657653  -0.829545   0.257678\n",
       " -0.477825   0.602715  -0.187219"
      ]
     },
     "execution_count": 95,
     "metadata": {},
     "output_type": "execute_result"
    }
   ],
   "source": [
    "σ[1]*U[:,1]*V[:,1]'"
   ]
  },
  {
   "cell_type": "code",
   "execution_count": 96,
   "metadata": {},
   "outputs": [
    {
     "data": {
      "text/plain": [
       "5×3 Array{Float64,2}:\n",
       " -0.919768    1.21707   -0.472997\n",
       "  0.272913   -0.503563   0.422284\n",
       "  1.45359    -1.25891   -0.567823\n",
       "  0.513134   -0.841979   0.586491\n",
       "  0.0581612   0.648832  -1.40671"
      ]
     },
     "execution_count": 96,
     "metadata": {},
     "output_type": "execute_result"
    }
   ],
   "source": [
    "σ[1]*U[:,1]*V[:,1]' + σ[2]*U[:,2]*V[:,2]'"
   ]
  },
  {
   "cell_type": "code",
   "execution_count": 97,
   "metadata": {},
   "outputs": [
    {
     "data": {
      "text/plain": [
       "5×3 Array{Float64,2}:\n",
       " -0.906125   1.2299    -0.466516\n",
       " -0.504557  -1.23466    0.0529272\n",
       "  1.55797   -1.16075   -0.518231\n",
       "  0.679285  -0.685737   0.665426\n",
       " -0.15268    0.450566  -1.50688"
      ]
     },
     "execution_count": 97,
     "metadata": {},
     "output_type": "execute_result"
    }
   ],
   "source": [
    "A"
   ]
  },
  {
   "cell_type": "markdown",
   "metadata": {},
   "source": [
    "---"
   ]
  }
 ],
 "metadata": {
  "kernelspec": {
   "display_name": "Julia 1.5.3",
   "language": "julia",
   "name": "julia-1.5"
  },
  "language_info": {
   "file_extension": ".jl",
   "mimetype": "application/julia",
   "name": "julia",
   "version": "1.5.3"
  }
 },
 "nbformat": 4,
 "nbformat_minor": 4
}
